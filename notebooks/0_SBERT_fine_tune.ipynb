{
  "nbformat": 4,
  "nbformat_minor": 0,
  "metadata": {
    "colab": {
      "name": "SBERT-fine-tune.ipynb",
      "provenance": [],
      "collapsed_sections": []
    },
    "kernelspec": {
      "name": "python3",
      "display_name": "Python 3"
    },
    "language_info": {
      "name": "python"
    },
    "accelerator": "GPU",
    "widgets": {
      "application/vnd.jupyter.widget-state+json": {
        "bcf70daeff934427bafcf588206cdcee": {
          "model_module": "@jupyter-widgets/controls",
          "model_name": "HBoxModel",
          "state": {
            "_view_name": "HBoxView",
            "_dom_classes": [],
            "_model_name": "HBoxModel",
            "_view_module": "@jupyter-widgets/controls",
            "_model_module_version": "1.5.0",
            "_view_count": null,
            "_view_module_version": "1.5.0",
            "box_style": "",
            "layout": "IPY_MODEL_a447923798a64a208d2b489a4a54b1a7",
            "_model_module": "@jupyter-widgets/controls",
            "children": [
              "IPY_MODEL_bd35f2dc81724b96a50dee64fb44c4f7",
              "IPY_MODEL_aba940ed5ffa44638fea45cd744cbe8f"
            ]
          }
        },
        "a447923798a64a208d2b489a4a54b1a7": {
          "model_module": "@jupyter-widgets/base",
          "model_name": "LayoutModel",
          "state": {
            "_view_name": "LayoutView",
            "grid_template_rows": null,
            "right": null,
            "justify_content": null,
            "_view_module": "@jupyter-widgets/base",
            "overflow": null,
            "_model_module_version": "1.2.0",
            "_view_count": null,
            "flex_flow": null,
            "width": null,
            "min_width": null,
            "border": null,
            "align_items": null,
            "bottom": null,
            "_model_module": "@jupyter-widgets/base",
            "top": null,
            "grid_column": null,
            "overflow_y": null,
            "overflow_x": null,
            "grid_auto_flow": null,
            "grid_area": null,
            "grid_template_columns": null,
            "flex": null,
            "_model_name": "LayoutModel",
            "justify_items": null,
            "grid_row": null,
            "max_height": null,
            "align_content": null,
            "visibility": null,
            "align_self": null,
            "height": null,
            "min_height": null,
            "padding": null,
            "grid_auto_rows": null,
            "grid_gap": null,
            "max_width": null,
            "order": null,
            "_view_module_version": "1.2.0",
            "grid_template_areas": null,
            "object_position": null,
            "object_fit": null,
            "grid_auto_columns": null,
            "margin": null,
            "display": null,
            "left": null
          }
        },
        "bd35f2dc81724b96a50dee64fb44c4f7": {
          "model_module": "@jupyter-widgets/controls",
          "model_name": "FloatProgressModel",
          "state": {
            "_view_name": "ProgressView",
            "style": "IPY_MODEL_9320e77ee1be4a088dd3fb53325a4f9b",
            "_dom_classes": [],
            "description": "Downloading: 100%",
            "_model_name": "FloatProgressModel",
            "bar_style": "success",
            "max": 655,
            "_view_module": "@jupyter-widgets/controls",
            "_model_module_version": "1.5.0",
            "value": 655,
            "_view_count": null,
            "_view_module_version": "1.5.0",
            "orientation": "horizontal",
            "min": 0,
            "description_tooltip": null,
            "_model_module": "@jupyter-widgets/controls",
            "layout": "IPY_MODEL_b7c42190238d47f498a2034aa5c02d05"
          }
        },
        "aba940ed5ffa44638fea45cd744cbe8f": {
          "model_module": "@jupyter-widgets/controls",
          "model_name": "HTMLModel",
          "state": {
            "_view_name": "HTMLView",
            "style": "IPY_MODEL_69e18cf9026d401cab81291330e20491",
            "_dom_classes": [],
            "description": "",
            "_model_name": "HTMLModel",
            "placeholder": "​",
            "_view_module": "@jupyter-widgets/controls",
            "_model_module_version": "1.5.0",
            "value": " 655/655 [00:02&lt;00:00, 275B/s]",
            "_view_count": null,
            "_view_module_version": "1.5.0",
            "description_tooltip": null,
            "_model_module": "@jupyter-widgets/controls",
            "layout": "IPY_MODEL_9785015779bb49b4bc13744baba66a17"
          }
        },
        "9320e77ee1be4a088dd3fb53325a4f9b": {
          "model_module": "@jupyter-widgets/controls",
          "model_name": "ProgressStyleModel",
          "state": {
            "_view_name": "StyleView",
            "_model_name": "ProgressStyleModel",
            "description_width": "initial",
            "_view_module": "@jupyter-widgets/base",
            "_model_module_version": "1.5.0",
            "_view_count": null,
            "_view_module_version": "1.2.0",
            "bar_color": null,
            "_model_module": "@jupyter-widgets/controls"
          }
        },
        "b7c42190238d47f498a2034aa5c02d05": {
          "model_module": "@jupyter-widgets/base",
          "model_name": "LayoutModel",
          "state": {
            "_view_name": "LayoutView",
            "grid_template_rows": null,
            "right": null,
            "justify_content": null,
            "_view_module": "@jupyter-widgets/base",
            "overflow": null,
            "_model_module_version": "1.2.0",
            "_view_count": null,
            "flex_flow": null,
            "width": null,
            "min_width": null,
            "border": null,
            "align_items": null,
            "bottom": null,
            "_model_module": "@jupyter-widgets/base",
            "top": null,
            "grid_column": null,
            "overflow_y": null,
            "overflow_x": null,
            "grid_auto_flow": null,
            "grid_area": null,
            "grid_template_columns": null,
            "flex": null,
            "_model_name": "LayoutModel",
            "justify_items": null,
            "grid_row": null,
            "max_height": null,
            "align_content": null,
            "visibility": null,
            "align_self": null,
            "height": null,
            "min_height": null,
            "padding": null,
            "grid_auto_rows": null,
            "grid_gap": null,
            "max_width": null,
            "order": null,
            "_view_module_version": "1.2.0",
            "grid_template_areas": null,
            "object_position": null,
            "object_fit": null,
            "grid_auto_columns": null,
            "margin": null,
            "display": null,
            "left": null
          }
        },
        "69e18cf9026d401cab81291330e20491": {
          "model_module": "@jupyter-widgets/controls",
          "model_name": "DescriptionStyleModel",
          "state": {
            "_view_name": "StyleView",
            "_model_name": "DescriptionStyleModel",
            "description_width": "",
            "_view_module": "@jupyter-widgets/base",
            "_model_module_version": "1.5.0",
            "_view_count": null,
            "_view_module_version": "1.2.0",
            "_model_module": "@jupyter-widgets/controls"
          }
        },
        "9785015779bb49b4bc13744baba66a17": {
          "model_module": "@jupyter-widgets/base",
          "model_name": "LayoutModel",
          "state": {
            "_view_name": "LayoutView",
            "grid_template_rows": null,
            "right": null,
            "justify_content": null,
            "_view_module": "@jupyter-widgets/base",
            "overflow": null,
            "_model_module_version": "1.2.0",
            "_view_count": null,
            "flex_flow": null,
            "width": null,
            "min_width": null,
            "border": null,
            "align_items": null,
            "bottom": null,
            "_model_module": "@jupyter-widgets/base",
            "top": null,
            "grid_column": null,
            "overflow_y": null,
            "overflow_x": null,
            "grid_auto_flow": null,
            "grid_area": null,
            "grid_template_columns": null,
            "flex": null,
            "_model_name": "LayoutModel",
            "justify_items": null,
            "grid_row": null,
            "max_height": null,
            "align_content": null,
            "visibility": null,
            "align_self": null,
            "height": null,
            "min_height": null,
            "padding": null,
            "grid_auto_rows": null,
            "grid_gap": null,
            "max_width": null,
            "order": null,
            "_view_module_version": "1.2.0",
            "grid_template_areas": null,
            "object_position": null,
            "object_fit": null,
            "grid_auto_columns": null,
            "margin": null,
            "display": null,
            "left": null
          }
        },
        "efd012485e814e03abd445fba90f839f": {
          "model_module": "@jupyter-widgets/controls",
          "model_name": "HBoxModel",
          "state": {
            "_view_name": "HBoxView",
            "_dom_classes": [],
            "_model_name": "HBoxModel",
            "_view_module": "@jupyter-widgets/controls",
            "_model_module_version": "1.5.0",
            "_view_count": null,
            "_view_module_version": "1.5.0",
            "box_style": "",
            "layout": "IPY_MODEL_2696f0933983499a9f4f72126681dde7",
            "_model_module": "@jupyter-widgets/controls",
            "children": [
              "IPY_MODEL_582f3781258447d8a4071b21dfb5385a",
              "IPY_MODEL_4e8aa86fdb3f4281a7a141348eb4ec7c"
            ]
          }
        },
        "2696f0933983499a9f4f72126681dde7": {
          "model_module": "@jupyter-widgets/base",
          "model_name": "LayoutModel",
          "state": {
            "_view_name": "LayoutView",
            "grid_template_rows": null,
            "right": null,
            "justify_content": null,
            "_view_module": "@jupyter-widgets/base",
            "overflow": null,
            "_model_module_version": "1.2.0",
            "_view_count": null,
            "flex_flow": null,
            "width": null,
            "min_width": null,
            "border": null,
            "align_items": null,
            "bottom": null,
            "_model_module": "@jupyter-widgets/base",
            "top": null,
            "grid_column": null,
            "overflow_y": null,
            "overflow_x": null,
            "grid_auto_flow": null,
            "grid_area": null,
            "grid_template_columns": null,
            "flex": null,
            "_model_name": "LayoutModel",
            "justify_items": null,
            "grid_row": null,
            "max_height": null,
            "align_content": null,
            "visibility": null,
            "align_self": null,
            "height": null,
            "min_height": null,
            "padding": null,
            "grid_auto_rows": null,
            "grid_gap": null,
            "max_width": null,
            "order": null,
            "_view_module_version": "1.2.0",
            "grid_template_areas": null,
            "object_position": null,
            "object_fit": null,
            "grid_auto_columns": null,
            "margin": null,
            "display": null,
            "left": null
          }
        },
        "582f3781258447d8a4071b21dfb5385a": {
          "model_module": "@jupyter-widgets/controls",
          "model_name": "FloatProgressModel",
          "state": {
            "_view_name": "ProgressView",
            "style": "IPY_MODEL_f8c55fda683945b98ef8a91493107675",
            "_dom_classes": [],
            "description": "Downloading: 100%",
            "_model_name": "FloatProgressModel",
            "bar_style": "success",
            "max": 1780720,
            "_view_module": "@jupyter-widgets/controls",
            "_model_module_version": "1.5.0",
            "value": 1780720,
            "_view_count": null,
            "_view_module_version": "1.5.0",
            "orientation": "horizontal",
            "min": 0,
            "description_tooltip": null,
            "_model_module": "@jupyter-widgets/controls",
            "layout": "IPY_MODEL_eb72a94601844507b140f790cf96143b"
          }
        },
        "4e8aa86fdb3f4281a7a141348eb4ec7c": {
          "model_module": "@jupyter-widgets/controls",
          "model_name": "HTMLModel",
          "state": {
            "_view_name": "HTMLView",
            "style": "IPY_MODEL_f8687d0c60744f45bceabc81652dfbd3",
            "_dom_classes": [],
            "description": "",
            "_model_name": "HTMLModel",
            "placeholder": "​",
            "_view_module": "@jupyter-widgets/controls",
            "_model_module_version": "1.5.0",
            "value": " 1.78M/1.78M [00:01&lt;00:00, 941kB/s]",
            "_view_count": null,
            "_view_module_version": "1.5.0",
            "description_tooltip": null,
            "_model_module": "@jupyter-widgets/controls",
            "layout": "IPY_MODEL_54ec45d8655340978baef08eacaa74fd"
          }
        },
        "f8c55fda683945b98ef8a91493107675": {
          "model_module": "@jupyter-widgets/controls",
          "model_name": "ProgressStyleModel",
          "state": {
            "_view_name": "StyleView",
            "_model_name": "ProgressStyleModel",
            "description_width": "initial",
            "_view_module": "@jupyter-widgets/base",
            "_model_module_version": "1.5.0",
            "_view_count": null,
            "_view_module_version": "1.2.0",
            "bar_color": null,
            "_model_module": "@jupyter-widgets/controls"
          }
        },
        "eb72a94601844507b140f790cf96143b": {
          "model_module": "@jupyter-widgets/base",
          "model_name": "LayoutModel",
          "state": {
            "_view_name": "LayoutView",
            "grid_template_rows": null,
            "right": null,
            "justify_content": null,
            "_view_module": "@jupyter-widgets/base",
            "overflow": null,
            "_model_module_version": "1.2.0",
            "_view_count": null,
            "flex_flow": null,
            "width": null,
            "min_width": null,
            "border": null,
            "align_items": null,
            "bottom": null,
            "_model_module": "@jupyter-widgets/base",
            "top": null,
            "grid_column": null,
            "overflow_y": null,
            "overflow_x": null,
            "grid_auto_flow": null,
            "grid_area": null,
            "grid_template_columns": null,
            "flex": null,
            "_model_name": "LayoutModel",
            "justify_items": null,
            "grid_row": null,
            "max_height": null,
            "align_content": null,
            "visibility": null,
            "align_self": null,
            "height": null,
            "min_height": null,
            "padding": null,
            "grid_auto_rows": null,
            "grid_gap": null,
            "max_width": null,
            "order": null,
            "_view_module_version": "1.2.0",
            "grid_template_areas": null,
            "object_position": null,
            "object_fit": null,
            "grid_auto_columns": null,
            "margin": null,
            "display": null,
            "left": null
          }
        },
        "f8687d0c60744f45bceabc81652dfbd3": {
          "model_module": "@jupyter-widgets/controls",
          "model_name": "DescriptionStyleModel",
          "state": {
            "_view_name": "StyleView",
            "_model_name": "DescriptionStyleModel",
            "description_width": "",
            "_view_module": "@jupyter-widgets/base",
            "_model_module_version": "1.5.0",
            "_view_count": null,
            "_view_module_version": "1.2.0",
            "_model_module": "@jupyter-widgets/controls"
          }
        },
        "54ec45d8655340978baef08eacaa74fd": {
          "model_module": "@jupyter-widgets/base",
          "model_name": "LayoutModel",
          "state": {
            "_view_name": "LayoutView",
            "grid_template_rows": null,
            "right": null,
            "justify_content": null,
            "_view_module": "@jupyter-widgets/base",
            "overflow": null,
            "_model_module_version": "1.2.0",
            "_view_count": null,
            "flex_flow": null,
            "width": null,
            "min_width": null,
            "border": null,
            "align_items": null,
            "bottom": null,
            "_model_module": "@jupyter-widgets/base",
            "top": null,
            "grid_column": null,
            "overflow_y": null,
            "overflow_x": null,
            "grid_auto_flow": null,
            "grid_area": null,
            "grid_template_columns": null,
            "flex": null,
            "_model_name": "LayoutModel",
            "justify_items": null,
            "grid_row": null,
            "max_height": null,
            "align_content": null,
            "visibility": null,
            "align_self": null,
            "height": null,
            "min_height": null,
            "padding": null,
            "grid_auto_rows": null,
            "grid_gap": null,
            "max_width": null,
            "order": null,
            "_view_module_version": "1.2.0",
            "grid_template_areas": null,
            "object_position": null,
            "object_fit": null,
            "grid_auto_columns": null,
            "margin": null,
            "display": null,
            "left": null
          }
        },
        "1ce9a53a622f48768a9b512b31bf1c15": {
          "model_module": "@jupyter-widgets/controls",
          "model_name": "HBoxModel",
          "state": {
            "_view_name": "HBoxView",
            "_dom_classes": [],
            "_model_name": "HBoxModel",
            "_view_module": "@jupyter-widgets/controls",
            "_model_module_version": "1.5.0",
            "_view_count": null,
            "_view_module_version": "1.5.0",
            "box_style": "",
            "layout": "IPY_MODEL_0e65b686ddb8401ca1212d3a78825b98",
            "_model_module": "@jupyter-widgets/controls",
            "children": [
              "IPY_MODEL_3292c7d2becc45b0b74c3200149f79f0",
              "IPY_MODEL_38c8307186984b3fab4e2d462f0d2e6f"
            ]
          }
        },
        "0e65b686ddb8401ca1212d3a78825b98": {
          "model_module": "@jupyter-widgets/base",
          "model_name": "LayoutModel",
          "state": {
            "_view_name": "LayoutView",
            "grid_template_rows": null,
            "right": null,
            "justify_content": null,
            "_view_module": "@jupyter-widgets/base",
            "overflow": null,
            "_model_module_version": "1.2.0",
            "_view_count": null,
            "flex_flow": null,
            "width": null,
            "min_width": null,
            "border": null,
            "align_items": null,
            "bottom": null,
            "_model_module": "@jupyter-widgets/base",
            "top": null,
            "grid_column": null,
            "overflow_y": null,
            "overflow_x": null,
            "grid_auto_flow": null,
            "grid_area": null,
            "grid_template_columns": null,
            "flex": null,
            "_model_name": "LayoutModel",
            "justify_items": null,
            "grid_row": null,
            "max_height": null,
            "align_content": null,
            "visibility": null,
            "align_self": null,
            "height": null,
            "min_height": null,
            "padding": null,
            "grid_auto_rows": null,
            "grid_gap": null,
            "max_width": null,
            "order": null,
            "_view_module_version": "1.2.0",
            "grid_template_areas": null,
            "object_position": null,
            "object_fit": null,
            "grid_auto_columns": null,
            "margin": null,
            "display": null,
            "left": null
          }
        },
        "3292c7d2becc45b0b74c3200149f79f0": {
          "model_module": "@jupyter-widgets/controls",
          "model_name": "FloatProgressModel",
          "state": {
            "_view_name": "ProgressView",
            "style": "IPY_MODEL_86f0a16af7984bebab82d54408471cda",
            "_dom_classes": [],
            "description": "Downloading: 100%",
            "_model_name": "FloatProgressModel",
            "bar_style": "success",
            "max": 112,
            "_view_module": "@jupyter-widgets/controls",
            "_model_module_version": "1.5.0",
            "value": 112,
            "_view_count": null,
            "_view_module_version": "1.5.0",
            "orientation": "horizontal",
            "min": 0,
            "description_tooltip": null,
            "_model_module": "@jupyter-widgets/controls",
            "layout": "IPY_MODEL_2a2d971967b24ac8acef7fd27612bb3b"
          }
        },
        "38c8307186984b3fab4e2d462f0d2e6f": {
          "model_module": "@jupyter-widgets/controls",
          "model_name": "HTMLModel",
          "state": {
            "_view_name": "HTMLView",
            "style": "IPY_MODEL_a74fbc66fcda44d2b2ee192e83454588",
            "_dom_classes": [],
            "description": "",
            "_model_name": "HTMLModel",
            "placeholder": "​",
            "_view_module": "@jupyter-widgets/controls",
            "_model_module_version": "1.5.0",
            "value": " 112/112 [00:00&lt;00:00, 186B/s]",
            "_view_count": null,
            "_view_module_version": "1.5.0",
            "description_tooltip": null,
            "_model_module": "@jupyter-widgets/controls",
            "layout": "IPY_MODEL_fea048160d184eba89a5d048a7baf9d5"
          }
        },
        "86f0a16af7984bebab82d54408471cda": {
          "model_module": "@jupyter-widgets/controls",
          "model_name": "ProgressStyleModel",
          "state": {
            "_view_name": "StyleView",
            "_model_name": "ProgressStyleModel",
            "description_width": "initial",
            "_view_module": "@jupyter-widgets/base",
            "_model_module_version": "1.5.0",
            "_view_count": null,
            "_view_module_version": "1.2.0",
            "bar_color": null,
            "_model_module": "@jupyter-widgets/controls"
          }
        },
        "2a2d971967b24ac8acef7fd27612bb3b": {
          "model_module": "@jupyter-widgets/base",
          "model_name": "LayoutModel",
          "state": {
            "_view_name": "LayoutView",
            "grid_template_rows": null,
            "right": null,
            "justify_content": null,
            "_view_module": "@jupyter-widgets/base",
            "overflow": null,
            "_model_module_version": "1.2.0",
            "_view_count": null,
            "flex_flow": null,
            "width": null,
            "min_width": null,
            "border": null,
            "align_items": null,
            "bottom": null,
            "_model_module": "@jupyter-widgets/base",
            "top": null,
            "grid_column": null,
            "overflow_y": null,
            "overflow_x": null,
            "grid_auto_flow": null,
            "grid_area": null,
            "grid_template_columns": null,
            "flex": null,
            "_model_name": "LayoutModel",
            "justify_items": null,
            "grid_row": null,
            "max_height": null,
            "align_content": null,
            "visibility": null,
            "align_self": null,
            "height": null,
            "min_height": null,
            "padding": null,
            "grid_auto_rows": null,
            "grid_gap": null,
            "max_width": null,
            "order": null,
            "_view_module_version": "1.2.0",
            "grid_template_areas": null,
            "object_position": null,
            "object_fit": null,
            "grid_auto_columns": null,
            "margin": null,
            "display": null,
            "left": null
          }
        },
        "a74fbc66fcda44d2b2ee192e83454588": {
          "model_module": "@jupyter-widgets/controls",
          "model_name": "DescriptionStyleModel",
          "state": {
            "_view_name": "StyleView",
            "_model_name": "DescriptionStyleModel",
            "description_width": "",
            "_view_module": "@jupyter-widgets/base",
            "_model_module_version": "1.5.0",
            "_view_count": null,
            "_view_module_version": "1.2.0",
            "_model_module": "@jupyter-widgets/controls"
          }
        },
        "fea048160d184eba89a5d048a7baf9d5": {
          "model_module": "@jupyter-widgets/base",
          "model_name": "LayoutModel",
          "state": {
            "_view_name": "LayoutView",
            "grid_template_rows": null,
            "right": null,
            "justify_content": null,
            "_view_module": "@jupyter-widgets/base",
            "overflow": null,
            "_model_module_version": "1.2.0",
            "_view_count": null,
            "flex_flow": null,
            "width": null,
            "min_width": null,
            "border": null,
            "align_items": null,
            "bottom": null,
            "_model_module": "@jupyter-widgets/base",
            "top": null,
            "grid_column": null,
            "overflow_y": null,
            "overflow_x": null,
            "grid_auto_flow": null,
            "grid_area": null,
            "grid_template_columns": null,
            "flex": null,
            "_model_name": "LayoutModel",
            "justify_items": null,
            "grid_row": null,
            "max_height": null,
            "align_content": null,
            "visibility": null,
            "align_self": null,
            "height": null,
            "min_height": null,
            "padding": null,
            "grid_auto_rows": null,
            "grid_gap": null,
            "max_width": null,
            "order": null,
            "_view_module_version": "1.2.0",
            "grid_template_areas": null,
            "object_position": null,
            "object_fit": null,
            "grid_auto_columns": null,
            "margin": null,
            "display": null,
            "left": null
          }
        },
        "f4d0cdb0d490488684e4086fde973859": {
          "model_module": "@jupyter-widgets/controls",
          "model_name": "HBoxModel",
          "state": {
            "_view_name": "HBoxView",
            "_dom_classes": [],
            "_model_name": "HBoxModel",
            "_view_module": "@jupyter-widgets/controls",
            "_model_module_version": "1.5.0",
            "_view_count": null,
            "_view_module_version": "1.5.0",
            "box_style": "",
            "layout": "IPY_MODEL_5cfc6a0b95c94461b3d0cd9243752fd5",
            "_model_module": "@jupyter-widgets/controls",
            "children": [
              "IPY_MODEL_530840d1b6fa47acbf6cb42274e7b0ee",
              "IPY_MODEL_b4bd6fb400f241939cc8387ce04e9001"
            ]
          }
        },
        "5cfc6a0b95c94461b3d0cd9243752fd5": {
          "model_module": "@jupyter-widgets/base",
          "model_name": "LayoutModel",
          "state": {
            "_view_name": "LayoutView",
            "grid_template_rows": null,
            "right": null,
            "justify_content": null,
            "_view_module": "@jupyter-widgets/base",
            "overflow": null,
            "_model_module_version": "1.2.0",
            "_view_count": null,
            "flex_flow": null,
            "width": null,
            "min_width": null,
            "border": null,
            "align_items": null,
            "bottom": null,
            "_model_module": "@jupyter-widgets/base",
            "top": null,
            "grid_column": null,
            "overflow_y": null,
            "overflow_x": null,
            "grid_auto_flow": null,
            "grid_area": null,
            "grid_template_columns": null,
            "flex": null,
            "_model_name": "LayoutModel",
            "justify_items": null,
            "grid_row": null,
            "max_height": null,
            "align_content": null,
            "visibility": null,
            "align_self": null,
            "height": null,
            "min_height": null,
            "padding": null,
            "grid_auto_rows": null,
            "grid_gap": null,
            "max_width": null,
            "order": null,
            "_view_module_version": "1.2.0",
            "grid_template_areas": null,
            "object_position": null,
            "object_fit": null,
            "grid_auto_columns": null,
            "margin": null,
            "display": null,
            "left": null
          }
        },
        "530840d1b6fa47acbf6cb42274e7b0ee": {
          "model_module": "@jupyter-widgets/controls",
          "model_name": "FloatProgressModel",
          "state": {
            "_view_name": "ProgressView",
            "style": "IPY_MODEL_647215f6ce104907b2d6fd822ed32919",
            "_dom_classes": [],
            "description": "Downloading: 100%",
            "_model_name": "FloatProgressModel",
            "bar_style": "success",
            "max": 323,
            "_view_module": "@jupyter-widgets/controls",
            "_model_module_version": "1.5.0",
            "value": 323,
            "_view_count": null,
            "_view_module_version": "1.5.0",
            "orientation": "horizontal",
            "min": 0,
            "description_tooltip": null,
            "_model_module": "@jupyter-widgets/controls",
            "layout": "IPY_MODEL_671be4e126d3469d9fe1ddcb3492266d"
          }
        },
        "b4bd6fb400f241939cc8387ce04e9001": {
          "model_module": "@jupyter-widgets/controls",
          "model_name": "HTMLModel",
          "state": {
            "_view_name": "HTMLView",
            "style": "IPY_MODEL_9e1fe153e440435fa9b97bc4101d0283",
            "_dom_classes": [],
            "description": "",
            "_model_name": "HTMLModel",
            "placeholder": "​",
            "_view_module": "@jupyter-widgets/controls",
            "_model_module_version": "1.5.0",
            "value": " 323/323 [00:00&lt;00:00, 2.19kB/s]",
            "_view_count": null,
            "_view_module_version": "1.5.0",
            "description_tooltip": null,
            "_model_module": "@jupyter-widgets/controls",
            "layout": "IPY_MODEL_688af294e43344108dc97426caebf4b1"
          }
        },
        "647215f6ce104907b2d6fd822ed32919": {
          "model_module": "@jupyter-widgets/controls",
          "model_name": "ProgressStyleModel",
          "state": {
            "_view_name": "StyleView",
            "_model_name": "ProgressStyleModel",
            "description_width": "initial",
            "_view_module": "@jupyter-widgets/base",
            "_model_module_version": "1.5.0",
            "_view_count": null,
            "_view_module_version": "1.2.0",
            "bar_color": null,
            "_model_module": "@jupyter-widgets/controls"
          }
        },
        "671be4e126d3469d9fe1ddcb3492266d": {
          "model_module": "@jupyter-widgets/base",
          "model_name": "LayoutModel",
          "state": {
            "_view_name": "LayoutView",
            "grid_template_rows": null,
            "right": null,
            "justify_content": null,
            "_view_module": "@jupyter-widgets/base",
            "overflow": null,
            "_model_module_version": "1.2.0",
            "_view_count": null,
            "flex_flow": null,
            "width": null,
            "min_width": null,
            "border": null,
            "align_items": null,
            "bottom": null,
            "_model_module": "@jupyter-widgets/base",
            "top": null,
            "grid_column": null,
            "overflow_y": null,
            "overflow_x": null,
            "grid_auto_flow": null,
            "grid_area": null,
            "grid_template_columns": null,
            "flex": null,
            "_model_name": "LayoutModel",
            "justify_items": null,
            "grid_row": null,
            "max_height": null,
            "align_content": null,
            "visibility": null,
            "align_self": null,
            "height": null,
            "min_height": null,
            "padding": null,
            "grid_auto_rows": null,
            "grid_gap": null,
            "max_width": null,
            "order": null,
            "_view_module_version": "1.2.0",
            "grid_template_areas": null,
            "object_position": null,
            "object_fit": null,
            "grid_auto_columns": null,
            "margin": null,
            "display": null,
            "left": null
          }
        },
        "9e1fe153e440435fa9b97bc4101d0283": {
          "model_module": "@jupyter-widgets/controls",
          "model_name": "DescriptionStyleModel",
          "state": {
            "_view_name": "StyleView",
            "_model_name": "DescriptionStyleModel",
            "description_width": "",
            "_view_module": "@jupyter-widgets/base",
            "_model_module_version": "1.5.0",
            "_view_count": null,
            "_view_module_version": "1.2.0",
            "_model_module": "@jupyter-widgets/controls"
          }
        },
        "688af294e43344108dc97426caebf4b1": {
          "model_module": "@jupyter-widgets/base",
          "model_name": "LayoutModel",
          "state": {
            "_view_name": "LayoutView",
            "grid_template_rows": null,
            "right": null,
            "justify_content": null,
            "_view_module": "@jupyter-widgets/base",
            "overflow": null,
            "_model_module_version": "1.2.0",
            "_view_count": null,
            "flex_flow": null,
            "width": null,
            "min_width": null,
            "border": null,
            "align_items": null,
            "bottom": null,
            "_model_module": "@jupyter-widgets/base",
            "top": null,
            "grid_column": null,
            "overflow_y": null,
            "overflow_x": null,
            "grid_auto_flow": null,
            "grid_area": null,
            "grid_template_columns": null,
            "flex": null,
            "_model_name": "LayoutModel",
            "justify_items": null,
            "grid_row": null,
            "max_height": null,
            "align_content": null,
            "visibility": null,
            "align_self": null,
            "height": null,
            "min_height": null,
            "padding": null,
            "grid_auto_rows": null,
            "grid_gap": null,
            "max_width": null,
            "order": null,
            "_view_module_version": "1.2.0",
            "grid_template_areas": null,
            "object_position": null,
            "object_fit": null,
            "grid_auto_columns": null,
            "margin": null,
            "display": null,
            "left": null
          }
        },
        "a8f1f98f5d9542dba7973bf7c526a68d": {
          "model_module": "@jupyter-widgets/controls",
          "model_name": "HBoxModel",
          "state": {
            "_view_name": "HBoxView",
            "_dom_classes": [],
            "_model_name": "HBoxModel",
            "_view_module": "@jupyter-widgets/controls",
            "_model_module_version": "1.5.0",
            "_view_count": null,
            "_view_module_version": "1.5.0",
            "box_style": "",
            "layout": "IPY_MODEL_062cc1f82f454f9aa5f159b803de8732",
            "_model_module": "@jupyter-widgets/controls",
            "children": [
              "IPY_MODEL_16fc9550547b4e52971c3e71c0f663fd",
              "IPY_MODEL_943e5b89e94944569e717523805ca37a"
            ]
          }
        },
        "062cc1f82f454f9aa5f159b803de8732": {
          "model_module": "@jupyter-widgets/base",
          "model_name": "LayoutModel",
          "state": {
            "_view_name": "LayoutView",
            "grid_template_rows": null,
            "right": null,
            "justify_content": null,
            "_view_module": "@jupyter-widgets/base",
            "overflow": null,
            "_model_module_version": "1.2.0",
            "_view_count": null,
            "flex_flow": null,
            "width": null,
            "min_width": null,
            "border": null,
            "align_items": null,
            "bottom": null,
            "_model_module": "@jupyter-widgets/base",
            "top": null,
            "grid_column": null,
            "overflow_y": null,
            "overflow_x": null,
            "grid_auto_flow": null,
            "grid_area": null,
            "grid_template_columns": null,
            "flex": null,
            "_model_name": "LayoutModel",
            "justify_items": null,
            "grid_row": null,
            "max_height": null,
            "align_content": null,
            "visibility": null,
            "align_self": null,
            "height": null,
            "min_height": null,
            "padding": null,
            "grid_auto_rows": null,
            "grid_gap": null,
            "max_width": null,
            "order": null,
            "_view_module_version": "1.2.0",
            "grid_template_areas": null,
            "object_position": null,
            "object_fit": null,
            "grid_auto_columns": null,
            "margin": null,
            "display": null,
            "left": null
          }
        },
        "16fc9550547b4e52971c3e71c0f663fd": {
          "model_module": "@jupyter-widgets/controls",
          "model_name": "FloatProgressModel",
          "state": {
            "_view_name": "ProgressView",
            "style": "IPY_MODEL_d8eb7e68af3248efb297468f393e689e",
            "_dom_classes": [],
            "description": "Downloading: 100%",
            "_model_name": "FloatProgressModel",
            "bar_style": "success",
            "max": 1707791567,
            "_view_module": "@jupyter-widgets/controls",
            "_model_module_version": "1.5.0",
            "value": 1707791567,
            "_view_count": null,
            "_view_module_version": "1.5.0",
            "orientation": "horizontal",
            "min": 0,
            "description_tooltip": null,
            "_model_module": "@jupyter-widgets/controls",
            "layout": "IPY_MODEL_3a716c38d9d244b5b9c3b422a9eaeee5"
          }
        },
        "943e5b89e94944569e717523805ca37a": {
          "model_module": "@jupyter-widgets/controls",
          "model_name": "HTMLModel",
          "state": {
            "_view_name": "HTMLView",
            "style": "IPY_MODEL_5879fa93c5b4458d936671a6593bf35a",
            "_dom_classes": [],
            "description": "",
            "_model_name": "HTMLModel",
            "placeholder": "​",
            "_view_module": "@jupyter-widgets/controls",
            "_model_module_version": "1.5.0",
            "value": " 1.71G/1.71G [00:30&lt;00:00, 55.4MB/s]",
            "_view_count": null,
            "_view_module_version": "1.5.0",
            "description_tooltip": null,
            "_model_module": "@jupyter-widgets/controls",
            "layout": "IPY_MODEL_8004a955740d401587b09a42fe34c69c"
          }
        },
        "d8eb7e68af3248efb297468f393e689e": {
          "model_module": "@jupyter-widgets/controls",
          "model_name": "ProgressStyleModel",
          "state": {
            "_view_name": "StyleView",
            "_model_name": "ProgressStyleModel",
            "description_width": "initial",
            "_view_module": "@jupyter-widgets/base",
            "_model_module_version": "1.5.0",
            "_view_count": null,
            "_view_module_version": "1.2.0",
            "bar_color": null,
            "_model_module": "@jupyter-widgets/controls"
          }
        },
        "3a716c38d9d244b5b9c3b422a9eaeee5": {
          "model_module": "@jupyter-widgets/base",
          "model_name": "LayoutModel",
          "state": {
            "_view_name": "LayoutView",
            "grid_template_rows": null,
            "right": null,
            "justify_content": null,
            "_view_module": "@jupyter-widgets/base",
            "overflow": null,
            "_model_module_version": "1.2.0",
            "_view_count": null,
            "flex_flow": null,
            "width": null,
            "min_width": null,
            "border": null,
            "align_items": null,
            "bottom": null,
            "_model_module": "@jupyter-widgets/base",
            "top": null,
            "grid_column": null,
            "overflow_y": null,
            "overflow_x": null,
            "grid_auto_flow": null,
            "grid_area": null,
            "grid_template_columns": null,
            "flex": null,
            "_model_name": "LayoutModel",
            "justify_items": null,
            "grid_row": null,
            "max_height": null,
            "align_content": null,
            "visibility": null,
            "align_self": null,
            "height": null,
            "min_height": null,
            "padding": null,
            "grid_auto_rows": null,
            "grid_gap": null,
            "max_width": null,
            "order": null,
            "_view_module_version": "1.2.0",
            "grid_template_areas": null,
            "object_position": null,
            "object_fit": null,
            "grid_auto_columns": null,
            "margin": null,
            "display": null,
            "left": null
          }
        },
        "5879fa93c5b4458d936671a6593bf35a": {
          "model_module": "@jupyter-widgets/controls",
          "model_name": "DescriptionStyleModel",
          "state": {
            "_view_name": "StyleView",
            "_model_name": "DescriptionStyleModel",
            "description_width": "",
            "_view_module": "@jupyter-widgets/base",
            "_model_module_version": "1.5.0",
            "_view_count": null,
            "_view_module_version": "1.2.0",
            "_model_module": "@jupyter-widgets/controls"
          }
        },
        "8004a955740d401587b09a42fe34c69c": {
          "model_module": "@jupyter-widgets/base",
          "model_name": "LayoutModel",
          "state": {
            "_view_name": "LayoutView",
            "grid_template_rows": null,
            "right": null,
            "justify_content": null,
            "_view_module": "@jupyter-widgets/base",
            "overflow": null,
            "_model_module_version": "1.2.0",
            "_view_count": null,
            "flex_flow": null,
            "width": null,
            "min_width": null,
            "border": null,
            "align_items": null,
            "bottom": null,
            "_model_module": "@jupyter-widgets/base",
            "top": null,
            "grid_column": null,
            "overflow_y": null,
            "overflow_x": null,
            "grid_auto_flow": null,
            "grid_area": null,
            "grid_template_columns": null,
            "flex": null,
            "_model_name": "LayoutModel",
            "justify_items": null,
            "grid_row": null,
            "max_height": null,
            "align_content": null,
            "visibility": null,
            "align_self": null,
            "height": null,
            "min_height": null,
            "padding": null,
            "grid_auto_rows": null,
            "grid_gap": null,
            "max_width": null,
            "order": null,
            "_view_module_version": "1.2.0",
            "grid_template_areas": null,
            "object_position": null,
            "object_fit": null,
            "grid_auto_columns": null,
            "margin": null,
            "display": null,
            "left": null
          }
        }
      }
    }
  },
  "cells": [
    {
      "cell_type": "markdown",
      "metadata": {
        "id": "ntdoPTSxeYuT"
      },
      "source": [
        "# Overview"
      ]
    },
    {
      "cell_type": "markdown",
      "metadata": {
        "id": "saxtpeW-XhKR"
      },
      "source": [
        "Fine-tuning SBERT using [this](https://colab.research.google.com/drive/1pTuQhug6Dhl9XalKB0zUGf4FIdYFlpcX#scrollTo=nskPzUM084zL) tutorial.\n",
        "\n",
        "Changed:\n",
        "* BERT to sberbank SBERT from huggingface\n",
        "* 2-class classification to multiclass classification.\n",
        "\n",
        "Metrics achieved:\n",
        "* Precision: 0.8225\n",
        "* Recall: 0.8228\n",
        "* F1-score: 0.8222\n"
      ]
    },
    {
      "cell_type": "markdown",
      "metadata": {
        "id": "ZlmkYooIYjYg"
      },
      "source": [
        "# Setup"
      ]
    },
    {
      "cell_type": "code",
      "metadata": {
        "colab": {
          "base_uri": "https://localhost:8080/"
        },
        "id": "Umsty_fCR-it",
        "outputId": "cc44d4ba-b82a-47bd-f749-ce3677c2d9d5"
      },
      "source": [
        "import tensorflow as tf\n",
        "\n",
        "# Get the GPU device name.\n",
        "device_name = tf.test.gpu_device_name()\n",
        "\n",
        "# The device name should look like the following:\n",
        "if device_name == '/device:GPU:0':\n",
        "    print('Found GPU at: {}'.format(device_name))\n",
        "else:\n",
        "    raise SystemError('GPU device not found')"
      ],
      "execution_count": null,
      "outputs": [
        {
          "output_type": "stream",
          "text": [
            "Found GPU at: /device:GPU:0\n"
          ],
          "name": "stdout"
        }
      ]
    },
    {
      "cell_type": "code",
      "metadata": {
        "colab": {
          "base_uri": "https://localhost:8080/"
        },
        "id": "mRhwZs8NSD48",
        "outputId": "8717e5da-ca5b-44b5-f973-e7663330dcbc"
      },
      "source": [
        "import torch\n",
        "\n",
        "# If there's a GPU available...\n",
        "if torch.cuda.is_available():    \n",
        "\n",
        "    # Tell PyTorch to use the GPU.    \n",
        "    device = torch.device(\"cuda\")\n",
        "\n",
        "    print('There are %d GPU(s) available.' % torch.cuda.device_count())\n",
        "\n",
        "    print('We will use the GPU:', torch.cuda.get_device_name(0))\n",
        "\n",
        "# If not...\n",
        "else:\n",
        "    print('No GPU available, using the CPU instead.')\n",
        "    device = torch.device(\"cpu\")"
      ],
      "execution_count": null,
      "outputs": [
        {
          "output_type": "stream",
          "text": [
            "There are 1 GPU(s) available.\n",
            "We will use the GPU: Tesla T4\n"
          ],
          "name": "stdout"
        }
      ]
    },
    {
      "cell_type": "code",
      "metadata": {
        "colab": {
          "base_uri": "https://localhost:8080/"
        },
        "id": "ahRHpAvQSHgc",
        "outputId": "458340ab-56b4-42b6-ff45-3b42223ad011"
      },
      "source": [
        "!pip install transformers"
      ],
      "execution_count": null,
      "outputs": [
        {
          "output_type": "stream",
          "text": [
            "Collecting transformers\n",
            "\u001b[?25l  Downloading https://files.pythonhosted.org/packages/d8/b2/57495b5309f09fa501866e225c84532d1fd89536ea62406b2181933fb418/transformers-4.5.1-py3-none-any.whl (2.1MB)\n",
            "\u001b[K     |████████████████████████████████| 2.1MB 8.2MB/s \n",
            "\u001b[?25hRequirement already satisfied: requests in /usr/local/lib/python3.7/dist-packages (from transformers) (2.23.0)\n",
            "Collecting tokenizers<0.11,>=0.10.1\n",
            "\u001b[?25l  Downloading https://files.pythonhosted.org/packages/ae/04/5b870f26a858552025a62f1649c20d29d2672c02ff3c3fb4c688ca46467a/tokenizers-0.10.2-cp37-cp37m-manylinux2010_x86_64.whl (3.3MB)\n",
            "\u001b[K     |████████████████████████████████| 3.3MB 53.3MB/s \n",
            "\u001b[?25hRequirement already satisfied: numpy>=1.17 in /usr/local/lib/python3.7/dist-packages (from transformers) (1.19.5)\n",
            "Requirement already satisfied: tqdm>=4.27 in /usr/local/lib/python3.7/dist-packages (from transformers) (4.41.1)\n",
            "Collecting sacremoses\n",
            "\u001b[?25l  Downloading https://files.pythonhosted.org/packages/75/ee/67241dc87f266093c533a2d4d3d69438e57d7a90abb216fa076e7d475d4a/sacremoses-0.0.45-py3-none-any.whl (895kB)\n",
            "\u001b[K     |████████████████████████████████| 901kB 54.1MB/s \n",
            "\u001b[?25hRequirement already satisfied: importlib-metadata; python_version < \"3.8\" in /usr/local/lib/python3.7/dist-packages (from transformers) (3.10.1)\n",
            "Requirement already satisfied: regex!=2019.12.17 in /usr/local/lib/python3.7/dist-packages (from transformers) (2019.12.20)\n",
            "Requirement already satisfied: packaging in /usr/local/lib/python3.7/dist-packages (from transformers) (20.9)\n",
            "Requirement already satisfied: filelock in /usr/local/lib/python3.7/dist-packages (from transformers) (3.0.12)\n",
            "Requirement already satisfied: idna<3,>=2.5 in /usr/local/lib/python3.7/dist-packages (from requests->transformers) (2.10)\n",
            "Requirement already satisfied: chardet<4,>=3.0.2 in /usr/local/lib/python3.7/dist-packages (from requests->transformers) (3.0.4)\n",
            "Requirement already satisfied: certifi>=2017.4.17 in /usr/local/lib/python3.7/dist-packages (from requests->transformers) (2020.12.5)\n",
            "Requirement already satisfied: urllib3!=1.25.0,!=1.25.1,<1.26,>=1.21.1 in /usr/local/lib/python3.7/dist-packages (from requests->transformers) (1.24.3)\n",
            "Requirement already satisfied: click in /usr/local/lib/python3.7/dist-packages (from sacremoses->transformers) (7.1.2)\n",
            "Requirement already satisfied: six in /usr/local/lib/python3.7/dist-packages (from sacremoses->transformers) (1.15.0)\n",
            "Requirement already satisfied: joblib in /usr/local/lib/python3.7/dist-packages (from sacremoses->transformers) (1.0.1)\n",
            "Requirement already satisfied: typing-extensions>=3.6.4; python_version < \"3.8\" in /usr/local/lib/python3.7/dist-packages (from importlib-metadata; python_version < \"3.8\"->transformers) (3.7.4.3)\n",
            "Requirement already satisfied: zipp>=0.5 in /usr/local/lib/python3.7/dist-packages (from importlib-metadata; python_version < \"3.8\"->transformers) (3.4.1)\n",
            "Requirement already satisfied: pyparsing>=2.0.2 in /usr/local/lib/python3.7/dist-packages (from packaging->transformers) (2.4.7)\n",
            "Installing collected packages: tokenizers, sacremoses, transformers\n",
            "Successfully installed sacremoses-0.0.45 tokenizers-0.10.2 transformers-4.5.1\n"
          ],
          "name": "stdout"
        }
      ]
    },
    {
      "cell_type": "code",
      "metadata": {
        "colab": {
          "base_uri": "https://localhost:8080/"
        },
        "id": "7xQ-8_XJSJ6d",
        "outputId": "85902762-4173-4daf-d36c-1c6882f58294"
      },
      "source": [
        "from google.colab import drive\n",
        "drive.mount('/content/drive')"
      ],
      "execution_count": null,
      "outputs": [
        {
          "output_type": "stream",
          "text": [
            "Mounted at /content/drive\n"
          ],
          "name": "stdout"
        }
      ]
    },
    {
      "cell_type": "markdown",
      "metadata": {
        "id": "4L7o03DHWjzE"
      },
      "source": [
        "# Prepare data\n"
      ]
    },
    {
      "cell_type": "markdown",
      "metadata": {
        "id": "d_VG8-_AY2nm"
      },
      "source": [
        "Read data"
      ]
    },
    {
      "cell_type": "code",
      "metadata": {
        "id": "xEp69-YuY4F6"
      },
      "source": [
        "import pandas as pd\n",
        "data = pd.read_csv('/content/drive/My Drive/Colab Notebooks/test-lenta.csv')"
      ],
      "execution_count": null,
      "outputs": []
    },
    {
      "cell_type": "markdown",
      "metadata": {
        "id": "PGnlfzkgYvny"
      },
      "source": [
        "Download SBERT tokenizer"
      ]
    },
    {
      "cell_type": "code",
      "metadata": {
        "id": "lm7Cs08fWEFg"
      },
      "source": [
        "from transformers import AutoTokenizer, AutoModel\n",
        "import torch"
      ],
      "execution_count": null,
      "outputs": []
    },
    {
      "cell_type": "code",
      "metadata": {
        "colab": {
          "base_uri": "https://localhost:8080/"
        },
        "id": "4lZhVptAWn9z",
        "outputId": "6ad2e64f-7ab2-4099-ae41-9e11a7bff6cb"
      },
      "source": [
        "!git lfs install\n",
        "!git clone https://huggingface.co/sberbank-ai/sbert_large_nlu_ru"
      ],
      "execution_count": null,
      "outputs": [
        {
          "output_type": "stream",
          "text": [
            "git: 'lfs' is not a git command. See 'git --help'.\n",
            "\n",
            "The most similar command is\n",
            "\tlog\n",
            "Cloning into 'sbert_large_nlu_ru'...\n",
            "remote: Enumerating objects: 19, done.\u001b[K\n",
            "remote: Counting objects: 100% (19/19), done.\u001b[K\n",
            "remote: Compressing objects: 100% (18/18), done.\u001b[K\n",
            "remote: Total 19 (delta 5), reused 0 (delta 0)\u001b[K\n",
            "Unpacking objects: 100% (19/19), done.\n"
          ],
          "name": "stdout"
        }
      ]
    },
    {
      "cell_type": "code",
      "metadata": {
        "id": "D8VuR-MRWqnj",
        "colab": {
          "base_uri": "https://localhost:8080/",
          "height": 213,
          "referenced_widgets": [
            "bcf70daeff934427bafcf588206cdcee",
            "a447923798a64a208d2b489a4a54b1a7",
            "bd35f2dc81724b96a50dee64fb44c4f7",
            "aba940ed5ffa44638fea45cd744cbe8f",
            "9320e77ee1be4a088dd3fb53325a4f9b",
            "b7c42190238d47f498a2034aa5c02d05",
            "69e18cf9026d401cab81291330e20491",
            "9785015779bb49b4bc13744baba66a17",
            "efd012485e814e03abd445fba90f839f",
            "2696f0933983499a9f4f72126681dde7",
            "582f3781258447d8a4071b21dfb5385a",
            "4e8aa86fdb3f4281a7a141348eb4ec7c",
            "f8c55fda683945b98ef8a91493107675",
            "eb72a94601844507b140f790cf96143b",
            "f8687d0c60744f45bceabc81652dfbd3",
            "54ec45d8655340978baef08eacaa74fd",
            "1ce9a53a622f48768a9b512b31bf1c15",
            "0e65b686ddb8401ca1212d3a78825b98",
            "3292c7d2becc45b0b74c3200149f79f0",
            "38c8307186984b3fab4e2d462f0d2e6f",
            "86f0a16af7984bebab82d54408471cda",
            "2a2d971967b24ac8acef7fd27612bb3b",
            "a74fbc66fcda44d2b2ee192e83454588",
            "fea048160d184eba89a5d048a7baf9d5",
            "f4d0cdb0d490488684e4086fde973859",
            "5cfc6a0b95c94461b3d0cd9243752fd5",
            "530840d1b6fa47acbf6cb42274e7b0ee",
            "b4bd6fb400f241939cc8387ce04e9001",
            "647215f6ce104907b2d6fd822ed32919",
            "671be4e126d3469d9fe1ddcb3492266d",
            "9e1fe153e440435fa9b97bc4101d0283",
            "688af294e43344108dc97426caebf4b1"
          ]
        },
        "outputId": "8008cd00-d8c5-49f4-ebab-812678faf7f6"
      },
      "source": [
        "sbertTokenizer = AutoTokenizer.from_pretrained(\"sberbank-ai/sbert_large_nlu_ru\")"
      ],
      "execution_count": null,
      "outputs": [
        {
          "output_type": "display_data",
          "data": {
            "application/vnd.jupyter.widget-view+json": {
              "model_id": "bcf70daeff934427bafcf588206cdcee",
              "version_minor": 0,
              "version_major": 2
            },
            "text/plain": [
              "HBox(children=(FloatProgress(value=0.0, description='Downloading', max=655.0, style=ProgressStyle(description_…"
            ]
          },
          "metadata": {
            "tags": []
          }
        },
        {
          "output_type": "stream",
          "text": [
            "\n"
          ],
          "name": "stdout"
        },
        {
          "output_type": "display_data",
          "data": {
            "application/vnd.jupyter.widget-view+json": {
              "model_id": "efd012485e814e03abd445fba90f839f",
              "version_minor": 0,
              "version_major": 2
            },
            "text/plain": [
              "HBox(children=(FloatProgress(value=0.0, description='Downloading', max=1780720.0, style=ProgressStyle(descript…"
            ]
          },
          "metadata": {
            "tags": []
          }
        },
        {
          "output_type": "stream",
          "text": [
            "\n"
          ],
          "name": "stdout"
        },
        {
          "output_type": "display_data",
          "data": {
            "application/vnd.jupyter.widget-view+json": {
              "model_id": "1ce9a53a622f48768a9b512b31bf1c15",
              "version_minor": 0,
              "version_major": 2
            },
            "text/plain": [
              "HBox(children=(FloatProgress(value=0.0, description='Downloading', max=112.0, style=ProgressStyle(description_…"
            ]
          },
          "metadata": {
            "tags": []
          }
        },
        {
          "output_type": "stream",
          "text": [
            "\n"
          ],
          "name": "stdout"
        },
        {
          "output_type": "display_data",
          "data": {
            "application/vnd.jupyter.widget-view+json": {
              "model_id": "f4d0cdb0d490488684e4086fde973859",
              "version_minor": 0,
              "version_major": 2
            },
            "text/plain": [
              "HBox(children=(FloatProgress(value=0.0, description='Downloading', max=323.0, style=ProgressStyle(description_…"
            ]
          },
          "metadata": {
            "tags": []
          }
        },
        {
          "output_type": "stream",
          "text": [
            "\n"
          ],
          "name": "stdout"
        }
      ]
    },
    {
      "cell_type": "markdown",
      "metadata": {
        "id": "fbtQge3peuZ7"
      },
      "source": [
        "Assosiate labels with ids"
      ]
    },
    {
      "cell_type": "code",
      "metadata": {
        "colab": {
          "base_uri": "https://localhost:8080/"
        },
        "id": "5UsDZWtrDfdd",
        "outputId": "6c4f03cc-516f-44f0-e165-a36a3ec067b7"
      },
      "source": [
        "topic_to_id = {}\n",
        "id_to_topic = []\n",
        "for topic in data.topic:\n",
        "  if not topic in topic_to_id:\n",
        "    topic_to_id[topic] = len(id_to_topic)\n",
        "    id_to_topic.append(topic)\n",
        "topic_to_id"
      ],
      "execution_count": null,
      "outputs": [
        {
          "output_type": "execute_result",
          "data": {
            "text/plain": [
              "{'Бизнес': 6,\n",
              " 'Бывший СССР': 4,\n",
              " 'Из жизни': 0,\n",
              " 'Интернет и СМИ': 9,\n",
              " 'Культура': 3,\n",
              " 'Наука и техника': 2,\n",
              " 'Путешествия': 8,\n",
              " 'Россия': 1,\n",
              " 'Спорт': 7,\n",
              " 'Экономика': 5}"
            ]
          },
          "metadata": {
            "tags": []
          },
          "execution_count": 9
        }
      ]
    },
    {
      "cell_type": "code",
      "metadata": {
        "id": "aBjrgt18Ea_i"
      },
      "source": [
        "labels = []\n",
        "for topic in data.topic:\n",
        "  labels.append(topic_to_id[topic])"
      ],
      "execution_count": null,
      "outputs": []
    },
    {
      "cell_type": "markdown",
      "metadata": {
        "id": "BrSecH6VY9jD"
      },
      "source": [
        "Tokenize data"
      ]
    },
    {
      "cell_type": "code",
      "metadata": {
        "colab": {
          "base_uri": "https://localhost:8080/"
        },
        "id": "h2FpZiGuWtuK",
        "outputId": "7b604fe1-fe30-41d8-bd8a-52a9f2bfc284"
      },
      "source": [
        "input_ids = [] # encoded sentences\n",
        "attention_masks = []\n",
        "\n",
        "for sent in data.title:\n",
        "    encoded_input = sbertTokenizer(sent, padding='max_length', truncation=True, max_length=64, return_attention_mask=True, return_tensors='pt')\n",
        "    input_ids.append(encoded_input['input_ids'])\n",
        "    attention_masks.append(encoded_input['attention_mask'])\n",
        "\n",
        "input_ids = torch.cat(input_ids, dim=0)\n",
        "attention_masks = torch.cat(attention_masks, dim=0)\n",
        "labels = torch.tensor(labels)\n",
        "\n",
        "print('Original: ', data.title[0])\n",
        "print('Token IDs:', input_ids[0])\n",
        "print('Original topic:', data.topic[0])\n",
        "print('Label:', labels[0])"
      ],
      "execution_count": null,
      "outputs": [
        {
          "output_type": "stream",
          "text": [
            "Original:  Изнывающего от жары олененка застали за «наматыванием» кругов в бассейне\n",
            "Token IDs: tensor([  101, 93343, 14484,   700, 39364, 83852,  2712, 60927,   681,   151,\n",
            "        27162, 69755,   386,   150, 31028,   113,  6631, 91841,   102,     0,\n",
            "            0,     0,     0,     0,     0,     0,     0,     0,     0,     0,\n",
            "            0,     0,     0,     0,     0,     0,     0,     0,     0,     0,\n",
            "            0,     0,     0,     0,     0,     0,     0,     0,     0,     0,\n",
            "            0,     0,     0,     0,     0,     0,     0,     0,     0,     0,\n",
            "            0,     0,     0,     0])\n",
            "Original topic: Из жизни\n",
            "Label: tensor(0)\n"
          ],
          "name": "stdout"
        }
      ]
    },
    {
      "cell_type": "markdown",
      "metadata": {
        "id": "5us5PVD_FPCh"
      },
      "source": [
        "Training & Validation & Test split\n",
        "\n",
        "70% training, 20% validation, 10% test"
      ]
    },
    {
      "cell_type": "code",
      "metadata": {
        "colab": {
          "base_uri": "https://localhost:8080/"
        },
        "id": "e5NyQViWANnj",
        "outputId": "d34ab498-83c3-43b4-ce95-6e44086ad8e4"
      },
      "source": [
        "from torch.utils.data import TensorDataset, random_split\n",
        "\n",
        "# Combine the training inputs into a TensorDataset.\n",
        "dataset = TensorDataset(input_ids, attention_masks, labels)\n",
        "\n",
        "\n",
        "# Calculate the number of samples to include in each set.\n",
        "train_size = int(0.7 * len(dataset))\n",
        "val_size = int(0.2 * len(dataset))\n",
        "test_size = len(dataset) - train_size - val_size\n",
        "\n",
        "# Divide the dataset by randomly selecting samples.\n",
        "train_dataset, val_dataset, test_dataset = random_split(dataset, [train_size, val_size, test_size])\n",
        "\n",
        "print('{:>5,} training samples'.format(train_size))\n",
        "print('{:>5,} validation samples'.format(val_size))\n",
        "print('{:>5,} testing samples'.format(test_size))"
      ],
      "execution_count": null,
      "outputs": [
        {
          "output_type": "stream",
          "text": [
            "35,000 training samples\n",
            "10,000 validation samples\n",
            "5,000 testing samples\n"
          ],
          "name": "stdout"
        }
      ]
    },
    {
      "cell_type": "markdown",
      "metadata": {
        "id": "meimDqiaFjHM"
      },
      "source": [
        "Create an iterator in order not to load all data at once and save some memory"
      ]
    },
    {
      "cell_type": "code",
      "metadata": {
        "id": "sTX2Fkl8FbwE"
      },
      "source": [
        "from torch.utils.data import DataLoader, RandomSampler, SequentialSampler\n",
        "\n",
        "# The DataLoader needs to know our batch size for training, so we specify it \n",
        "# here. For fine-tuning BERT on a specific task, the authors recommend a batch \n",
        "# size of 16 or 32.\n",
        "batch_size = 32\n",
        "\n",
        "# Create the DataLoaders for our training, validation and testing sets.\n",
        "# We'll take training samples in random order. \n",
        "train_dataloader = DataLoader(\n",
        "            train_dataset,  # The training samples.\n",
        "            sampler = RandomSampler(train_dataset), # Select batches randomly\n",
        "            batch_size = batch_size # Trains with this batch size.\n",
        "        )\n",
        "\n",
        "# For validation the order doesn't matter, so we'll just read them sequentially.\n",
        "validation_dataloader = DataLoader(\n",
        "            val_dataset, # The validation samples.\n",
        "            sampler = SequentialSampler(val_dataset), # Pull out batches sequentially.\n",
        "            batch_size = batch_size # Evaluate with this batch size.\n",
        "        )\n",
        "\n",
        "testing_dataloader = DataLoader(\n",
        "            test_dataset, # The testing samples.\n",
        "            sampler = SequentialSampler(test_dataset), # Pull out batches sequentially.\n",
        "            batch_size = batch_size # Evaluate with this batch size.\n",
        "        )"
      ],
      "execution_count": null,
      "outputs": []
    },
    {
      "cell_type": "markdown",
      "metadata": {
        "id": "mkk3y_z_Fsep"
      },
      "source": [
        "# Train model"
      ]
    },
    {
      "cell_type": "code",
      "metadata": {
        "id": "DUkbbP6KFnm3",
        "colab": {
          "base_uri": "https://localhost:8080/",
          "height": 66,
          "referenced_widgets": [
            "a8f1f98f5d9542dba7973bf7c526a68d",
            "062cc1f82f454f9aa5f159b803de8732",
            "16fc9550547b4e52971c3e71c0f663fd",
            "943e5b89e94944569e717523805ca37a",
            "d8eb7e68af3248efb297468f393e689e",
            "3a716c38d9d244b5b9c3b422a9eaeee5",
            "5879fa93c5b4458d936671a6593bf35a",
            "8004a955740d401587b09a42fe34c69c"
          ]
        },
        "outputId": "7f6aabc3-b1f8-4795-a796-21d479837a53"
      },
      "source": [
        "sbert = AutoModel.from_pretrained(\"sberbank-ai/sbert_large_nlu_ru\")"
      ],
      "execution_count": null,
      "outputs": [
        {
          "output_type": "display_data",
          "data": {
            "application/vnd.jupyter.widget-view+json": {
              "model_id": "a8f1f98f5d9542dba7973bf7c526a68d",
              "version_minor": 0,
              "version_major": 2
            },
            "text/plain": [
              "HBox(children=(FloatProgress(value=0.0, description='Downloading', max=1707791567.0, style=ProgressStyle(descr…"
            ]
          },
          "metadata": {
            "tags": []
          }
        },
        {
          "output_type": "stream",
          "text": [
            "\n"
          ],
          "name": "stdout"
        }
      ]
    },
    {
      "cell_type": "markdown",
      "metadata": {
        "id": "iGvKa28rfJKh"
      },
      "source": [
        "Used all parameters except number of epochs from the article on fine-tuning SBERT. See their explanation below:"
      ]
    },
    {
      "cell_type": "markdown",
      "metadata": {
        "id": "L0l5jgagHif9"
      },
      "source": [
        ">For the purposes of fine-tuning, the authors recommend choosing from the following values (from Appendix A.3 of the [BERT paper](https://arxiv.org/pdf/1810.04805.pdf)):\n",
        "\n",
        ">- **Batch size:** 16, 32  \n",
        "- **Learning rate (Adam):** 5e-5, 3e-5, 2e-5  \n",
        "- **Number of epochs:** 2, 3, 4 \n",
        "\n",
        ">We chose:\n",
        "* Batch size: 32 (set when creating our DataLoaders)\n",
        "* Learning rate: 2e-5\n",
        "\n",
        ">The epsilon parameter `eps = 1e-8` is \"a very small number to prevent any division by zero in the implementation\" (from [here](https://machinelearningmastery.com/adam-optimization-algorithm-for-deep-learning/)).\n"
      ]
    },
    {
      "cell_type": "markdown",
      "metadata": {
        "id": "0K6Rid1Xq34r"
      },
      "source": [
        "I tried training for 4 epochs and got validation loss increasing while training loss decreasing. Scores I got after testing the model trained for 4 epochs:\n",
        "* Precision: 0.8074\n",
        "* Recall: 0.8073\n",
        "* F1-score: 0.8071\n",
        "\n",
        "And some graphics:\n",
        "\n",
        "![train-val-loss-4.JPG](data:image/jpeg;base64,/9j/4AAQSkZJRgABAQEAYABgAAD/4REYRXhpZgAATU0AKgAAAAgABAE7AAIAAAAmAAAISodpAAQAAAABAAAIcJydAAEAAAAoAAAQ6OocAAcAAAgMAAAAPgAAAAAc6gAAAAgAAAAAAAAAAAAAAAAAAAAAAAAAAAAAAAAAAAAAAAAAAAAAAAAAAAAAAAAAAAAAAAAAAAAAAAAAAAAAAAAAAAAAAAAAAAAAAAAAAAAAAAAAAAAAAAAAAAAAAAAAAAAAAAAAAAAAAAAAAAAAAAAAAAAAAAAAAAAAAAAAAAAAAAAAAAAAAAAAAAAAAAAAAAAAAAAAAAAAAAAAAAAAAAAAAAAAAAAAAAAAAAAAAAAAAAAAAAAAAAAAAAAAAAAAAAAAAAAAAAAAAAAAAAAAAAAAAAAAAAAAAAAAAAAAAAAAAAAAAAAAAAAAAAAAAAAAAAAAAAAAAAAAAAAAAAAAAAAAAAAAAAAAAAAAAAAAAAAAAAAAAAAAAAAAAAAAAAAAAAAAAAAAAAAAAAAAAAAAAAAAAAAAAAAAAAAAAAAAAAAAAAAAAAAAAAAAAAAAAAAAAAAAAAAAAAAAAAAAAAAAAAAAAAAAAAAAAAAAAAAAAAAAAAAAAAAAAAAAAAAAAAAAAAAAAAAAAAAAAAAAAAAAAAAAAAAAAAAAAAAAAAAAAAAAAAAAAAAAAAAAAAAAAAAAAAAAAAAAAAAAAAAAAAAAAAAAAAAAAAAAAAAAAAAAAAAAAAAAAAAAAAAAAAAAAAAAAAAAAAAAAAAAAAAAAAAAAAAAAAAAAAAAAAAAAAAAAAAAAAAAAAAAAAAAAAAAAAAAAAAAAAAAAAAAAAAAAAAAAAAAAAAAAAAAAAAAAAAAAAAAAAAAAAAAAAAAAAAAAAAAAAAAAAAAAAAAAAAAAAAAAAAAAAAAAAAAAAAAAAAAAAAAAAAAAAAAAAAAAAAAAAAAAAAAAAAAAAAAAAAAAAAAAAAAAAAAAAAAAAAAAAAAAAAAAAAAAAAAAAAAAAAAAAAAAAAAAAAAAAAAAAAAAAAAAAAAAAAAAAAAAAAAAAAAAAAAAAAAAAAAAAAAAAAAAAAAAAAAAAAAAAAAAAAAAAAAAAAAAAAAAAAAAAAAAAAAAAAAAAAAAAAAAAAAAAAAAAAAAAAAAAAAAAAAAAAAAAAAAAAAAAAAAAAAAAAAAAAAAAAAAAAAAAAAAAAAAAAAAAAAAAAAAAAAAAAAAAAAAAAAAAAAAAAAAAAAAAAAAAAAAAAAAAAAAAAAAAAAAAAAAAAAAAAAAAAAAAAAAAAAAAAAAAAAAAAAAAAAAAAAAAAAAAAAAAAAAAAAAAAAAAAAAAAAAAAAAAAAAAAAAAAAAAAAAAAAAAAAAAAAAAAAAAAAAAAAAAAAAAAAAAAAAAAAAAAAAAAAAAAAAAAAAAAAAAAAAAAAAAAAAAAAAAAAAAAAAAAAAAAAAAAAAAAAAAAAAAAAAAAAAAAAAAAAAAAAAAAAAAAAAAAAAAAAAAAAAAAAAAAAAAAAAAAAAAAAAAAAAAAAAAAAAAAAAAAAAAAAAAAAAAAAAAAAAAAAAAAAAAAAAAAAAAAAAAAAAAAAAAAAAAAAAAAAAAAAAAAAAAAAAAAAAAAAAAAAAAAAAAAAAAAAAAAAAAAAAAAAAAAAAAAAAAAAAAAAAAAAAAAAAAAAAAAAAAAAAAAAAAAAAAAAAAAAAAAAAAAAAAAAAAAAAAAAAAAAAAAAAAAAAAAAAAAAAAAAAAAAAAAAAAAAAAAAAAAAAAAAAAAAAAAAAAAAAAAAAAAAAAAAAAAAAAAAAAAAAAAAAAAAAAAAAAAAAAAAAAAAAAAAAAAAAAAAAAAAAAAAAAAAAAAAAAAAAAAAAAAAAAAAAAAAAAAAAAAAAAAAAAAAAAAAAAAAAAAAAAAAAAAAAAAAAAAAAAAAAAAAAAAAAAAAAAAAAAAAAAAAAAAAAAAAAAAAAAAAAAAAAAAAAAAAAAAAAAAAAAAAAAAAAAAAAAAAAAAAAAAAAAAAAAAAAAAAAAAAAAAAAAAAAAAAAAAAAAAAAAAAAAAAAAAAAAAAAAAAAAAAAAAAAAAAAAAAAAAAAAAAAAAAAAAAAAAAAAAAAAAAAAAAAAAAAAAAAAAAAAAAAAAAAAAAAAAAAAAAAAAAAAAAAAAAAAAAAAAAAAAAAAAAAAAAAAAAAAAAAAAAAAAAAAAAAAAAAAAAAAAAAAAAAAAAAAAAAAAAAAAAAAAAAAAAAAAAAAAAAAAAAAAAAAAAAAAAAAAAAAAAAAAAAAAAAAAAAAAAAAAAAAAAAAAAAAAAAAAAAAAAAAAAAAAAAAAAAAAAAAAAAAAAAAAAAAAAAAAAAAAAAAAAAAAAAAAAAAAAAAAAAAAAAAAAAAAAAAAAAAAAAAAAAAAAAAAAAAAAAAAAAAAAAAAAAAAAAAAAAAAAAAAAAAAAAAAAAAAAAAAAAAAAAAAAAAAAAAAAAAAAAAAAAAAAAAAAAAAAAAAAAAAAAAAAAAAAAAAAAAAAAAAAAAAAAAAAAAAAAAAAAAAAAAAAAAAAAAAAAAAAAAAAAAAAAAAAAAAAAAAAAAAAAAAAAAAAAAAAAAAAAAAAAAAAAAAAAAAAAAAAAAAAAAAAAAAAAAAAAAAAAAAAAAAAAAAAAAAAAAAAAAAAAAAAAAAAAAAAAAAAAAAAAAAAAAAAAAAAAAAAAAAAAAAAAAAAAAAAAAAAAAAAAAAAAAAAAAAAAAAAAAAAAAAAAAAAAAAAAAAAAAAAAAAAAAAAAAAAAAAAAAAAAAAAAAAAAAAAAAAAAAAAAAAAAAAAAAAAAAAAAAAAAAAAAAAAAAAAAAAAAAAAAAAAAAAAAAAAAAAAAAAAAAAAAAAAAAAAAAAAANCQ0LvQtdC60YHQsNC90LTRgNCwINCR0LDQutCw0LvQvtCy0LAAAAWQAwACAAAAFAAAEL6QBAACAAAAFAAAENKSkQACAAAAAzM0AACSkgACAAAAAzM0AADqHAAHAAAIDAAACLIAAAAAHOoAAAAIAAAAAAAAAAAAAAAAAAAAAAAAAAAAAAAAAAAAAAAAAAAAAAAAAAAAAAAAAAAAAAAAAAAAAAAAAAAAAAAAAAAAAAAAAAAAAAAAAAAAAAAAAAAAAAAAAAAAAAAAAAAAAAAAAAAAAAAAAAAAAAAAAAAAAAAAAAAAAAAAAAAAAAAAAAAAAAAAAAAAAAAAAAAAAAAAAAAAAAAAAAAAAAAAAAAAAAAAAAAAAAAAAAAAAAAAAAAAAAAAAAAAAAAAAAAAAAAAAAAAAAAAAAAAAAAAAAAAAAAAAAAAAAAAAAAAAAAAAAAAAAAAAAAAAAAAAAAAAAAAAAAAAAAAAAAAAAAAAAAAAAAAAAAAAAAAAAAAAAAAAAAAAAAAAAAAAAAAAAAAAAAAAAAAAAAAAAAAAAAAAAAAAAAAAAAAAAAAAAAAAAAAAAAAAAAAAAAAAAAAAAAAAAAAAAAAAAAAAAAAAAAAAAAAAAAAAAAAAAAAAAAAAAAAAAAAAAAAAAAAAAAAAAAAAAAAAAAAAAAAAAAAAAAAAAAAAAAAAAAAAAAAAAAAAAAAAAAAAAAAAAAAAAAAAAAAAAAAAAAAAAAAAAAAAAAAAAAAAAAAAAAAAAAAAAAAAAAAAAAAAAAAAAAAAAAAAAAAAAAAAAAAAAAAAAAAAAAAAAAAAAAAAAAAAAAAAAAAAAAAAAAAAAAAAAAAAAAAAAAAAAAAAAAAAAAAAAAAAAAAAAAAAAAAAAAAAAAAAAAAAAAAAAAAAAAAAAAAAAAAAAAAAAAAAAAAAAAAAAAAAAAAAAAAAAAAAAAAAAAAAAAAAAAAAAAAAAAAAAAAAAAAAAAAAAAAAAAAAAAAAAAAAAAAAAAAAAAAAAAAAAAAAAAAAAAAAAAAAAAAAAAAAAAAAAAAAAAAAAAAAAAAAAAAAAAAAAAAAAAAAAAAAAAAAAAAAAAAAAAAAAAAAAAAAAAAAAAAAAAAAAAAAAAAAAAAAAAAAAAAAAAAAAAAAAAAAAAAAAAAAAAAAAAAAAAAAAAAAAAAAAAAAAAAAAAAAAAAAAAAAAAAAAAAAAAAAAAAAAAAAAAAAAAAAAAAAAAAAAAAAAAAAAAAAAAAAAAAAAAAAAAAAAAAAAAAAAAAAAAAAAAAAAAAAAAAAAAAAAAAAAAAAAAAAAAAAAAAAAAAAAAAAAAAAAAAAAAAAAAAAAAAAAAAAAAAAAAAAAAAAAAAAAAAAAAAAAAAAAAAAAAAAAAAAAAAAAAAAAAAAAAAAAAAAAAAAAAAAAAAAAAAAAAAAAAAAAAAAAAAAAAAAAAAAAAAAAAAAAAAAAAAAAAAAAAAAAAAAAAAAAAAAAAAAAAAAAAAAAAAAAAAAAAAAAAAAAAAAAAAAAAAAAAAAAAAAAAAAAAAAAAAAAAAAAAAAAAAAAAAAAAAAAAAAAAAAAAAAAAAAAAAAAAAAAAAAAAAAAAAAAAAAAAAAAAAAAAAAAAAAAAAAAAAAAAAAAAAAAAAAAAAAAAAAAAAAAAAAAAAAAAAAAAAAAAAAAAAAAAAAAAAAAAAAAAAAAAAAAAAAAAAAAAAAAAAAAAAAAAAAAAAAAAAAAAAAAAAAAAAAAAAAAAAAAAAAAAAAAAAAAAAAAAAAAAAAAAAAAAAAAAAAAAAAAAAAAAAAAAAAAAAAAAAAAAAAAAAAAAAAAAAAAAAAAAAAAAAAAAAAAAAAAAAAAAAAAAAAAAAAAAAAAAAAAAAAAAAAAAAAAAAAAAAAAAAAAAAAAAAAAAAAAAAAAAAAAAAAAAAAAAAAAAAAAAAAAAAAAAAAAAAAAAAAAAAAAAAAAAAAAAAAAAAAAAAAAAAAAAAAAAAAAAAAAAAAAAAAAAAAAAAAAAAAAAAAAAAAAAAAAAAAAAAAAAAAAAAAAAAAAAAAAAAAAAAAAAAAAAAAAAAAAAAAAAAAAAAAAAAAAAAAAAAAAAAAAAAAAAAAAAAAAAAAAAAAAAAAAAAAAAAAAAAAAAAAAAAAAAAAAAAAAAAAAAAAAAAAAAAAAAAAAAAAAAAAAAAAAAAAAAAAAAAAAAAAAAAAAAAAAAAAAAAAAAAAAAAAAAAAAAAAAAAAAAAAAAAAAAAAAAAAAAAAAAAAAAAAAAAAAAAAAAAAAAAAAAAAAAAAAAAAAAAAAAAAAAAAAAAAAAAAAAAAAAAAAAAAAAAAAAAAAAAAAAAAAAAAAAAAAAAAAAAAAAAAAAAAAAAAAAAAAAAAAAAAAAAAAAAAAAAAAAAAAAAAAAAAAAAAAAAAAAAAAAAAAAAAAAAAAAAAAAAAAAAAAAAAAAAAAAAAAAAAAAAAAAAAAAAAAAAAAAAAAAAAAAAAAAAAAAAAAAAAAAAAAAAAAAAAAAAAAAAAAAAAAAAAAAAAAAAAAAAAAAAAAAAAAAAAAAAAAAAAAAAAAAAAAAAAAAAAAAAAAAAAAAAAAAAAAAAAAAAAAAAAAAAAAAAAAAAAAAAAAAAAAAAAAAAAAAAAAAAAAAAAAAAAAAAAAAAAAAAAAAAAAAAAAAAAAAAAAAAAAAAAAAAAAAAAAAAAAAAAAAAAAAAAAAAAAAAAAAAAAAAAAAAAAAAAAAAAAAAAAAAAAAAAAAAAAAAAAAAAAAAAAAAAAAAAAAAAAAAAAAAAAAAAAAAAAAAAAAAAAAAAAAAAAAAAAAAAAAAAAAAAAAAAAAAAAAAAAAAAAAAAAAAAAAAAAAAAAAAAAAAAAAAAAAAAAAAAAAAAAAAAAAAAAAAAAAAAAAAAAAAAAAAAAAyMDIxOjAzOjMwIDE4OjA4OjM1ADIwMjE6MDM6MzAgMTg6MDg6MzUAAAAQBDsENQQ6BEEEMAQ9BDQEQAQwBCAAEQQwBDoEMAQ7BD4EMgQwBAAA/+ELOGh0dHA6Ly9ucy5hZG9iZS5jb20veGFwLzEuMC8APD94cGFja2V0IGJlZ2luPSfvu78nIGlkPSdXNU0wTXBDZWhpSHpyZVN6TlRjemtjOWQnPz4NCjx4OnhtcG1ldGEgeG1sbnM6eD0iYWRvYmU6bnM6bWV0YS8iPjxyZGY6UkRGIHhtbG5zOnJkZj0iaHR0cDovL3d3dy53My5vcmcvMTk5OS8wMi8yMi1yZGYtc3ludGF4LW5zIyI+PHJkZjpEZXNjcmlwdGlvbiByZGY6YWJvdXQ9InV1aWQ6ZmFmNWJkZDUtYmEzZC0xMWRhLWFkMzEtZDMzZDc1MTgyZjFiIiB4bWxuczpkYz0iaHR0cDovL3B1cmwub3JnL2RjL2VsZW1lbnRzLzEuMS8iLz48cmRmOkRlc2NyaXB0aW9uIHJkZjphYm91dD0idXVpZDpmYWY1YmRkNS1iYTNkLTExZGEtYWQzMS1kMzNkNzUxODJmMWIiIHhtbG5zOnhtcD0iaHR0cDovL25zLmFkb2JlLmNvbS94YXAvMS4wLyI+PHhtcDpDcmVhdGVEYXRlPjIwMjEtMDMtMzBUMTg6MDg6MzUuMzM1PC94bXA6Q3JlYXRlRGF0ZT48L3JkZjpEZXNjcmlwdGlvbj48cmRmOkRlc2NyaXB0aW9uIHJkZjphYm91dD0idXVpZDpmYWY1YmRkNS1iYTNkLTExZGEtYWQzMS1kMzNkNzUxODJmMWIiIHhtbG5zOmRjPSJodHRwOi8vcHVybC5vcmcvZGMvZWxlbWVudHMvMS4xLyI+PGRjOmNyZWF0b3I+PHJkZjpTZXEgeG1sbnM6cmRmPSJodHRwOi8vd3d3LnczLm9yZy8xOTk5LzAyLzIyLXJkZi1zeW50YXgtbnMjIj48cmRmOmxpPtCQ0LvQtdC60YHQsNC90LTRgNCwINCR0LDQutCw0LvQvtCy0LA8L3JkZjpsaT48L3JkZjpTZXE+DQoJCQk8L2RjOmNyZWF0b3I+PC9yZGY6RGVzY3JpcHRpb24+PC9yZGY6UkRGPjwveDp4bXBtZXRhPg0KICAgICAgICAgICAgICAgICAgICAgICAgICAgICAgICAgICAgICAgICAgICAgICAgICAgICAgICAgICAgICAgICAgICAgICAgICAgICAgICAgICAgICAgICAgICAgICAgICAgIAogICAgICAgICAgICAgICAgICAgICAgICAgICAgICAgICAgICAgICAgICAgICAgICAgICAgICAgICAgICAgICAgICAgICAgICAgICAgICAgICAgICAgICAgICAgICAgICAgICAgCiAgICAgICAgICAgICAgICAgICAgICAgICAgICAgICAgICAgICAgICAgICAgICAgICAgICAgICAgICAgICAgICAgICAgICAgICAgICAgICAgICAgICAgICAgICAgICAgICAgICAKICAgICAgICAgICAgICAgICAgICAgICAgICAgICAgICAgICAgICAgICAgICAgICAgICAgICAgICAgICAgICAgICAgICAgICAgICAgICAgICAgICAgICAgICAgICAgICAgICAgIAogICAgICAgICAgICAgICAgICAgICAgICAgICAgICAgICAgICAgICAgICAgICAgICAgICAgICAgICAgICAgICAgICAgICAgICAgICAgICAgICAgICAgICAgICAgICAgICAgICAgCiAgICAgICAgICAgICAgICAgICAgICAgICAgICAgICAgICAgICAgICAgICAgICAgICAgICAgICAgICAgICAgICAgICAgICAgICAgICAgICAgICAgICAgICAgICAgICAgICAgICAKICAgICAgICAgICAgICAgICAgICAgICAgICAgICAgICAgICAgICAgICAgICAgICAgICAgICAgICAgICAgICAgICAgICAgICAgICAgICAgICAgICAgICAgICAgICAgICAgICAgIAogICAgICAgICAgICAgICAgICAgICAgICAgICAgICAgICAgICAgICAgICAgICAgICAgICAgICAgICAgICAgICAgICAgICAgICAgICAgICAgICAgICAgICAgICAgICAgICAgICAgCiAgICAgICAgICAgICAgICAgICAgICAgICAgICAgICAgICAgICAgICAgICAgICAgICAgICAgICAgICAgICAgICAgICAgICAgICAgICAgICAgICAgICAgICAgICAgICAgICAgICAKICAgICAgICAgICAgICAgICAgICAgICAgICAgICAgICAgICAgICAgICAgICAgICAgICAgICAgICAgICAgICAgICAgICAgICAgICAgICAgICAgICAgICAgICAgICAgICAgICAgIAogICAgICAgICAgICAgICAgICAgICAgICAgICAgICAgICAgICAgICAgICAgICAgICAgICAgICAgICAgICAgICAgICAgICAgICAgICAgICAgICAgICAgICAgICAgICAgICAgICAgCiAgICAgICAgICAgICAgICAgICAgICAgICAgICAgICAgICAgICAgICAgICAgICAgICAgICAgICAgICAgICAgICAgICAgICAgICAgICAgICAgICAgICAgICAgICAgICAgICAgICAKICAgICAgICAgICAgICAgICAgICAgICAgICAgICAgICAgICAgICAgICAgICAgICAgICAgICAgICAgICAgICAgICAgICAgICAgICAgICAgICAgICAgICAgICAgICAgICAgICAgIAogICAgICAgICAgICAgICAgICAgICAgICAgICAgICAgICAgICAgICAgICAgICAgICAgICAgICAgICAgICAgICAgICAgICAgICAgICAgICAgICAgICAgICAgICAgICAgICAgICAgCiAgICAgICAgICAgICAgICAgICAgICAgICAgICAgICAgICAgICAgICAgICAgICAgICAgICAgICAgICAgICAgICAgICAgICAgICAgICAgICAgICAgICAgICAgICAgICAgICAgICAKICAgICAgICAgICAgICAgICAgICAgICAgICAgICAgICAgICAgICAgICAgICAgICAgICAgICAgICAgICAgICAgICAgICAgICAgICAgICAgICAgICAgICAgICAgICAgICAgICAgIAogICAgICAgICAgICAgICAgICAgICAgICAgICAgICAgICAgICAgICAgICAgICAgICAgICAgICAgICAgICAgICAgICAgICAgICAgICAgICAgICAgICAgICAgICAgICAgICAgICAgCiAgICAgICAgICAgICAgICAgICAgICAgICAgICAgICAgICAgICAgICAgICAgICAgICAgICAgICAgICAgICAgICAgICAgICAgICAgICAgICAgICAgICAgICAgICAgICAgICAgICAKICAgICAgICAgICAgICAgICAgICAgICAgICAgICAgICAgICAgICAgICAgICAgICAgICAgICAgICAgICAgICAgICAgICAgICAgICAgICAgICAgICAgICAgICAgICAgICAgICAgIAogICAgICAgICAgICAgICAgICAgICAgICAgICAgICAgICAgICAgICAgICAgICAgICAgICAgICAgICAgICAgICAgICAgICAgICAgICAgICAgICAgICAgICAgICAgICAgICAgICAgCiAgICAgICAgICAgICAgICAgICAgICAgICAgICA8P3hwYWNrZXQgZW5kPSd3Jz8+/9sAQwAHBQUGBQQHBgUGCAcHCAoRCwoJCQoVDxAMERgVGhkYFRgXGx4nIRsdJR0XGCIuIiUoKSssKxogLzMvKjInKisq/9sAQwEHCAgKCQoUCwsUKhwYHCoqKioqKioqKioqKioqKioqKioqKioqKioqKioqKioqKioqKioqKioqKioqKioqKioq/8AAEQgBqwMKAwEiAAIRAQMRAf/EAB8AAAEFAQEBAQEBAAAAAAAAAAABAgMEBQYHCAkKC//EALUQAAIBAwMCBAMFBQQEAAABfQECAwAEEQUSITFBBhNRYQcicRQygZGhCCNCscEVUtHwJDNicoIJChYXGBkaJSYnKCkqNDU2Nzg5OkNERUZHSElKU1RVVldYWVpjZGVmZ2hpanN0dXZ3eHl6g4SFhoeIiYqSk5SVlpeYmZqio6Slpqeoqaqys7S1tre4ubrCw8TFxsfIycrS09TV1tfY2drh4uPk5ebn6Onq8fLz9PX29/j5+v/EAB8BAAMBAQEBAQEBAQEAAAAAAAABAgMEBQYHCAkKC//EALURAAIBAgQEAwQHBQQEAAECdwABAgMRBAUhMQYSQVEHYXETIjKBCBRCkaGxwQkjM1LwFWJy0QoWJDThJfEXGBkaJicoKSo1Njc4OTpDREVGR0hJSlNUVVZXWFlaY2RlZmdoaWpzdHV2d3h5eoKDhIWGh4iJipKTlJWWl5iZmqKjpKWmp6ipqrKztLW2t7i5usLDxMXGx8jJytLT1NXW19jZ2uLj5OXm5+jp6vLz9PX29/j5+v/aAAwDAQACEQMRAD8A+j/LX0/Wjy19P1p1FADfLX0/Wjy19P1p1FADfLX0/Wjy19P1p1FADfLX0/Wjy19P1p1FADfLX0/Wjy19P1p1FADfLX0/Wjy19P1p1FADfLX0/Wjy19P1p1FADfLX0/Wjy19P1p1FADfLX0/Wjy19P1p1FADfLX0/Wjy19P1p1FADfLX0/Wjy19P1p1FADfLX0/Wjy19P1p1FADfLX0/Wjy19P1p1FADfLX0/Wjy19P1p1FADfLX0/Wjy19P1p1FADfLX0/Wjy19P1p1FADfLX0/Wjy19P1p1FADfLX0/Wjy19P1p1FADfLX0/Wjy19P1p1FADfLX0/Wjy19P1p1FADfLX0/Wjy19P1p1FADfLX0/Wjy19P1p1FADfLX0/Wjy19P1p1FADfLX0/Wjy19P1p1FADfLX0/Wjy19P1p1FADfLX0/Wjy19P1p1FADfLX0/Wjy19P1p1FADfLX0/Wjy19P1p1FADfLX0/Wjy19P1p1FADfLX0/Wjy19P1p1FADfLX0/Wjy19P1p1FADfLX0/Wjy19P1p1FADfLX0/Wjy19P1p1FADfLX0/Wjy19P1p1FADfLX0/Wjy19P1p1FADfLX0/Wjy19P1p1FADfLX0/Wjy19P1p1FADfLX0/Wjy19P1p1FADfLX0/Wjy19P1p1FADfLX0/Wjy19P1p1FADfLX0/Wjy19P1p1FADfLX0/Wjy19P1p1FADfLX0/Wjy19P1p1FADfLX0/Wjy19P1p1FADfLX0/Wjy19P1p1FADfLX0/Wjy19P1p1FADfLX0/Wjy19P1p1FADfLX0/Wjy19P1p1FADfLX0/Wjy19P1p1FABRRRQAUUUUAFFFFABRRRQAUUUUAFFFFABRRRQAUUUUAFFFFABRRRQAUUUUAFFFFABRRRQAUUUUAFFFFABRRRQAUUUUAFRXUUs9nNFbztbSyRsqTooYxsRgMAwIJB5wQRUtFAHmt5D4rtvH+m6Avja+MN5ZTXLSmwtNylGUAD91jHzVq+HvGiTXMujJHrWt3ljfPZXd61pEixkPjcxUqu36DdgZI55m1KyupPi/ol4ltM1rFplykk4jJRGLJhS3QE4PFO8A2NxZL4k+1WstubjX7uaPzYyvmISu1xnqDjg9KAHah4/tdKklfUNE1uCwhkMcuovZjyEw2N5+bftz/FtxjmreoX1qnjrQ7ZrrUFnuLa5eGKCQfZpFXZkyDOSwyNpHq1eXazZa3qXhPWLbV7Dxde+JHW4DRxSSpY4y23YFIR12YwuCzHjHNdwthe/8Jp4KnNpceVbaVcxzyeW22JykWFY44JweD6GgCR/ihpnl38tvpGtXUOm3EsF7LBaqyQGNiGYndyOM4GSByQM1oahq2nz+IvCjR3t/jUDM9oLVwLe4XyC+ZgeSNvK4/ixWT4X027t/BfieCezmiluNR1F443iIaVWZtpAI5BGMHvVDSdL1GP8A4Vb5tjdL9htZFu90LD7OfsZUB+Pl+bjnHPFAG1N8SLBbrU7e00fWb+TSrhoLsWtqriPaAd+dwBBycD73ynj1v3/jfSLLQNP1aNp72PUyi2MFpFvluGYZAVeOcZznGMc1T8DWNxaXXitru1lgFxr00sRljK+bGY4gGXPVcg8jjg1x2jaTq+keEPh/rMmkXtw+h+et5YJCftCpKrJvEZwSV4OOuDQB3OjeOLHWfEb6EtjqNlqEVqbqWK8hCeWu4Lg4Y5J3AgjIx3yMVq6/fTaX4b1K/tI0lntbSWaKNzhWZUJAJ9MiuJ0XVJNY+OEt2dOurGIeHdkYu4/LlkH2gHcUPKjOQAcHgmtz4jaVqGr+EWh0qD7W8VzDPLZlgv2uJHDNFk8cgfjjFAFfwHPqusaXZa5P4qXVrW6g3SWy2ccaxSHGVVlww2nIIbJ+ldlXjXiN9WumvrzwFoOu2LajbumsWlzYeVGylSDLGGYZnA4GzIbv059X0OK2g8P6fDYQzQWsVtHHDFPG0ciIFAAZWAIIA6GgDC8F6zqF1fa7omuz+fqGk3pUSlFQy28g3wsQoAzjI4H8NZ2heMdQuk1fW5ba/wBT0yfUWtNKtLC2V2EcQKtLu44Zg3LNgYAHWqPxIs9e0rW4dc8I2E95c6lZSaTcrAhYxlvmhmOBxtO7LHoCKm8QaNfeHfD/AIZ0jShqp0SzzFqR0YH7UwEfyMNvzYL5LbeeaAOm0bxVa68L+2jtrzT76yUGe0vYvLlQMCVbgkEHBwQT0rlfDur+Z8O/AlzrGo6s1zeXsMay28+WnkKyELMWOWjIByOTkLUHgvTbqH4gazeJp2t2+nz6VGlvLq0kkkkpDtnlySp6/ITkDBwM1Dp2j6knw++HNs+nXaz2eq28lzEYGDQKEmBZxjKgZHJ9RQB1+o+OrGx1q40y30/U9Tms1V7x7C28xLUMMgOcgk45woJx2rJ8CeJJT8M4dXuBqGsPJeXKp5CtPLIv2hwuMnoBjqQABUVhc33g3xT4jiuND1PUYdVvBfWdxY2/mq5ZFUxueiEFeC2Bg5zWJpln4l074Q6XBFZ6lZSjVZW1KCxQrdJbGaUt5QIz1KcjkryKAO60rxlbane3Vg+m6lY6jbwfafsN5CqSSx5xuQhirDPH3upGcVh+C/G1/wCIvDsr6tpOpwn/AErdfxxxJEFR3AUEOW3gDHTGQee9ZXhjTpx8VrS/s9O8Qx6YNLmi+1azJM7M5dDjEhJQegOCcHjjNX/B0l1pvhvUPDF7pWpRXscl8yymzcwSq0jupWUDachhgZzQBqWXi/StH8C6FeGTVL8X8UcdlFKomvbpiufmwcFsck5x71f0nxnYaq1/C1re2F7p8fm3FlexBJQhBIYYJVgcEZBPPXFcZaaXquleHvh5rf8AZV3cnRLV4r2xjiP2hFlhCbghwSVK8jrgmtK0hvvEPjLVvEa6Xe2FlHojabbpeQmKa5cuZCwjPzADgDI5ycUAXLX4p6Rd2NlqI03V4tLu2RBqMlqBBEznaFdt2fvHaSAVzxmu2rzC/wBI1Bv2cbfTI9PuTfrp9sptFhbzQwdCRsxnIwT0r0+gDl/AmsX2s6fq0mpT+c9vrF3bRHYq7Y0kwq8AZwO55qTVvG1npmsyaVa6dqWr3sESy3EWnQCTyFb7u8lgATgkAEk+lct4T8Qv4YTWrLUfD/iF5JNZvJ0e30maRHR5CVIYDBBFWLLULrw14u1vVLjQtXu7DX1t7u2ktLNpJI2WIK0UqD5kYYGM8ckEjFAHQS+PdFHhyy1m2NzeRX8wt7a3t4S00kvOY9hxgja2c4Ax1p48ZWsGh3+q6vpupaRBYqGkW9gAZs8DZtZg3OBwepFchaaGtp4JLeKtC1SWXUNYn1NIdLDPPpzOxZDmMhgQOPlzy2CKm0pb+50PxFb6/p2u6z4cYQpZ2+oQgX0oP+twPlYhTtYE4bg4yaAOv0XxK+sXht5NB1jTf3ZkWS+t1RGGQMZVmweehweD6VuV534QbVU8XJFpf/CQnw99lf7QuvxsDHLkbBEXHmHjOc5GO9eiUAFFFFABRRRQAUUUUAFFFFABRRRQAUUUUAFFFFABRRRQAUUUUAFFFFABRRRQAUUUUAFFFFABRRRQAUUUUAFFFFABRRRQAUUUUAFFcReeJ/Et7ea1L4Ys9OksNFkMEi3ZfzbuVUDusZU4TGQoJBya6rRtUg1zQ7LVLTPkXkCToG6gMAcH3GaALtFeZj4h68+iDxJFBpDaUb37MNO3v9tI87yuudu/PzbNvTvXplADXkWNcucCmfaof7/6GmXv+oH+9VCqSuI0vtUP9/8AQ0faof7/AOhrNop8qA0jcxADL9RkcGj7VD/f/Q1Qf7kf+7/U0yjlQGl9qh/v/oaPtUP9/wDQ1m0UcqA0vtUP9/8AQ0faof7/AOhrNoo5UBpfaof7/wCho+1Q/wB/9DWbRRyoDS+1Q/3/ANDR9qh/v/oazaKOVAaX2qH+/wDoaPtUP9/9DWbRRyoDS+1Q/wB/9DR9qh/v/oazaKOVAaX2qH+/+ho+1Q/3/wBDWbRRyoDS+1Q/3/0NH2qH+/8AoazaKOVAaX2qH+/+ho+1Q/3/ANDWbRRyoDS+1Q/3/wBDR9qh/v8A6Gs2ijlQGl9qh/v/AKGj7VD/AH/0NZtFHKgNL7VD/f8A0NAuYiDh+gyeDWbT0+5J/u/1FHKgL/2qH+/+ho+1Q/3/ANDWbRRyoDS+1Q/3/wBDR9qh/v8A6Gs2ijlQGl9qh/v/AKGqGsWkWr2It11K9sGVw6z2UnlyAjtkggjnoQRTKKOVAVNA8O6boF3d3q3t5qF/eBVmvL6TzJGVfuqMABVGTwAK3ftUP9/9DWbRRyoDS+1Q/wB/9DR9qh/v/oazaKOVAaX2qH+/+ho+1Q/3/wBDWbRRyoDS+1Q/3/0NH2qH+/8AoazaKOVAaX2qH+/+ho+1Q/3/ANDWbRRyoDS+1Q/3/wBDR9qh/v8A6Gs2ijlQGl9qh/v/AKGj7VD/AH/0NZtFHKgNL7VD/f8A0NH2qH+/+hrNoo5UBpfaof7/AOho+1Q/3/0NZtFHKgNL7VD/AH/0NBuYlYgvyDg8Gs2nzf65/wDeP86OVAX/ALVD/f8A0NH2qH+/+hrNoo5UBpfaof7/AOho+1Q/3/0NZtFHKgNL7VD/AH/0NH2qH+/+hrNoo5UBpfaof7/6Gj7VD/f/AENZtFHKgNL7VD/f/Q0faof7/wChrNoo5UBpfaof7/6Gj7VD/f8A0NZtFHKgNL7VD/f/AENH2qH+/wDoazaKOVAaX2qH+/8AoaPtUP8Af/Q1m0UcqA0vtUP9/wDQ0faof7/6Gs2ijlQGl9qh/v8A6Gj7VD/f/Q1m0UcqA0vtUP8Af/Q0faof7/6Gs2ijlQGl9qh/v/oaPtUP9/8AQ1m0UcqA0vtMW0HfwTjoaPtUP9/9DVA/6lf94/yFMo5UBpfaof7/AOho+1Q/3/0NZtFHKgNZWDqGU5Bpaitf+PZPx/nUtQMKKKKACiiigAooooAKKKKAPNLXxFZ+CZvFWmaz5kd5cahPfWEQiZjerMoKrHgfM27Kkdq3vBMsOhaJonhG7kK6zBpCXMkBU4CghW+bGOGbGOtdbRQB4O82jyeGRNHatF8TGut22OBkuRc+bzwBjy9vX+Er15r3iiigCC7YrCCMfe7jNUvNb0X/AL4H+FXL3/UD/eqhVrYQ/wA1vRf++B/hVe/nuY9NuXskR7lYXMSlBy+DgfnipaKpbgeVeD/FOsReJgNYvZmtJGMc5uclImIO3rwnzcdhzXrHmt6J/wB8CmXUEVzaiG4jWWKRCrI4yGGTXOf6V4V/56Xeij6tLZj+bIPzHvW9SUazulZmMU6as3c6bzW9F/74H+FHmt6L/wB8D/CoYJ4rmBJreRZYpBuV0OQw+tPrCxsP81vRf++B/hR5rei/98D/AAplFIB/mt6L/wB8D/CjzW9F/wC+B/hTKKAH+a3ov/fA/wAKPNb0X/vgf4UyigB/mt6L/wB8D/CjzW9F/wC+B/hTKKAH+a3ov/fA/wAKPNb0X/vgf4UyigB/mt6L/wB8D/CjzW9F/wC+B/hTKKAH+a3ov/fA/wAKPNb0X/vgf4UyigB/mt6L/wB8D/CjzW9F/wC+B/hTKKAH+a3ov/fA/wAKPNb0X/vgf4UyigB/mt6L/wB8D/CjzW9F/wC+B/hTKKAH+a3ov/fA/wAKekjbX4X7v90eoqGnp9yT/d/qKADzW9F/74H+FHmt6L/3wP8ACmUUAP8ANb0X/vgf4Uea3ov/AHwP8KZRQA/zW9F/74H+FHmt6L/3wP8ACmUUAP8ANb0X/vgf4Uea3ov/AHwP8KZRQA/zW9F/74H+FHmt6L/3wP8ACmUUAP8ANb0X/vgf4Uea3ov/AHwP8KZRQA/zW9F/74H+FHmt6L/3wP8ACmUUAP8ANb0X/vgf4Uea3ov/AHwP8KZRQA/zW9F/74H+FHmt6L/3wP8ACmUUAP8ANb0X/vgf4Uea3ov/AHwP8KZRQA/zW9F/74H+FHmt6L/3wP8ACmUUAP8ANb0X/vgf4Uea3ov/AHwP8KZRQA/zW9F/74H+FPlkYTOML94/wioafN/rn/3j/OgA81vRf++B/hR5rei/98D/AAplFAD/ADW9F/74H+FHmt6L/wB8D/CmUUAP81vRf++B/hR5rei/98D/AAplFAD/ADW9F/74H+FHmt6L/wB8D/CmUUAP81vRf++B/hR5rei/98D/AAplFAD/ADW9F/74H+FHmt6L/wB8D/CmUUAP81vRf++B/hR5rei/98D/AAplFAD/ADW9F/74H+FHmt6L/wB8D/CmUUAP81vRf++B/hR5rei/98D/AAplFAD/ADW9F/74H+FHmt6L/wB8D/CoJrmC2XdcTRxL6yOF/nWe3iTTNxWCdrl/7ttG0mfyGKTcVuS5xjuzX81vRf8Avgf4Uea3ov8A3wP8Kxv7Wvpv+PPRrkj+9cOsQ/LJP6UbNfn+9LY2an+4rSsPzwKXMuhPtF0TNnzW9F/74H+FMlu0gTdM8Ua+rhQKyf7Fnm5vdXvZfVYmEK/+OjP61JF4d0qJ95so5X/vTEyH/wAezR73YOab2Rm2fj+2vNXSxW1KxySbI5zg7icAfLjj866fzW9F/wC+B/hWFb+D9KtNRXUYkk3hyyxlhsQ8cgYz39a2qmmp298mkqqT9oP81vRf++B/hR5rei/98D/CmUVobGlbHNupOPwGO9S1Fa/8eyfj/Opah7jCiiikAUUUUAFFFFABRRRQAUUUUAFFFFAFe9/1A/3qoVfvf9QP96qFXHYQUUUVQD3+5H/u/wBTTKe/3I/93+pplIDAn0260Od7zQY/NtnO6404HAPq0X91v9noa1dO1K11W0FxZSb0zhgRhkburDsR6VarG1HRpVuzqeiSLb3+P3iN/q7kDs49fRuorW6npLfv/mRZx2Nmis7StZi1MSRNG1teQ8T2sn3oz6+6+hHBrRqGmnZlJpq6CiiikMKKKKACiiigAooooAKKKKACiiigAooooAKKKKACiiigAp6fck/3f6imU9PuSf7v9RSAZRRRTAKKKKACiiigAooooAKKKKACiiigAooooAKKKKACiiigAooooAKKKKACiiigAp83+uf/AHj/ADplPm/1z/7x/nSAZRRRTAKKKKACiiigAooooAKKrXOo2Vnn7Vdww+zyAH8qp/8ACR2Un/HmlzeH/p3gZh+eAP1qXJLqQ5xWjZq0Vk/2hqs//HrpHlg9Hup1X9FyaPs2uT/62/tbUelvAXP5sf6Uubshc/ZP+vU1qhuL21tBm6uYYR/00cL/ADrP/sBJf+P2/vrrPVWnKKfwTFT2+h6XanMNhAG/vMgZvzPNF5dgvN9CE+JNOY4tWmu29LaFn/UDH60n9p6lN/x6aNKB2a5lWP8AQZNawAAwBgegootLqw5ZPd/1+Jk+Tr0/+surO0H/AExiaRvzYgfpR/YbS83uqX0/qqyCJT+CAVrUUcq6h7OPXUzofD+lQNuSxhZv70g3n82ya0FVUUKihVHQAYpaKpJLYpRjHZBRRRTKCiiigB5/1K/7x/kKZTz/AKlf94/yFMpAFFFFMDStf+PZPx/nUtRWv/Hsn4/zqWs3uMKKKKQBRRRQAUUUUAFFFFAHL6v4+07SdQu7X7DqV6unqrX9xZ2/mR2gI3fOcg52/MQoYgda6SCeK6to7i3kWSGVA8bqchlIyCPwrh/Cs1vbWHjgagyr5OsXctyH7RmNWUn22Y/KtX4cLLF8NfD0VycTDT4jtbqF2jHH0xQBT1H4jDSYkl1Hwn4hgieZIFdorfDO7bVAxNk5Jrs64rXf+J98TtD0YfNbaRG2r3Q7GTmOAfUEu34Cu1oAr3v+oH+9VCtC7x5I3AkbuxxVLMf9xv8Avof4Va2EMop+Y/7jf99D/CjMf9xv++h/hTAH+5H/ALv9TTKmcx7Uyrfd4+b3PtTMx/3G/wC+h/hQAyin5j/uN/30P8KMx/3G/wC+h/hQBlaro0epFJ4pGtb6H/UXUY+ZPY/3l9Qah03WZDdjTdZjW21ADK4P7u4A/iQ/zXqK28x/3G/76H+FVNS02x1W0NveQuRncjq+GjYdGU44IrRSTXLIlrW6LFFYVtqk+i3CWPiEmSJ222+oghVf0WTj5W9+hroMx/3W/wC+h/hUyi4jTuMop+Y/7jf99D/CjMf9xv8Avof4VIxlFPzH/cb/AL6H+FGY/wC43/fQ/wAKAGUU/Mf9xv8Avof4UZj/ALjf99D/AAoAZRT8x/3G/wC+h/hRmP8AuN/30P8ACgBlFPzH/cb/AL6H+FGY/wC43/fQ/wAKAGUU/Mf9xv8Avof4UZj/ALjf99D/AAoAZRT8x/3G/wC+h/hRmP8AuN/30P8ACgBlFPzH/cb/AL6H+FGY/wC43/fQ/wAKAGU9PuSf7v8AUUZj/uN/30P8Kehj2vhW+7z83uPagCGin5j/ALjf99D/AAozH/cb/vof4UAMop+Y/wC43/fQ/wAKMx/3G/76H+FADKKfmP8AuN/30P8ACjMf9xv++h/hQAyin5j/ALjf99D/AAozH/cb/vof4UAMop+Y/wC43/fQ/wAKMx/3G/76H+FADKKfmP8AuN/30P8ACjMf9xv++h/hQAyin5j/ALjf99D/AAozH/cb/vof4UAMop+Y/wC43/fQ/wAKMx/3G/76H+FADKKfmP8AuN/30P8ACjMf9xv++h/hQAyin5j/ALjf99D/AAozH/cb/vof4UAMop+Y/wC43/fQ/wAKMx/3G/76H+FADKKfmP8AuN/30P8ACjMf9xv++h/hQAynzf65/wDeP86yta8Q6fotq0kn72bOFgWUbify4HvVLTvGcOrRu0OlXrzhvnjhZWVc9PmOMd6h1Ip2MnWgpcrepv0VmG71if8A499Mhtf9q5udx/JF/rTRY6tP/wAfWrCJT1S1gC/+PNuNPm7IfP2T/r1NWqlzq2n2eftN7BGR/C0gz+XWq/8Awj2nyf8AH497ef8AXe6Yj8hgfpVy203TLPH2WwjiI7oqg/nii8gvN9LFD/hIraT/AI8re8vPeG3bH5tgUfbdZn/499KjgB6Nc3A/9BUH+dbOY/7jf99D/CjMf9xv++h/hRZ9WHLJ7v8Ar8TG+x61P/r9Thtx3W2t8/qxP8qP+Eegk/4/bq9u/US3BC/kuBWzmP8AuN/30P8ACjMf9xv++h/hRyrqHs49dTPttH060wbexgQ/3hGM/n1q7T8x/wBxv++h/hRmP+43/fQ/wqkkti0kthlFPzH/AHG/76H+FGY/7jf99D/CgYyin5j/ALjf99D/AAozH/cb/vof4UAMop+Y/wC43/fQ/wAKMx/3G/76H+FADKKfmP8AuN/30P8ACjMf9xv++h/hQAyin5j/ALjf99D/AAozH/cb/vof4UAMop+Y/wC43/fQ/wAKMx/3G/76H+FADKKfmP8AuN/30P8ACjMf9xv++h/hQAH/AFK/7x/kKZUxMfkr8rY3H+L6e1MzH/cb/vof4UAMop+Y/wC43/fQ/wAKMx/3G/76H+FAF+1/49k/H+dS1FbY+zrtBA9z71LUPcYUUUUgCiiigAooooAKKKKAMHVvBHh3XNRN9qmmJPcMqrIwkdBKF6CRVIDgejA1oDRdPXXU1lbcC/S1NmsoZhiEsG27c7eoBzjNXqKAKVro9jZ6rfalbQbby/8AL+0yl2JfYNqjBOAACeBjqTV2iigCve/6gf71UKv3v+oH+9VCrjsIKKKKoB7/AHI/93+pplPf7kf+7/U0ykAUUUUwCiiigCO4t4bu3eC5jWWKQbXRxkEVgB7rwqcSmS70Xs/LSWg9D3ZPfqK6OgjIweRVRlbR7EuN9RkM0dxCksDrJG43K6nIYeoNPrn5tPutAme70OMzWbHdPpwPT1aL0P8As9DWvp+o22qWa3NlKJI24PYqe4I7EelOUbK62BS6Pcs0UUVBQUUUUAFFFFABRRRQAUUUUAFFFFABRRRQAU9PuSf7v9RTKen3JP8Ad/qKQDKKKKYBRRRQAUUUUAFFFFABRRRQAUUUUAFFFFABRRQSAMngUAFFZ9xr2l2z7HvI2k/uRfvG/Jcmof7Yu5/+PDSLlx/fuCIV/Xn9KjmiZupHua1FZPka7c/627tbJfSCMyN+bcfpR/wj1vL/AMhC4u732mmIX/vlcCi76IOaT2RYudb02zbbcXsKv/cVtzfkOar/ANtyz/8AIP0q8n9HkUQofxbn9Kv21haWS4tLaGEf9M0Aqei0n1C03u7f1/XQydmvXP3pbOxU/wBxTM4/E4H6Uf2Ak3/IRvry8z1VpdiH/gKYrWoo5V1D2a66mVceGtJnsWtfsccSNzuiUBgfXNTaVoVnoMcsFkHO5/meQ5ZsdM4xV+nzf65/94/zo5Yp3sNU4J8yWoyiiirLCiiigAooooAKKKKACiiigAooooAKKKKACiiigAooooAKKKKACiiigAooooAef9Sv+8f5CmU8/wCpX/eP8hTKQBRRRTA0rX/j2T8f51LUVr/x7J+P86lrN7jCiiikAUUUUAFFFFABRRRQAUUUUAFFFFAFe9/1A/3qoVfvf9QP96qFXHYQUUUVQD3+5H/u/wBTTKe/3I/93+pplIAooopgFFFFABRRRQAVjaho80d42p6G6wXp/wBbE3+ruR6MOx9G61s0U4ycXoJpMz9K1iHVFdNjW93CcT2svDxn+o9CODWhWZqujJqDJc28rWl/CP3N1GOR/ssP4l9jUemay8l1/Z2rxLa6ioyFB+Scf3oz3Ht1FU4pq8SU2tGa9FFFQWFFFFABRRRQAUUUUAFFFFABRRRQAU9PuSf7v9RTKen3JP8Ad/qKQDKKKKYBRRRQAUUUUAFFFNkljhQvK6oo6sxwBSAdRWW/iPTQ5SCZruQfwWqGU/pxTf7R1S5/489JMSnpJeShP/HVyannRn7SPTU1qRmVFLOwVR1JOAKyvsOr3P8Ax96osCnqlpCB/wCPNk/pSr4c08sHukkvXH8V1K0n6Hj9KLvog5pPZff/AEx83iHTIpPLW6WeT/nnbgyt/wCO5qP+1NQuP+PHR5gP7904iH5cn9K04YIrdNkESRL/AHUUAfpT6LSe7Dlm939xk/Zdauf+PjUILVf7trDuP/fT/wCFKPDlk5zevcXzf9PMxYf98jA/StWijkXUPZx66kVva29qm21gjhX0jQL/ACqWiiqL22CiiimMKKKKACiiigAp83+uf/eP86ZT5v8AXP8A7x/nSAZRRRTAKKKKACiiigAooooAKKKKACiiigAooooAKKKKACiiigAooooAKKKKACiiigB5/wBSv+8f5CmU8/6lf94/yFMpAFFFFMDStf8Aj2T8f51LUVr/AMeyfj/Opaze4wooopAFFFFABRRRQAUUUUAeaWvh2z8bTeKtS1nzHvLbUJ7GwlErKbJYVAVo8H5W3ZYnvXW+CtXm1nwFo+qXp3Tz2UbzNj7zbfmP4kE1jXnhjxLY3mtReGLzTo7DW5TPI12H820ldAjsgUYfOAwBIwa29H0m+0OWw0yza1/sCz05YFDbvtBmUgA/3du0HPfNAHlWianDf6DB448TeFXvraS58yfVpL4+bbjzdoMUI6RIcLwwJwTg17j1rzhvAWvr4el8HwXunL4ZkmbExD/akgaTzDEFxtJ5K7s9O1ejgAAAcAdKAILtS0IAx97ucVS8pvVf++x/jVy9/wBQP96qFWthD/Kb1X/vsf40eU3qv/fY/wAaZTZJEhieSVgqIpZmPYDqaYFh422pyv3f7w9TTPKb1X/vsf41g2fjPR9Qn8hZmgKKcPPhFfk9Dn+eKvf2zpn/AEErT/v+v+NSpxa0ZmqkJK6ZoeU3qv8A32P8aPKb1X/vsf41Q/tnTP8AoI2n/f8AX/Gj+2NM/wCgjaf9/wBf8afMu5XPHuX/ACm9V/77H+NHlN6r/wB9j/GqH9saZ/0EbT/v+v8AjR/a+m/9BC1/7/r/AI0cy7hzx7l/ym9V/wC+x/jR5Teq/wDfY/xqh/a+m/8AQQtf+/6/40v9r6b/ANBC1/7/AK/40cy7hzx7l7ym9V/77H+NHlN6r/32P8ao/wBr6b/0ELX/AL/L/jR/a2nf9BC1/wC/y/40cy7hzR7l7ym9V/77H+NU9T0a31a18m7A+U7o5EkAeNuzKexpv9rad/z/ANr/AN/l/wAaP7W07/n/ALX/AL/L/jTUrO6YnKL0bM621G70i6j0/wAQOjLIdttqAICS/wCy/ZX/AENb/lN6r/32P8azLm80i8tnt7q6s5YZBhkeVSCPzrEi1VPDkywPepf6UxxHIsoeW19mA5ZPfqO9aXjPbcnnUd3odd5Teq/99j/Gjym9V/77H+NURq2nMoK39qQeh85f8aX+1NP/AOf62/7/AC/41lddy+aPcu+U3qv/AH2P8aPKb1X/AL7H+NUv7U0//n+tv+/y/wCNH9qWH/P9bf8Af5f8aLruHNHuXfKb1X/vsf40eU3qv/fY/wAapf2nYf8AP7bf9/V/xpf7TsP+f23/AO/q/wCNF0HNHuXPKb1X/vsf40eU3qv/AH2P8ap/2nY/8/tv/wB/V/xo/tKx/wCf23/7+r/jRdBzR7lzym9V/wC+x/jR5Teq/wDfY/xqn/aVj/z+2/8A39X/ABo/tKx/5/Lf/v6v+NF0HNHuXPKb1X/vsf409I22vyv3f7w9RVD+0bL/AJ/Lf/v6v+NZ194x0nTbn7PJI8zOoy0IDKnI6nP8s0nJJasUqkIq7Zu+U3qv/fY/xo8pvVf++x/jWN/wkdnL/wAeEVzfH/p3hYj/AL6OB+tH2nW7n/UWFvaL/euZt5/75X/GjmXQXtI9NTZ8pvVf++x/jUczx2yb7iaGJf7zyqo/U1lf2VfXH/H9rE5H9y1QQj8+T+tSQ+H9LhfzPsiyyf8APScmRvzbNF5PZBzTey+8a/iKwLlLQy3rj+G1jMn6jj9aX7TrVz/x66bDbqej3dyuf++Vz/OtJVCqFUAAdAB0paLSe7Dlk93939MzP7I1W4/4/dY8tT1jtFSPH/AiSafH4Y05XEk0K3Un9+5m80/+PEitCijkQezj1VxUthEgSJY0UdArKAKd5Teq/wDfY/xplFUaD/Kb1X/vsf40eU3qv/fY/wAaZRQA/wApvVf++x/jR5Teq/8AfY/xplFAD/Kb1X/vsf40eU3qv/fY/wAaZRQA/wApvVf++x/jR5Teq/8AfY/xplFAD/Kb1X/vsf40eU3qv/fY/wAaZRQA/wApvVf++x/jR5Teq/8AfY/xplFAD/Kb1X/vsf40eU3qv/fY/wAaZRQA/wApvVf++x/jT5Y2MznK/eP8QqGnzf65/wDeP86ADym9V/77H+NHlN6r/wB9j/GmUUAP8pvVf++x/jR5Teq/99j/ABplFAD/ACm9V/77H+NHlN6r/wB9j/GmUUAP8pvVf++x/jR5Teq/99j/ABplFAD/ACm9V/77H+NHlN6r/wB9j/GmUUAP8pvVf++x/jR5Teq/99j/ABplFAD/ACm9V/77H+NHlN6r/wB9j/GmUUAP8pvVf++x/jR5Teq/99j/ABplFAD/ACm9V/77H+NHlN6r/wB9j/GmUUAP8pvVf++x/jR5Teq/99j/ABplFAD/ACm9V/77H+NHlN6r/wB9j/GmUUAP8pvVf++x/jR5Teq/99j/ABplFAExjbyVGV+8f4h7Uzym9V/77H+NB/1K/wC8f5CmUAP8pvVf++x/jR5Teq/99j/GmUUAaVsMW6g4/A571LUVr/x7J+P86lqHuMKKKKQBRRRQAUUUUAFFFFABRRRQAUUUUAV73/UD/eqhV+9/1A/3qoVcdhBUdxAlzbSwSjMcqFGHqCMGpKKYbnNaV4HtNLvxdSzm6G0+XG8YAXORzyc8fSt3+zrL/nzt/wDv0v8AhVt/uR/7v9TTKmMIxVkjOFKEFaKK/wDZ1l/z52//AH6X/Ck/s6x/587f/v0v+FWaKqyK5V2K39m2P/Plb/8Afpf8KP7Nsf8Anyt/+/S/4VZoosg5Y9it/Ztj/wA+Vv8A9+l/wo/syw/58rf/AL9L/hVmiiyDlj2Kv9mWH/Plbf8Afpf8KP7MsP8Anxtv+/K/4VaopWQcsexV/suw/wCfG2/78r/hR/Zen/8APjbf9+V/wq1RRZByx7FX+y9P/wCfG2/78r/hSf2Vp/8Az4Wv/flf8Kt0UWQcsexy93oQ0a6e902xjvbRzunsWjDMnq0RP/oPQ9q1bCHRdTs0ubK1tJYm7iFcg9wRjg+1adYt/o88F42p6CyxXbczQMcRXQ/2vRvRvzrW0ZaPcjkUdkX/AOydO/58LX/vyv8AhR/ZOnf8+Fr/AN+V/wAKj0rWINVjcKrQ3MJ2z20ow8R9x3Hoehq/WbhZ2aKUYtXSKn9k6d/0D7X/AL8r/hR/ZGm/9A+1/wC/K/4Vbopcq7D5Y9in/ZGm/wDQPtf+/C/4Uf2Rpv8A0D7X/vwv+FXKKOVdg5Y9in/Y+m/9A60/78L/AIUf2Ppn/QOtP+/C/wCFXKKOVdg5I9in/Y+mf9A60/78L/hWLqfgWz1K9NzbzfY1CjfFHEMN0HHTH6101PT7kn+7/UUpQjJWaIlSpzVpIgt4EtraKCEYjiQIo9ABgVJRRVGuwUUUUwCiiigAooooAKKKKACiiigAooooAKKKKACiiigAooooAKKKKACiiigAp83+uf8A3j/OmU+b/XP/ALx/nSAZRRRTAKKKKACiiigAooooAKKKKACiiigAooooAKKKKACiiigAooooAKKKKACiiigB5/1K/wC8f5CmU8/6lf8AeP8AIUykAUUUUwNK1/49k/H+dS1Fa/8AHsn4/wA6lrN7jCiiikAUUUUAFFFFABRRRQAUVxF54n8S3t5rUvhiz06Sw0WQwSLdl/Nu5VQO6xlThMZCgkHJrqtG1SDXNDstUtM+ReQJOgbqAwBwfcZoAu0V5z4S8Z634lvYw2teF4j9qlSTTVjc3YjSVlPHncEquQduORxXo1AFe9/1A/3qoVfvf9QP96qFXHYQUUUVQD3+5H/u/wBTTKe/3I/93+pplIAooopgFFFFABRRRQAUUUUAFFFFABRRRQAUUUUAZmq6Kt9Il3aSm01CEYiuUHb+6w/iX2NM0zWmmuTp+qRC01JBkx5+SYf34z3Ht1Hetaqep6VbatbCK6VgyHdFKh2vE3ZlPY1akmrSIaad0XKKwrTVbnTLqPT/ABAy5c7be+Awk/8Ast/df26HtW7SlFxKTTCiiipGFFFFABT0+5J/u/1FMp6fck/3f6ikAyiiimAUUUUAFFFFABRRRQAUUUUAFFFFABRRRQAUUUUAFFFFABRRRQAUUUUAFFFFABT5v9c/+8f50ynzf65/94/zpAMooopgFFFFABRRRQAUUUUAFFFFABRRRQAUUUUAFFFFABRRRQAUUUUAFFFFABRRRQA8/wCpX/eP8hTKef8AUr/vH+QplIAooopgaVr/AMeyfj/Opaitf+PZPx/nUtZvcYUUUUgCiiigAoorN8R/bP8AhFtV/srf9u+xTfZtn3vM2Hbj3zigDSoryGTUIvG9lJLBq+qQaT4f0TzJbmOaSBje7c/OxwXZFTJznlq9M8N3Vze+FNJur/8A4+p7KGSfjHzsgLfqTQBw1r4is/BM3irTNZ8yO8uNQnvrCIRMxvVmUFVjwPmbdlSO1b/giWDQtF0TwjeyFdYg0lLmSDaSFUEK3zdOGbGM11lFAHlHinWvC3iTSbTT/Bqw3GvG9gks1tbUpJasJVZ5H+UFAFDZzjrXq9FFAEF2xWEEY+93Gapea3ov/fA/wq5e/wCoH+9VCrWwh/mt6L/3wP8ACjzW9F/74H+FMopgTPI21OF+7/dHqaZ5rei/98D/AAof7kf+7/U0ygB/mt6L/wB8D/CjzW9F/wC+B/hTKKAH+a3ov/fA/wAKPNb0X/vgf4UyigB/mt6L/wB8D/CjzW9F/wC+B/hTKKAH+a3ov/fA/wAKPNb0X/vgf4UyigB/mt6L/wB8D/CjzW9F/wC+B/hTKKAH+a3ov/fA/wAKPNb0X/vgf4UyigB/mt6L/wB8D/CjzW9F/wC+B/hTKKAH+a3ov/fA/wAKPNb0X/vgf4UyigBl3BDf2klteQxTQyDDIyDBrCS7vPCxEV6zXej9EuWUNJa+z8ZZf9rqO9dBSMoZSrAEEYII61cZW0exLV9VuOjuBLGskTRujDKsqqQR6g07zW9F/wC+B/hXNyWV14bka40iNrnTWO6WwXlovVov/iPyrZsb621KzS6spVlifow7exHY+1Eo21WwKV9HuW/Nb0X/AL4H+FHmt6L/AN8D/CmUVBQ/zW9F/wC+B/hT0kba/C/d/uj1FQ09PuSf7v8AUUAHmt6L/wB8D/CjzW9F/wC+B/hTKKAH+a3ov/fA/wAKPNb0X/vgf4UyigB/mt6L/wB8D/CjzW9F/wC+B/hTKKAH+a3ov/fA/wAKPNb0X/vgf4UyigB/mt6L/wB8D/CjzW9F/wC+B/hTKKAH+a3ov/fA/wAKPNb0X/vgf4UyigB/mt6L/wB8D/CjzW9F/wC+B/hTKKAH+a3ov/fA/wAKPNb0X/vgf4UyigB/mt6L/wB8D/CjzW9F/wC+B/hTKKAH+a3ov/fA/wAKPNb0X/vgf4UyigB/mt6L/wB8D/CjzW9F/wC+B/hTKKAH+a3ov/fA/wAKPNb0X/vgf4UyigB/mt6L/wB8D/CnyyMJnGF+8f4RUNPm/wBc/wDvH+dAB5rei/8AfA/wo81vRf8Avgf4UyigB/mt6L/3wP8ACjzW9F/74H+FMooAf5rei/8AfA/wo81vRf8Avgf4UyigB/mt6L/3wP8ACjzW9F/74H+FMooAf5rei/8AfA/wo81vRf8Avgf4UyigB/mt6L/3wP8ACjzW9F/74H+FMooAf5rei/8AfA/wo81vRf8Avgf4UyigB/mt6L/3wP8ACjzW9F/74H+FMooAf5rei/8AfA/wo81vRf8Avgf4UyigB/mt6L/3wP8ACjzW9F/74H+FMooAf5rei/8AfA/wo81vRf8Avgf4UyigB/mt6L/3wP8ACjzW9F/74H+FMooAmMjeSpwv3j/CPamea3ov/fA/woP+pX/eP8hTKAH+a3ov/fA/wo81vRf++B/hTKKANK2ObdScfgMd6lqK1/49k/H+dS1D3GFFFFIAooooAKzvEV9PpnhfVL+0XfPa2c00SkZyyoWAx9RWjVbUb2303S7u+vTi2toXmlOM4RVJPH0BoA8/1HxDrmtmC08N69b2v2LRV1K+vFt0mWaRh8kZB4QHa7HHOMV3Og6i2r+G9N1KSMRPeWkVwyD+EugbH6153Ztrmn+Hbu/sPAGjWuhXsRmubCC52XUsJXkkBdhO0n5c98V6TpNxaXei2VzpoC2c1vHJbgDGIyoK8duMUAW6KKKACiiigCve/wCoH+9VCr97/qB/vVQq47CCiiiqAe/3I/8Ad/qaZT3+5H/u/wBTTKQBRRRTAKKKKACiiigAooooAKKKKACiiigAooooAKKKKACiiigArEvtIuLW8fU9AKx3LHM9sxxHc/X+63o351t0U4ycdhNJlDStXt9Vhfyg0U8R2z28ow8TehH9ehq/WXquii9mS9spTaajEMR3CjO4f3XH8S+3btTdL1o3Nw1hqUQtNSjGWhJysg/vxn+Jf1HeqcU1eJKbTszWp6fck/3f6imU9PuSf7v9RWZYyiiimAUUUUAFFFFABRRRQAUUUUAFFFFABRRRQAUUUUAFFFFABRRRQAUUUUAFFFFABT5v9c/+8f50ynzf65/94/zpAMooopgFFFFABRRRQAUUUUAFFFFABRRRQAUUUUAFFFFABRRRQAUUUUAFFFFABRRRQA8/6lf94/yFMp5/1K/7x/kKZSAKKKKYGla/8eyfj/Opaitf+PZPx/nUtZvcYUUUUgCiiigAqC+soNS065sbtd9vcxNDKucblYEEfkanrF8Q2fiK7+z/APCNataadt3ed9ptPP8AMzjbj5hjHzfXPtQByl94V8X2Xh2408+MVfSILZl3fYFF20Kqfk8zOM7Rjftz3xXX+FJ7e58GaLPZW5traXT4HigLbvKQxqQue+BgZrnLnw/8QLu0mt5vFeleXMjRtjSiDgjB/wCWldT4f0w6J4a0zSmlEzWNpFbGQLgOUQLnHbOKAKOreN/Duh6ibHVNTSC4VVaRRG7iIN0MjKCEB9WIrdVgyhlIIIyCD1rhPCsNvdWHjg6gqt52sXcVyX7xiNVUH22Y/OtP4fXTr8LNBub9yNmmxs7t/dCcH/vkCgDV1LxJpOkapp+m6heLDeak5jtYdjMZCOvQHHXqcCtSvDrvxToOqaloXiS81rTxeXWvwyeQblC1jZJHMEVhn5cltzf7T47CvcFZXQOhDKwyCDwRQBBe/wCoH+9VCtC7x5I3EgbuwzVLEf8Afb/vkf41a2EMop+I/wC+3/fI/wAaMR/32/75H+NMAf7kf+7/AFNMqZxHtTLN93j5fc+9MxH/AH2/75H+NADKKfiP++3/AHyP8aMR/wB9v++R/jQAyin4j/vt/wB8j/GjEf8Afb/vkf40AMop+I/77f8AfI/xoxH/AH2/75H+NADKKfiP++3/AHyP8aMR/wB9v++R/jQAyin4j/vt/wB8j/GjEf8Afb/vkf40AMop+I/77f8AfI/xoxH/AH2/75H+NADKKfiP++3/AHyP8aMR/wB9v++R/jQAyin4j/vt/wB8j/GjEf8Afb/vkf40AMop+I/77f8AfI/xoxH/AH2/75H+NADKKfiP++3/AHyP8aMR/wB9v++R/jQAyqWqaTbatbrHcBkkjO6KaM7Xib+8p7VoYj/vt/3yP8aMR/32/wC+R/jTTad0Jq+jMCz1a50+7j07xAVEjnbb3qjEdx7H+6/t0Pat9PuSf7v9RUN5ZWeoWj214nnQyDDIyDn9a871XxnqPhHWJtGtyl/bQ7cSXSnzApAbbuB5x6kVtGn7Z2huZyl7Ne9sej0VU0nV9P1mxjubK5D7kDOgwWjJHQjPBq9iP++3/fI/xrFpp2ZommroZRT8R/32/wC+R/jRiP8Avt/3yP8AGkMZRT8R/wB9v++R/jRiP++3/fI/xoAZRT8R/wB9v++R/jRiP++3/fI/xoAZRT8R/wB9v++R/jRiP++3/fI/xoAZRT8R/wB9v++R/jRiP++3/fI/xoAZRT8R/wB9v++R/jRiP++3/fI/xoAZRT8R/wB9v++R/jRiP++3/fI/xoAZRT8R/wB9v++R/jRiP++3/fI/xoAZRT8R/wB9v++R/jRiP++3/fI/xoAZRT8R/wB9v++R/jRiP++3/fI/xoAZRT8R/wB9v++R/jRiP++3/fI/xoAZT5v9c/8AvH+dGI/77f8AfI/xp8oj858s2dx/h/8Ar0AQ0U/Ef99v++R/jRiP++3/AHyP8aAGUU/Ef99v++R/jRiP++3/AHyP8aAGUU/Ef99v++R/jRiP++3/AHyP8aAGUU/Ef99v++R/jRiP++3/AHyP8aAGUU/Ef99v++R/jRiP++3/AHyP8aAGUU/Ef99v++R/jRiP++3/AHyP8aAGUU/Ef99v++R/jRiP++3/AHyP8aAGUU/Ef99v++R/jRiP++3/AHyP8aAGUU/Ef99v++R/jRiP++3/AHyP8aAGUU/Ef99v++R/jRiP++3/AHyP8aAGUU/Ef99v++R/jRiP++3/AHyP8aAGUU/Ef99v++R/jRiP++3/AHyP8aAA/wCpX/eP8hTKmIj8lfmbG4/w/T3pmI/77f8AfI/xoAZRT8R/32/75H+NGI/77f8AfI/xoAv2v/Hsn4/zqWorbH2ddpJHuPepah7jCiiikAUUUUAFFFFABRRRQBy+reAdO1bULu6+3alZLqCqt/b2dx5cd2ANvzjBIyvykqVJHWtWHQoLfWIb2Ce5jihsvsSWKyYtgm4ENsx94Y25z04rTooAxdV8J6Vq8mnvPAsRsLtbuMQoi72VWXa2Qcr85446DmtoDAwOBRRQBXvf9QP96qFX73/UD/eqhVx2EFFFFUA9/uR/7v8AU0ynv9yP/d/qaZSAKKKKYBRRRQAUUUUAFFFFABRRRQAUUUUAFFFFABRRRQAUUUUAFFFFABRRRQAVnX/hrR9XuBdajYxzzRKNrkkdx1wefxzWjT0+5J/u/wBRTUnF3TE0nuZN74d02+kErQeRcKMLcWzGKRf+BD+uaq+V4g0v/Uyx6xbj+CXEU4Hsw+VvxArdoqlN7PUXKt0ZNp4lsLicW1wZLC7P/Lvdr5bH6E8N+BNa1Q3dlbX8BhvbeOeI9VkUMP1rI/sC60/5tA1GSBB0tbrM0P0GTuX8D+FFoPbQXvLzN2isL/hIZ7D5fEGnyWgH/LzBmaE+5IGV/EVsW13b3sAmtJ454m6PGwYH8RScWtWNSTJaKKKkoKKKKACiiigAooooAKKKKACiiigAooooAKKKKACiiigAp83+uf8A3j/OmU+b/XP/ALx/nSAZRRRTAKKKKACiiigAooooAKKKKACiiigAooooAKKKKACiiigAooooAKKKKACiiigB5/1K/wC8f5CmU8/6lf8AeP8AIUykAUUUUwNK1/49k/H+dS1Fa/8AHsn4/wA6lrN7jCiiikAUUUUAFFFFABRRRQAUUUUAFFFFAFe9/wBQP96qFX73/UD/AHqoVcdhBRRRVAPf7kf+7/U0ynv9yP8A3f6mmUgCiiimAUUUUAFFFFABRRRQAUUUUAFFFFABRRRQAUUUUAFFFFABRRRQAUUUUAFPT7kn+7/UUynp9yT/AHf6ikAyiiimAUUUUAFY9z4ZsZZzc2XmaddHrNZts3f7y/db8RWxRTUnHYTSe5hfaNf0v/j6gj1e3H/LW2AjmA90Pyt+BH0q5p+vadqUhign2XC/et5lMci/VTzWjVPUNJsNVjCahaxzY+6zD5l+jDkfhVc0XuvuJs1sXKKwv7L1fTOdI1H7VCP+XXUMt/3zIPmH45pyeJoreQRa5azaVKTgNN80TH2kHH54o5G/h1DmtvobdFNjkSWNXiZXRhkMpyCPrTqgsKKKKACiiigAooooAKKKKACiiigAooooAKfN/rn/AN4/zplPm/1z/wC8f50gGUUUUwCiiigAooooAKKKKACiiigAooooAKKKKACiiigAooooAKKKKACiiigAooooAef9Sv8AvH+QplPP+pX/AHj/ACFMpAFFFFMDStf+PZPx/nUtRWv/AB7J+P8AOpaze4wooopAFFFFABRRRQAUUUUAedra6n4vuPEuoRa7qOnPpt5LZadDaT7IkaJRl3XpJucnIbIwMV1nhLWX8Q+D9K1aVQst5axyyKvQOR82PbOa5mXT/FHh+68QWegaTHqNtrFw93bXRukjFpLIgVxIrclQw3DaCTnFbvh2wvfD0WmeHorISaZZ6YqtqPmgFp1IXZ5fXkZbPTtQBx3iGY6F4htLPQda8RXGuy30KiK7kkezkRmDOpLgR42FvufMCBXqVef+IE8WeL9HGhy+GRpInmiaa/kv4pUhCOrlowvzM3y8ZC9a9AoAgu1ZoQFBJ3dhVLyZP+ebf98mrl7/AKgf71UKtbCH+TJ/zzb/AL5NHkyf882/75NMopgTPFIVTCNwvPHuaZ5Mn/PNv++TQ/3I/wDd/qaZQA/yZP8Anm3/AHyaPJk/55t/3yaZRQA/yZP+ebf98mjyZP8Anm3/AHyaZRQA/wAmT/nm3/fJo8mT/nm3/fJplFAD/Jk/55t/3yaPJk/55t/3yaZRQA/yZP8Anm3/AHyaPJk/55t/3yaZRQA/yZP+ebf98mjyZP8Anm3/AHyaZRQA/wAmT/nm3/fJo8mT/nm3/fJplFAD/Jk/55t/3yaPJk/55t/3yaZRQA/yZP8Anm3/AHyaPJk/55t/3yaZRQA/yZP+ebf98mjyZP8Anm3/AHyaZRQA/wAmT/nm3/fJo8mT/nm3/fJplFAD/Jk/55t/3yaekUgV8o3K8ce4qGnp9yT/AHf6igA8mT/nm3/fJo8mT/nm3/fJplFAD/Jk/wCebf8AfJo8mT/nm3/fJplFAD/Jk/55t/3yaPJk/wCebf8AfJplFAD/ACZP+ebf98mjyZP+ebf98mmUUAP8mT/nm3/fJpr2zSRlJIS6MMFWTINJRQBjyeE1gkaXRJbjSpSclYRmJj7xnj8sU37drmmcavpTXUI/5etPUtj/AHozyPwzW1RWnO38WpHKumhV07VLLV0LadcLPt+8q/eT6r1H41d8mT/nm3/fJrL1DQdO1KQS3EG24X7txETHIv0Yc1T+z6/pf/HpcR6vbj/llckRzAezjg/iB9aOWL+F/eF2tzoPJk/55t/3yaPJk/55t/3yaxLbxNYyTi2vhJp10ekN4uzd/ut91vwNbFS4yjuUmnsP8mT/AJ5t/wB8mjyZP+ebf98mmUVIx/kyf882/wC+TR5Mn/PNv++TTKKAH+TJ/wA82/75NHkyf882/wC+TTKKAH+TJ/zzb/vk0eTJ/wA82/75NMooAf5Mn/PNv++TT5YpDM5CMRuPaoafN/rn/wB4/wA6ADyZP+ebf98mjyZP+ebf98mmUUAP8mT/AJ5t/wB8mjyZP+ebf98mmUUAP8mT/nm3/fJo8mT/AJ5t/wB8mmUUAP8AJk/55t/3yaPJk/55t/3yaZRQA/yZP+ebf98mjyZP+ebf98mmUUAP8mT/AJ5t/wB8mjyZP+ebf98mmUUAP8mT/nm3/fJo8mT/AJ5t/wB8mmUUAP8AJk/55t/3yaPJk/55t/3yaZRQA/yZP+ebf98mjyZP+ebf98mmUUAP8mT/AJ5t/wB8mjyZP+ebf98mmUUAP8mT/nm3/fJo8mT/AJ5t/wB8mmUUAP8AJk/55t/3yaPJk/55t/3yaZRQBMYpPJUbGzuPb6UzyZP+ebf98mg/6lf94/yFMoAf5Mn/ADzb/vk0eTJ/zzb/AL5NMooA0rYFbdQwIPofrUtRWv8Ax7J+P86lqHuMKKKKQBRRRQAUUUUAFFFFABRRRQAUUUUAV73/AFA/3qoVfvf9QP8AeqhVx2EFFFFUA9/uR/7v9TTKe/3I/wDd/qaZSAKKKKYBRRRQAUUUUAFFFFABRRRQAUUUUAFFFFABRRRQAUUUUAFFFFABRRRQAU9PuSf7v9RTKen3JP8Ad/qKQDKKKKYBRRRQAUUUUAFFFFABRRRQAUUUUAFFFFAEVza295AYbuGOeJuqSKGB/A1j/wDCPTWHzeH9QlswP+XabMsB9sE5X8DW7RVKTjsS4pmF/b13p3y6/pskKDrd2uZofqcfMv4j8a1rS9tb+ATWVxHPGf4o2DCp6ybvw1YXM5ubdZLG7P8Ay8WjeWx+uOG/EGneD30F7y8zWorC8zxBpf8ArY4tZtx/HFiKcD/dPyt+BFWrDxDp2oTeQkxhuh962uFMcg/4Cev4ZocHa61HzLZmnRRRUFBRRRQAU+b/AFz/AO8f50ynzf65/wDeP86QDKKKKYBRRRQAUUUUAFFFFABRRRQAUUUUAFFFFABRRRQAUUUUAFFFFABRRRQAUUUUAPP+pX/eP8hTKef9Sv8AvH+QplIAooopgaVr/wAeyfj/ADqWorX/AI9k/H+dS1m9xhRRRSAKKKKACiiigAooooAKK4i88T+Jb281qXwxZ6dJYaLIYJFuy/m3cqoHdYypwmMhQSDk11WjapBrmh2WqWmfIvIEnQN1AYA4PuM0AXaK4fUvEHi/w5bwapr9to0mnNcxQz29mZfOhEjhAwduHILDI2jvzXcUAV73/UD/AHqoVfvf9QP96s1yxdUU7cgknHpj/GrWwh9FM8tv+ez/AJL/AIUeW3/PZ/yX/CmBM/3I/wDd/qaZTSjkLmZ+Bxwv+FJ5bf8APZ/yX/CgB9FM8tv+ez/kv+FHlt/z2f8AJf8ACgB9FM8tv+ez/kv+FHlt/wA9n/Jf8KAH0Uzy2/57P+S/4UeW3/PZ/wAl/wAKAH0Uzy2/57P+S/4UeW3/AD2f8l/woAfRTPLb/ns/5L/hR5bf89n/ACX/AAoAfRTPLb/ns/5L/hR5bf8APZ/yX/CgB9FM8tv+ez/kv+FLGxaPLdQSD+BxQA6iiimAUUUUAFFFFABRRRQAU9PuSf7v9RTKen3JP93+opAMooopgFFFFABRRRQAUUUUAFFFFABRRRQAUUUUAFFFFABRRRQAVVv9MstUh8rULWOdR03ryv0PUfhVqihNp3QtzC/sjVNN50TUjLEOlrf5kX6B/vD8c0q+JVtGEevWc2mOTgSt88LH2kHA/HFblIyh1KuAykYIIyDV86fxInltsJFLHPEskEiyRsMq6NkH8RTqxZfDFtHK0+jzS6VOxyTbH92x/wBqM/KfyFM/tDWtM41OwF/CP+XiwHzge8R5/wC+SaOVP4WHM1ujdp83+uf/AHj/ADrMtNf0u+geWC9hxGMyB22NH/vA4I/Gr0d1b3u6azniuImY4kicMp59RUuLW6KTT2HUUUUhhRRRQAUUUUAFFFFABRRRQAUUUUAFFFFABRRRQAUUUUAFFFFABRRRQAUUUUAPP+pX/eP8hTKef9Sv+8f5CmUgCiiimBpWv/Hsn4/zqWorX/j2T8f51LWb3GFFFFIAooooAKKKKACiiigDzS18RWfgmbxVpms+ZHeXGoT31hEImY3qzKCqx4HzNuypHat/wRLBoWi6J4RvZCusQaSlzJBtJCqCFb5unDNjGa6yigDyaDx14a8Z+KornVdcs7XR9NuQdPsZJcPeTg4E7jsoP3F6k/Mewr1miigCC7YrCCMfe7jNZruWuEzt+43RQO4rRvf9QP8AerNP/Hwn+438xVrYRFPqdjay+Xc3ttC+M7ZJVU/kai/tvS/+glZ/9/0/xqSfTbG6l8y5sreZ8Y3SRKx/Mio/7F0r/oGWf/gOv+Fark6k+8ZEHxA0K41Y2CzshyVFw6gRMfZs/qRitf8AtvS/+glZ/wDf9P8AGuYs/hnp9pri3rXLS2yPvS1aMYBzwC2eR7Yrp/7F0r/oGWf/AIDr/hWlRUU1yXIh7T7RNb6haXbFbS6gnKjJEUitj8qsZ/ziq9vYWdoxa0tYICwwTFGFz+VT1i7X0NFfqef+NdDNncabc2us65C2oazBBMkeqTKgSRjuVVDYUemOlWNM1e80zxJqfhvRNMvdUazaGWW6v9UZwqyJnq4JHThRkHBOR31/F+l3mqR6MLGHzTa6vbXM3zBdsaMSzckZx6DmjR9LvLXxv4k1CeHZbXwtfs8m4HfsjIbgHIwT3xUjK+teK9W0L7ReXnh3OkWz/vbpbxDII84MgixyO+N2cdqllvrOP4gOq2Ie8XRTMLsTHmPzf9Xsxjrzu69q4bXfBGr32n65bP4Yt9S1S5lmkg1m4u0OULEoqqx3IwXCgcKOua7P+xr/AP4TD7d5H+j/ANg/Y9+9f9b5mduM56d+nvSAo6d8RL270zS9XuvDj2uk6hJHCbk3Ss0Tu20HZtBKbjjdkHvip7nX7TRdQ8Z6hBpe6502CCad/tB/0r90SowQQmBxxnPWqp8N6r/wqXSNF+y/8TC2Nn5sPmJ8vlzIz/NnBwFJ4P0pda8Oardr46+z2u/+1rSGOy/eKPNZYSpHJ+Xk45xQBoWPjK9l1TTIdT0J7Cz1bIs7hrhXYtsLhXQD5MqDjk++KrXvj28ih1W+07w9Je6TpbSRy3YuVRneMfPtTBJUHgtnscA4q7rGkX10/hY28G8affJLc/Oo8tBC6k8nnlgOM9a5jVYNe8MeEPEulx6bDNp0gu54dSa5VVijl3Mysh+YuCxAwME46UwPQ9Kvv7T0eyv/AC/K+1QJNsznbuUHGcc4zVvP+cVl+Go2i8J6RHICrpZQqwPYhBWnQAuf84psEhEZAC/fbqoP8RpaZD/qz/vt/wChGgCbzW9F/wC+B/hR5rei/wDfA/wplFAD/Nb0X/vgf4Uea3ov/fA/wplFAD/Nb0X/AL4H+FHmt6L/AN8D/CmUUAP81vRf++B/hR5rei/98D/CmUUAP81vRf8Avgf4U9JG2vwv3f7o9RUNPT7kn+7/AFFAB5rei/8AfA/wo81vRf8Avgf4UyigB/mt6L/3wP8ACjzW9F/74H+FMooAf5rei/8AfA/wo81vRf8Avgf4UyigB/mt6L/3wP8ACjzW9F/74H+FMooAf5rei/8AfA/wo81vRf8Avgf4UyigB/mt6L/3wP8ACjzW9F/74H+FMooAf5rei/8AfA/wo81vRf8Avgf4UyigB/mt6L/3wP8ACjzW9F/74H+FMooAf5rei/8AfA/wo81vRf8Avgf4UyigB/mt6L/3wP8ACjzW9F/74H+FMooAf5rei/8AfA/wo81vRf8Avgf4UyigB/mt6L/3wP8ACjzW9F/74H+FMooA5rxz4cfxDpA+wwwfbopA6sUVWdcEFd345544rK8IeFfEWi2c+7UE0+WRxm3aJJ147nng/Q13VPm/1z/7x/nW6rzUPZ9DJ0ouXMYn2zxPa/62y02/X/pg5hb8mBH60f8ACVNB/wAhLSL+zx95/swlQf8AAkzWxRUc0XuiuV9GZ9r4o0m9bbb6jaM/9xiqt/3ycGtMSkjI2Ef7gqndadZXy4vbSC4H/TWMN/Os0+EtNjObBrrT29bS4dB/3zkj9KLQfkHvI3vNb0X/AL4H+FHmt6L/AN8D/CsH+zNctv8Ajz1wTqOkd7bK3/jybTR9v8Q2v/HzpFvdju9nc4P/AHy4H86OTs1/XqHN3Rvea3ov/fA/wo81vRf++B/hWD/wldnD/wAhG2vtP97i2bb/AN9LkfrV+z1jTtQx9ivrecntHKCfy60nTktWhqSfUv8Amt6L/wB8D/CjzW9F/wC+B/hTKKgof5rei/8AfA/wo81vRf8Avgf4UyigB/mt6L/3wP8ACjzW9F/74H+FMooAf5rei/8AfA/wo81vRf8Avgf4UyigB/mt6L/3wP8ACjzW9F/74H+FMooAf5rei/8AfA/wo81vRf8Avgf4UyigB/mt6L/3wP8ACjzW9F/74H+FMooAf5rei/8AfA/wo81vRf8Avgf4UyigCYyN5KnC/eP8I9qZ5rei/wDfA/woP+pX/eP8hTKAH+a3ov8A3wP8KPNb0X/vgf4UyigDStjm3UnH4DHepaitf+PZPx/nUtQ9xhRRRSAKKKKACiiigAooooAKKKKACiiigCve/wCoH+9Waf8Aj4T/AHG/mK0r3/UD/erNP/Hwn+438xVrYQ+iiiqAU9qSlPakoAKKKKACisfSNe/tLWtY0ya2+zXGmTIuPM3ebG6hkk6DGeRjnBHWqdv4201tV1W3v7i0sLWwuFtkurm6VBPLtDSKA2MbdwHU5J7UgOkorC8R69JpelWN5ppgnW6vra33N8ylJZFUkEEc4PB6fWrtneTyavqcM9xYtBbmPykhcmaIFMnzQeBk8j2oA0KK5q78XWz65olpot5Y30N7dyW9y0UokMe2F3GCrYByvfPGa1m13SE1Iae2q2S3pO0WxuE8wn025zQBfrBvfBHh7UdSe+vtP8+aRxI6vNJ5bsMYLR7th6DqKZe+N9F03xX/AGHqF9a2sgtftDSz3KIqncAIzk/eIO4D0rQsL2aW71Nbu5sHitpwsYt5CXiTYpIlz0bJJ/3SKANGiqdhq+m6qJDpeoWt6IzhzbTrJtPodpOKij8Q6LNPBDFq9g8tx/qY1uULS8kfKM88gjj0oA0aZD/qz/vt/wChGn0yH/Vn/fb/ANCNAD6KKKYBRRRQAUUUUAFFFFABT0+5J/u/1FMp6fck/wB3+opAMooopgFFFFABRRRQAUUUUAFFFFABRRRQAUUUUAFFFFABRRRQAUUUUAFFFFABRRRQAU+b/XP/ALx/nTKfN/rn/wB4/wA6QDKKKKYBRRRQAUUUUAFULzQtKv8AJvNPtpWP8TRjd+fWr9FNNrYTSe5if8IvBD/yDb/ULH0WK5LJ/wB8vkUfZPEdr/qNTs70f3bq3MZ/76Q/0rboqvaS66k8i6GJ/a+sW3/H9oMkijq9lOsmf+AttNKvi3SlYLePNYOf4byB4v1Ix+tbVIyhlKsAQeoI60c0Xuv6/ELS6Mitr21vE3WdzDOvrFIGH6VNWVc+GNFu33y6bAr/AN+JfLb81wah/wCEdlt+dN1rUbb0SSQToPwcE/rRaD2YXl2NuisTZ4mtfuzadqCD++jQOfy3D9KP7evrf/kI6Bex/wC1bFZ1/Qg/pR7N9HcOZdTborHh8V6LLJ5b3yW8n9y5Uwkf99AVrRSxzRh4ZFkQ9GRsg1LjKO6KUk9h1FFFIYUUUUAFFFFADz/qV/3j/IUynn/Ur/vH+QplIAooopgaVr/x7J+P86lqK1/49k/H+dS1m9xhRRRSAKKKKACiiigAooooAwdW8b+HdD1E2OqamkFwqq0iiN3EQboZGUEID6sRW6rBlDKQQRkEHrXCeFYbe6sPHB1BVbztYu4rkv3jEaqoPtsx+da3w4kml+Gfh57kkyHT4uW6kbRj9MUAWNJ8beHtd1ybSNJ1Fbm9gjaSSNYnACqwVjuI2nDMBgGt6uOkAHxutABgf8I7N0/6+Yq7GgCve/6gf71Zp/4+E/3G/mK07vHkjcSBu7DNZrhftCbSx+Ruox3HvVrYRTu7TUJrgva6n9mjwP3f2dX5+pqD+z9X/wCg3/5KJ/jWtx/kUcf5FLlRDgm7/qzzew0jxEvije3nxS7/AN5dMuUK9zk8H6V2X9n6v/0G/wDyUT/GtY44o4/yKiNJR6mVPDxgmrv7ylZW17A7G8v/ALUpHyjyVTafwq5S8f5FHH+RWqVjdKyscF401JPBfii08VSKTaXFnLY3QHd1Uyw/iSHXP+0KxrCO40oaZocsWiwalLp76ne3+sReZl5ZCXRRleQevPQDivTr2wstSt/I1G1hu4dwby54ldcjocHjIqO/0jTdV8v+07C1vPKOY/tECybD6jIOKBnlOkzeb8O4FSSGSGLxZGkJgQpFs+1KRsUk4XkkDPANXvFHneT8R/s/mdbHzfLznyvLTzOn+xur0n+ydNERiFhbeWZvtBTyFwZc58zGPvZAOeualSztY5p5o7eJJbjHnOsYDS4GBuPfA457UAeeaj/wjf8AwsHwT/YH2Lzd8+Pse3Hk+Q23O336Z/2sd6wPF+q/2n4U1+9QeH9Oihupokga3LXzSo5AfcGG1yRu6HA5Oa9YtfD+i2MiPZaTY27o5kVorZEKuQQWGBwcEjPoTSTeH9FuLqW5uNJsZZ50KSyvaozSKRghiRkjHGDQByrmzPxWsptSFuPP8PkhpgoDuJk6Z6nH6Vha/u/srxvu3fZf7btftmzOfs+yDzOnONuc+2a9LvtF0rVI4k1PTrS8SH/VrcW6yBPoCDjpUyWVpE07R28SG5bdOVjA804xlvU4AHPYUAcSf7J/4Wd4f/4Rj7Jn7FcfbfsW3b5G1fL3beMb8Y/GuZt9KsYPgDJqEVrEL0SNcC52DzBItyQrBuowAB9K9XsNI0zShINL0+1shIcuLaBY9x9TtAzS/wBlad/Zp077DbfYiCDbeSvlnnP3enXn60AWqZD/AKs/77f+hGpOP8imwBPLOWYHe3Rf9o+9AC0U/Ef99v8Avkf40Yj/AL7f98j/ABoAZRT8R/32/wC+R/jRiP8Avt/3yP8AGgBlFPxH/fb/AL5H+NGI/wC+3/fI/wAaAGUU/Ef99v8Avkf40Yj/AL7f98j/ABoAZT0+5J/u/wBRRiP++3/fI/xp6CPa+Gb7vPy+496AIaKfiP8Avt/3yP8AGjEf99v++R/jQAyin4j/AL7f98j/ABoxH/fb/vkf40AMop+I/wC+3/fI/wAaMR/32/75H+NADKKfiP8Avt/3yP8AGjEf99v++R/jQAyin4j/AL7f98j/ABoxH/fb/vkf40AMop+I/wC+3/fI/wAaMR/32/75H+NADKKfiP8Avt/3yP8AGjEf99v++R/jQAyin4j/AL7f98j/ABoxH/fb/vkf40AMop+I/wC+3/fI/wAaMR/32/75H+NADKKfiP8Avt/3yP8AGjEf99v++R/jQAyin4j/AL7f98j/ABoxH/fb/vkf40AMop+I/wC+3/fI/wAaMR/32/75H+NADKfN/rn/AN4/zoxH/fb/AL5H+NPlEfnPlmzuP8P/ANegCGin4j/vt/3yP8aMR/32/wC+R/jQAyin4j/vt/3yP8aMR/32/wC+R/jQAyin4j/vt/3yP8aMR/32/wC+R/jQAyin4j/vt/3yP8aMR/32/wC+R/jQAyin4j/vt/3yP8aMR/32/wC+R/jQAyin4j/vt/3yP8aMR/32/wC+R/jQAyin4j/vt/3yP8aMR/32/wC+R/jQAyin4j/vt/3yP8aMR/32/wC+R/jQBDNBFcR7LiJJUP8AC6hh+RrJl8J6M8hkhsxayf37V2hI/wC+SK3MR/32/wC+R/jRiP8Avt/3yP8AGqUpR2YnFPcwf7D1G3/5B/iC7Uf3LtFnH5kBv1o87xNa/wCstdPv1H/PGVoWP4MCP1rexH/fb/vkf40Yj/vt/wB8j/Gq9o3urk8q6GD/AMJI0HGpaPqNpj7ziHzkH4oT/KrFr4k0a8bbBqVvv/uO+xv++Wwa1sR/32/75H+NV7rTtPvl23tvHcD0lhVv50Xg90FpdyUEEAg5B6EUVjnwjo6EtYtd6e3raTNH+m7H6Uh0rV7b/jx195lHSO9tVfP1ZSpo5YvZ/wBfiF5dUbh/1K/7x/kKZXlOia34om8dxW91NcsTPi4tjny40z8xC9BgdD9K9ZxH/fb/AL5H+NVVpOk0mxU6imroZRT8R/32/wC+R/jRiP8Avt/3yP8AGsTQv2v/AB7J+P8AOpaitsfZ12kke496lqHuMKKKKQBRRRQAUUUUAFFFFAHL6t4B07VtQu7r7dqVkuoKq39vZ3Hlx3YA2/OMEjK/KSpUkda1oNDgttYhv7e4uYo4LL7FHZJJi3VdwIbZj74xgHPTitKigDjpfh2kviQ63/wlHiBLva0a7Z4dqxs4cxgeVnbkDvnjrXY0UUAV73/UD/erOdCxDK21h0OM1rSxLKu1s4zniovsUfq351SasIzcS/30/wC+D/jRiX++n/fB/wAa0vsUfq350fYo/Vvzp3QGcyShVPmJyM/cPqfekxL/AH0/74P+NaZtIyACW4GBzSfYo/VvzougM3Ev99P++D/jRiX++n/fB/xrS+xR+rfnR9ij9W/Oi6AzcS/30/74P+NGJf76f98H/GtL7FH6t+dH2KP1b86LoDNxL/fT/vg/40Yl/vp/3wf8a0vsUfq350fYo/VvzougM3Ev99P++D/jRiX++n/fB/xrS+xR+rfnR9ij9W/Oi6AzcS/30/74P+NGJf76f98H/GtL7FH6t+dH2KP1b86LoDNxL/fT/vg/40Yl/vp/3wf8a0vsUfq350fYo/VvzougM3Ev99P++D/jTkXYoHX39a0PsUfq350fYo/VvzougKFFX/sUfq350fYo/Vvzo5kBQoq/9ij9W/Oj7FH6t+dHMgKFFX/sUfq350fYo/Vvzo5kBQoq/wDYo/Vvzo+xR+rfnRzIChT0+5J/u/1FXPsUfq350otIwCAW5GDzRdAZ9FX/ALFH6t+dH2KP1b86OZAUKKv/AGKP1b86PsUfq350cyAoUVf+xR+rfnR9ij9W/OjmQFCir/2KP1b86PsUfq350cyAoUVf+xR+rfnR9ij9W/OjmQFCir/2KP1b86PsUfq350cyAoUVf+xR+rfnR9ij9W/OjmQFCir/ANij9W/Oj7FH6t+dHMgKFFX/ALFH6t+dH2KP1b86OZAUKKv/AGKP1b86PsUfq350cyAoUVf+xR+rfnR9ij9W/OjmQFCir/2KP1b86PsUfq350cyAoU+b/XP/ALx/nVz7FH6t+dK1pGzFiWyTnrRdAZ9FX/sUfq350fYo/Vvzo5kBQoq/9ij9W/Oj7FH6t+dHMgKFFX/sUfq350fYo/Vvzo5kBQoq/wDYo/Vvzo+xR+rfnRzIChRV/wCxR+rfnR9ij9W/OjmQFCir/wBij9W/Oj7FH6t+dHMgKFFX/sUfq350fYo/Vvzo5kBQoq/9ij9W/Oj7FH6t+dHMgKFFX/sUfq350fYo/Vvzo5kBQoq/9ij9W/Oj7FH6t+dHMgKFFX/sUfq350fYo/Vvzo5kBQoq/wDYo/Vvzo+xR+rfnRzICmf9Sv8AvH+QplaH2SPaFy2ASetJ9ij9W/Oi6AoUVf8AsUfq350fYo/Vvzo5kA+1/wCPZPx/nUtNjQRoFXoPWnVAwooooAKKKKACiiigAooooAKKKKACiiigAooooAKR3WNGdzhVGST2FLR160AYegeNNA8U3NzBoOoC8ktlVpdsTqAGyAQWADDg9M9K3K47Sxj4w6+B0/sqz/8AQ5q7GgAooooAKKKKACiiigAooooAKKKKACiiigAooooAKKKKACiiigAooooAKKKKACucvPiB4Y0/UJbK81VYpYZPKmYwyGOJ+mHkC7FP1Iro65Dx3qPmabJ4V0mBLrV9ahkiSEj5YYmyHnk9FGT9WwBmgDrwQygqcg8gjvRVXTLJdN0m0sUdpFtYEhDt1YKoGT+VWqACiiigAooooAKKKKACiiigAooooAKKKKACiiigAooooAKKKKACiiigAooooAzda8Qab4fgjl1Wd4llbZGI4XlZjjOAqAn9KXRdf0zxDaPc6PdrcxxuY5BtKtGw/hZWAKn2IFWNQW9ewlXS5YIbsj909xGXRTnuoIJ49xXIeBYri28VeKYdanSfXGlt5bmSBNkDRGMiLYvUEBWBzk5HU0AdxRRRQAUUUUAFFFFABRRRQAUUUUAFFFFABRRRQAUUUUAFFFFABRRRQAUUUUAFFFIzBFLMcKoyT6UAZmq+JNJ0S+0+y1O8WC51KbybSLYzGV8gY4BwORycDmtSvDdS8VaDrV9pfiS61qwFzNr1qIbdrlN9nZRs2Cwz8pYne2emVB+7XuEUiTRJLC6vG6hlZTkMD0INADqKKKACiiigAooooAKKKKACiiigAooooAKKKKACiiigAooooAKKKKAOO0/4dpp/iAayvijxBPdN5ayiaeErMiElUbEQJXk9COtdjRRQAUUUUAFFFFABRRRQAUUUUAFFFFABRRRQAUUUUAFFFFABRRRQAUUUUAFFFFABXHv8PIxr+oaxaeJNds7rUHDTeTLCQAPuoN0RIUdhmuwooAjtoTb2sULTSTtGgQyykb5MDG5sADJ6nAFSUUUAFFFFABRRRQAUUUUAFFFcaPF+v3viLWNN0Pw3a3celTrDJPPqnklyyB+F8pvX1oA7KisqDW0trGBvEj2OkXsiPI1s16rgKp5YMQu4AFSTjjOKuWGpWOq2oudLvbe9gJwJbeVZFJ9MqSKALNFZ9vr+j3eovp9rq1jPepnfbR3KNIuOuVByKfqWtaXo6o2r6lZ2CyHCG6nWIMfbcRmgC7RXM6v4rFj4k8OW1vNZvpuqi5aa5ZshVji3hlYHaBnqTnj0rb0/VdP1e3M+k39tfQhtpktplkUH0ypIzQBbooooAKKKKACiiigAooooAytb0M60IDHqupaZJCWxJYTBC2ccMGVlbp3HFR+H/DFl4d+1SW8t1d3d64e6vLyXzJZiowuTwMAcAAACtmigAooooAKKKKACiiigAooooAKKKKACiiigAooooAKKKKACiiigAooooAKKKKACjr1oooAxdX8J6VrIsvtECxfY7uO7TyURdzJnCtkHKnPI/WtoAKoCjAHAA7UUUAFFFFABRRRQAUUUUAFFFFABRRRQAUUUUAFFFFABRRRQAUUUUAFFFFABRRRQAUUUUAFFFFABRRRQAUUUUAFFFFABRRRQAUUUUAFFFFABRRRQAUUUUAFFFFABRRRQAUUUUAFFFFABRRRQAUUUUAFeWaXo2l6n4+8ZvqeqXtk6X8QVbbU5LUMPITkhWGfrXqdY954Q8NajeSXeoeHtKurmQ5eaeyjd3OMcsVyeBQBwfia30C0+IPgWDUrhbnTo4r0JLezmZWf93t3u5Ofm6ZPXb7VFdf8AIyeO/wDhBtnk/wBgr5v2LGz7diTG3bxv2Y6d8Z5rrbvwRav4n0WezsdOh0ewtrqGayEIVWM2wjCBdpGVJOcde9dHYabY6Vai20uyt7KAHIit4ljUH1woAoA8j1X/AIRn/hV/hv8A4RX7F/bPn2X9nfZtvn+dvTzM4+bON+7PfrW/p/8AZP8AwtrxP/wlH2X7Z5dv/Z323bj7N5fzeXu7b927Heu2t9A0e01F9QtdJsYL1877mO2RZGz1ywGTT9S0XS9YVF1fTbO/WM5QXUCyhT7bgcUAcP4l0/R9T8beAraCC0n0zzb10ihCmFtsW4cDgjcM/UVe0i2g074y6zb2EMdvDcaPbTyxxKFVpBLIu7A744rrV0uwRrVksbZWswRbEQqDACMEJx8uRwcVILO1W+a9W2hF08YiacRjeyAkhS3XAJJx70ATUUUUAFFFFABRRRQAUUUUAFFFFABRRRQAUUUUAFFFFABRRRQAUUUUAFFFFABRRRQAUUUUAFFFFABRRRQAUUUUAFFFFABRRRQAUUUUAFFFFABRRRQAUUUUAFFFFABRRRQAUUUUAFFFFABRRRQAUUUUAFFFFABRRRQAUUUUAFFFFABRRRQAUUUUAFFFFABRRRQAUUUUAFFFFABRRRQAUUUUAFFFFABRRRQAUUUUAFFFFABRRRQAUUUUAFFFFABRRRQAUUUUAFFFFABRRRQAUUUUAFFFFABRRRQAUUUUAFFFFABRRRQAUUUUAFFFFABRRRQAUUUUAFFFFABRRRQAUUUUAFFFFABRRRQAUUUUAFFFFABRRRQAUUUUAFFFFAH/2Q==)\n",
        "\n",
        "So I chose number of epochs = 2"
      ]
    },
    {
      "cell_type": "code",
      "metadata": {
        "id": "CBILkBfKGLBe"
      },
      "source": [
        "from transformers import AdamW\n",
        "# Note: AdamW is a class from the huggingface library (as opposed to pytorch) \n",
        "# I believe the 'W' stands for 'Weight Decay fix\"\n",
        "optimizer = AdamW(sbert.parameters(),\n",
        "                  lr = 2e-5, # args.learning_rate - default is 5e-5, our notebook had 2e-5\n",
        "                  eps = 1e-8 # args.adam_epsilon  - default is 1e-8.\n",
        "                )\n"
      ],
      "execution_count": null,
      "outputs": []
    },
    {
      "cell_type": "code",
      "metadata": {
        "id": "7tz1Pej3HwYZ"
      },
      "source": [
        "from transformers import get_linear_schedule_with_warmup\n",
        "\n",
        "# Number of training epochs. The BERT authors recommend between 2 and 4.\n",
        "epochs = 2\n",
        "\n",
        "# Total number of training steps is [number of batches] x [number of epochs]. \n",
        "# (Note that this is not the same as the number of training samples).\n",
        "total_steps = len(train_dataloader) * epochs\n",
        "\n",
        "# Create the learning rate scheduler.\n",
        "scheduler = get_linear_schedule_with_warmup(optimizer, \n",
        "                                            num_warmup_steps = 0, # Default value in run_glue.py\n",
        "                                            num_training_steps = total_steps)"
      ],
      "execution_count": null,
      "outputs": []
    },
    {
      "cell_type": "markdown",
      "metadata": {
        "id": "0r3Ja7qzIJLn"
      },
      "source": [
        "## Training Loop"
      ]
    },
    {
      "cell_type": "markdown",
      "metadata": {
        "id": "L3d-oNX-LtLI"
      },
      "source": [
        "Helper function for formatting elapsed times as `hh:mm:ss`\n",
        "\n",
        "\n"
      ]
    },
    {
      "cell_type": "code",
      "metadata": {
        "id": "zwFf7BgJLnIA"
      },
      "source": [
        "import time\n",
        "import datetime\n",
        "\n",
        "def format_time(elapsed):\n",
        "    '''\n",
        "    Takes a time in seconds and returns a string hh:mm:ss\n",
        "    '''\n",
        "    # Round to the nearest second.\n",
        "    elapsed_rounded = int(round((elapsed)))\n",
        "    \n",
        "    # Format as hh:mm:ss\n",
        "    return str(datetime.timedelta(seconds=elapsed_rounded))\n"
      ],
      "execution_count": null,
      "outputs": []
    },
    {
      "cell_type": "markdown",
      "metadata": {
        "id": "8g_3gJ0LL2zd"
      },
      "source": [
        "Define model we will train. This is a SBERT model with dropout and linear layers on top to fine-tune them on classification."
      ]
    },
    {
      "cell_type": "code",
      "metadata": {
        "id": "YgqnctvOmgyC"
      },
      "source": [
        "import torch.nn as nn\n",
        "\n",
        "class Net(nn.Module):\n",
        "    def __init__(self):\n",
        "        super(Net, self).__init__()\n",
        "        self.sbert = sbert\n",
        "        for param in self.sbert.parameters():\n",
        "            param.requires_grad = True\n",
        "        self.dropout = nn.Dropout(p=0.1)\n",
        "        self.lin = nn.Linear(1024, len(id_to_topic))\n",
        "\n",
        "    def forward(self, x, attention_mask=None):\n",
        "        if attention_mask == None:\n",
        "            attention_mask = torch.ones(x.shape[0])\n",
        "        x = self.sbert(x,\n",
        "                        token_type_ids=None, \n",
        "                        attention_mask=attention_mask).pooler_output\n",
        "        x = self.dropout(x)\n",
        "        x = self.lin(x)\n",
        "        return x"
      ],
      "execution_count": null,
      "outputs": []
    },
    {
      "cell_type": "code",
      "metadata": {
        "colab": {
          "base_uri": "https://localhost:8080/"
        },
        "id": "gD3iBnkOq14k",
        "outputId": "3706cf20-562b-4a81-8304-18627e026483"
      },
      "source": [
        "net = Net()\n",
        "net.to(device)"
      ],
      "execution_count": null,
      "outputs": [
        {
          "output_type": "execute_result",
          "data": {
            "text/plain": [
              "Net(\n",
              "  (sbert): BertModel(\n",
              "    (embeddings): BertEmbeddings(\n",
              "      (word_embeddings): Embedding(120138, 1024, padding_idx=0)\n",
              "      (position_embeddings): Embedding(512, 1024)\n",
              "      (token_type_embeddings): Embedding(2, 1024)\n",
              "      (LayerNorm): LayerNorm((1024,), eps=1e-12, elementwise_affine=True)\n",
              "      (dropout): Dropout(p=0.1, inplace=False)\n",
              "    )\n",
              "    (encoder): BertEncoder(\n",
              "      (layer): ModuleList(\n",
              "        (0): BertLayer(\n",
              "          (attention): BertAttention(\n",
              "            (self): BertSelfAttention(\n",
              "              (query): Linear(in_features=1024, out_features=1024, bias=True)\n",
              "              (key): Linear(in_features=1024, out_features=1024, bias=True)\n",
              "              (value): Linear(in_features=1024, out_features=1024, bias=True)\n",
              "              (dropout): Dropout(p=0.1, inplace=False)\n",
              "            )\n",
              "            (output): BertSelfOutput(\n",
              "              (dense): Linear(in_features=1024, out_features=1024, bias=True)\n",
              "              (LayerNorm): LayerNorm((1024,), eps=1e-12, elementwise_affine=True)\n",
              "              (dropout): Dropout(p=0.1, inplace=False)\n",
              "            )\n",
              "          )\n",
              "          (intermediate): BertIntermediate(\n",
              "            (dense): Linear(in_features=1024, out_features=4096, bias=True)\n",
              "          )\n",
              "          (output): BertOutput(\n",
              "            (dense): Linear(in_features=4096, out_features=1024, bias=True)\n",
              "            (LayerNorm): LayerNorm((1024,), eps=1e-12, elementwise_affine=True)\n",
              "            (dropout): Dropout(p=0.1, inplace=False)\n",
              "          )\n",
              "        )\n",
              "        (1): BertLayer(\n",
              "          (attention): BertAttention(\n",
              "            (self): BertSelfAttention(\n",
              "              (query): Linear(in_features=1024, out_features=1024, bias=True)\n",
              "              (key): Linear(in_features=1024, out_features=1024, bias=True)\n",
              "              (value): Linear(in_features=1024, out_features=1024, bias=True)\n",
              "              (dropout): Dropout(p=0.1, inplace=False)\n",
              "            )\n",
              "            (output): BertSelfOutput(\n",
              "              (dense): Linear(in_features=1024, out_features=1024, bias=True)\n",
              "              (LayerNorm): LayerNorm((1024,), eps=1e-12, elementwise_affine=True)\n",
              "              (dropout): Dropout(p=0.1, inplace=False)\n",
              "            )\n",
              "          )\n",
              "          (intermediate): BertIntermediate(\n",
              "            (dense): Linear(in_features=1024, out_features=4096, bias=True)\n",
              "          )\n",
              "          (output): BertOutput(\n",
              "            (dense): Linear(in_features=4096, out_features=1024, bias=True)\n",
              "            (LayerNorm): LayerNorm((1024,), eps=1e-12, elementwise_affine=True)\n",
              "            (dropout): Dropout(p=0.1, inplace=False)\n",
              "          )\n",
              "        )\n",
              "        (2): BertLayer(\n",
              "          (attention): BertAttention(\n",
              "            (self): BertSelfAttention(\n",
              "              (query): Linear(in_features=1024, out_features=1024, bias=True)\n",
              "              (key): Linear(in_features=1024, out_features=1024, bias=True)\n",
              "              (value): Linear(in_features=1024, out_features=1024, bias=True)\n",
              "              (dropout): Dropout(p=0.1, inplace=False)\n",
              "            )\n",
              "            (output): BertSelfOutput(\n",
              "              (dense): Linear(in_features=1024, out_features=1024, bias=True)\n",
              "              (LayerNorm): LayerNorm((1024,), eps=1e-12, elementwise_affine=True)\n",
              "              (dropout): Dropout(p=0.1, inplace=False)\n",
              "            )\n",
              "          )\n",
              "          (intermediate): BertIntermediate(\n",
              "            (dense): Linear(in_features=1024, out_features=4096, bias=True)\n",
              "          )\n",
              "          (output): BertOutput(\n",
              "            (dense): Linear(in_features=4096, out_features=1024, bias=True)\n",
              "            (LayerNorm): LayerNorm((1024,), eps=1e-12, elementwise_affine=True)\n",
              "            (dropout): Dropout(p=0.1, inplace=False)\n",
              "          )\n",
              "        )\n",
              "        (3): BertLayer(\n",
              "          (attention): BertAttention(\n",
              "            (self): BertSelfAttention(\n",
              "              (query): Linear(in_features=1024, out_features=1024, bias=True)\n",
              "              (key): Linear(in_features=1024, out_features=1024, bias=True)\n",
              "              (value): Linear(in_features=1024, out_features=1024, bias=True)\n",
              "              (dropout): Dropout(p=0.1, inplace=False)\n",
              "            )\n",
              "            (output): BertSelfOutput(\n",
              "              (dense): Linear(in_features=1024, out_features=1024, bias=True)\n",
              "              (LayerNorm): LayerNorm((1024,), eps=1e-12, elementwise_affine=True)\n",
              "              (dropout): Dropout(p=0.1, inplace=False)\n",
              "            )\n",
              "          )\n",
              "          (intermediate): BertIntermediate(\n",
              "            (dense): Linear(in_features=1024, out_features=4096, bias=True)\n",
              "          )\n",
              "          (output): BertOutput(\n",
              "            (dense): Linear(in_features=4096, out_features=1024, bias=True)\n",
              "            (LayerNorm): LayerNorm((1024,), eps=1e-12, elementwise_affine=True)\n",
              "            (dropout): Dropout(p=0.1, inplace=False)\n",
              "          )\n",
              "        )\n",
              "        (4): BertLayer(\n",
              "          (attention): BertAttention(\n",
              "            (self): BertSelfAttention(\n",
              "              (query): Linear(in_features=1024, out_features=1024, bias=True)\n",
              "              (key): Linear(in_features=1024, out_features=1024, bias=True)\n",
              "              (value): Linear(in_features=1024, out_features=1024, bias=True)\n",
              "              (dropout): Dropout(p=0.1, inplace=False)\n",
              "            )\n",
              "            (output): BertSelfOutput(\n",
              "              (dense): Linear(in_features=1024, out_features=1024, bias=True)\n",
              "              (LayerNorm): LayerNorm((1024,), eps=1e-12, elementwise_affine=True)\n",
              "              (dropout): Dropout(p=0.1, inplace=False)\n",
              "            )\n",
              "          )\n",
              "          (intermediate): BertIntermediate(\n",
              "            (dense): Linear(in_features=1024, out_features=4096, bias=True)\n",
              "          )\n",
              "          (output): BertOutput(\n",
              "            (dense): Linear(in_features=4096, out_features=1024, bias=True)\n",
              "            (LayerNorm): LayerNorm((1024,), eps=1e-12, elementwise_affine=True)\n",
              "            (dropout): Dropout(p=0.1, inplace=False)\n",
              "          )\n",
              "        )\n",
              "        (5): BertLayer(\n",
              "          (attention): BertAttention(\n",
              "            (self): BertSelfAttention(\n",
              "              (query): Linear(in_features=1024, out_features=1024, bias=True)\n",
              "              (key): Linear(in_features=1024, out_features=1024, bias=True)\n",
              "              (value): Linear(in_features=1024, out_features=1024, bias=True)\n",
              "              (dropout): Dropout(p=0.1, inplace=False)\n",
              "            )\n",
              "            (output): BertSelfOutput(\n",
              "              (dense): Linear(in_features=1024, out_features=1024, bias=True)\n",
              "              (LayerNorm): LayerNorm((1024,), eps=1e-12, elementwise_affine=True)\n",
              "              (dropout): Dropout(p=0.1, inplace=False)\n",
              "            )\n",
              "          )\n",
              "          (intermediate): BertIntermediate(\n",
              "            (dense): Linear(in_features=1024, out_features=4096, bias=True)\n",
              "          )\n",
              "          (output): BertOutput(\n",
              "            (dense): Linear(in_features=4096, out_features=1024, bias=True)\n",
              "            (LayerNorm): LayerNorm((1024,), eps=1e-12, elementwise_affine=True)\n",
              "            (dropout): Dropout(p=0.1, inplace=False)\n",
              "          )\n",
              "        )\n",
              "        (6): BertLayer(\n",
              "          (attention): BertAttention(\n",
              "            (self): BertSelfAttention(\n",
              "              (query): Linear(in_features=1024, out_features=1024, bias=True)\n",
              "              (key): Linear(in_features=1024, out_features=1024, bias=True)\n",
              "              (value): Linear(in_features=1024, out_features=1024, bias=True)\n",
              "              (dropout): Dropout(p=0.1, inplace=False)\n",
              "            )\n",
              "            (output): BertSelfOutput(\n",
              "              (dense): Linear(in_features=1024, out_features=1024, bias=True)\n",
              "              (LayerNorm): LayerNorm((1024,), eps=1e-12, elementwise_affine=True)\n",
              "              (dropout): Dropout(p=0.1, inplace=False)\n",
              "            )\n",
              "          )\n",
              "          (intermediate): BertIntermediate(\n",
              "            (dense): Linear(in_features=1024, out_features=4096, bias=True)\n",
              "          )\n",
              "          (output): BertOutput(\n",
              "            (dense): Linear(in_features=4096, out_features=1024, bias=True)\n",
              "            (LayerNorm): LayerNorm((1024,), eps=1e-12, elementwise_affine=True)\n",
              "            (dropout): Dropout(p=0.1, inplace=False)\n",
              "          )\n",
              "        )\n",
              "        (7): BertLayer(\n",
              "          (attention): BertAttention(\n",
              "            (self): BertSelfAttention(\n",
              "              (query): Linear(in_features=1024, out_features=1024, bias=True)\n",
              "              (key): Linear(in_features=1024, out_features=1024, bias=True)\n",
              "              (value): Linear(in_features=1024, out_features=1024, bias=True)\n",
              "              (dropout): Dropout(p=0.1, inplace=False)\n",
              "            )\n",
              "            (output): BertSelfOutput(\n",
              "              (dense): Linear(in_features=1024, out_features=1024, bias=True)\n",
              "              (LayerNorm): LayerNorm((1024,), eps=1e-12, elementwise_affine=True)\n",
              "              (dropout): Dropout(p=0.1, inplace=False)\n",
              "            )\n",
              "          )\n",
              "          (intermediate): BertIntermediate(\n",
              "            (dense): Linear(in_features=1024, out_features=4096, bias=True)\n",
              "          )\n",
              "          (output): BertOutput(\n",
              "            (dense): Linear(in_features=4096, out_features=1024, bias=True)\n",
              "            (LayerNorm): LayerNorm((1024,), eps=1e-12, elementwise_affine=True)\n",
              "            (dropout): Dropout(p=0.1, inplace=False)\n",
              "          )\n",
              "        )\n",
              "        (8): BertLayer(\n",
              "          (attention): BertAttention(\n",
              "            (self): BertSelfAttention(\n",
              "              (query): Linear(in_features=1024, out_features=1024, bias=True)\n",
              "              (key): Linear(in_features=1024, out_features=1024, bias=True)\n",
              "              (value): Linear(in_features=1024, out_features=1024, bias=True)\n",
              "              (dropout): Dropout(p=0.1, inplace=False)\n",
              "            )\n",
              "            (output): BertSelfOutput(\n",
              "              (dense): Linear(in_features=1024, out_features=1024, bias=True)\n",
              "              (LayerNorm): LayerNorm((1024,), eps=1e-12, elementwise_affine=True)\n",
              "              (dropout): Dropout(p=0.1, inplace=False)\n",
              "            )\n",
              "          )\n",
              "          (intermediate): BertIntermediate(\n",
              "            (dense): Linear(in_features=1024, out_features=4096, bias=True)\n",
              "          )\n",
              "          (output): BertOutput(\n",
              "            (dense): Linear(in_features=4096, out_features=1024, bias=True)\n",
              "            (LayerNorm): LayerNorm((1024,), eps=1e-12, elementwise_affine=True)\n",
              "            (dropout): Dropout(p=0.1, inplace=False)\n",
              "          )\n",
              "        )\n",
              "        (9): BertLayer(\n",
              "          (attention): BertAttention(\n",
              "            (self): BertSelfAttention(\n",
              "              (query): Linear(in_features=1024, out_features=1024, bias=True)\n",
              "              (key): Linear(in_features=1024, out_features=1024, bias=True)\n",
              "              (value): Linear(in_features=1024, out_features=1024, bias=True)\n",
              "              (dropout): Dropout(p=0.1, inplace=False)\n",
              "            )\n",
              "            (output): BertSelfOutput(\n",
              "              (dense): Linear(in_features=1024, out_features=1024, bias=True)\n",
              "              (LayerNorm): LayerNorm((1024,), eps=1e-12, elementwise_affine=True)\n",
              "              (dropout): Dropout(p=0.1, inplace=False)\n",
              "            )\n",
              "          )\n",
              "          (intermediate): BertIntermediate(\n",
              "            (dense): Linear(in_features=1024, out_features=4096, bias=True)\n",
              "          )\n",
              "          (output): BertOutput(\n",
              "            (dense): Linear(in_features=4096, out_features=1024, bias=True)\n",
              "            (LayerNorm): LayerNorm((1024,), eps=1e-12, elementwise_affine=True)\n",
              "            (dropout): Dropout(p=0.1, inplace=False)\n",
              "          )\n",
              "        )\n",
              "        (10): BertLayer(\n",
              "          (attention): BertAttention(\n",
              "            (self): BertSelfAttention(\n",
              "              (query): Linear(in_features=1024, out_features=1024, bias=True)\n",
              "              (key): Linear(in_features=1024, out_features=1024, bias=True)\n",
              "              (value): Linear(in_features=1024, out_features=1024, bias=True)\n",
              "              (dropout): Dropout(p=0.1, inplace=False)\n",
              "            )\n",
              "            (output): BertSelfOutput(\n",
              "              (dense): Linear(in_features=1024, out_features=1024, bias=True)\n",
              "              (LayerNorm): LayerNorm((1024,), eps=1e-12, elementwise_affine=True)\n",
              "              (dropout): Dropout(p=0.1, inplace=False)\n",
              "            )\n",
              "          )\n",
              "          (intermediate): BertIntermediate(\n",
              "            (dense): Linear(in_features=1024, out_features=4096, bias=True)\n",
              "          )\n",
              "          (output): BertOutput(\n",
              "            (dense): Linear(in_features=4096, out_features=1024, bias=True)\n",
              "            (LayerNorm): LayerNorm((1024,), eps=1e-12, elementwise_affine=True)\n",
              "            (dropout): Dropout(p=0.1, inplace=False)\n",
              "          )\n",
              "        )\n",
              "        (11): BertLayer(\n",
              "          (attention): BertAttention(\n",
              "            (self): BertSelfAttention(\n",
              "              (query): Linear(in_features=1024, out_features=1024, bias=True)\n",
              "              (key): Linear(in_features=1024, out_features=1024, bias=True)\n",
              "              (value): Linear(in_features=1024, out_features=1024, bias=True)\n",
              "              (dropout): Dropout(p=0.1, inplace=False)\n",
              "            )\n",
              "            (output): BertSelfOutput(\n",
              "              (dense): Linear(in_features=1024, out_features=1024, bias=True)\n",
              "              (LayerNorm): LayerNorm((1024,), eps=1e-12, elementwise_affine=True)\n",
              "              (dropout): Dropout(p=0.1, inplace=False)\n",
              "            )\n",
              "          )\n",
              "          (intermediate): BertIntermediate(\n",
              "            (dense): Linear(in_features=1024, out_features=4096, bias=True)\n",
              "          )\n",
              "          (output): BertOutput(\n",
              "            (dense): Linear(in_features=4096, out_features=1024, bias=True)\n",
              "            (LayerNorm): LayerNorm((1024,), eps=1e-12, elementwise_affine=True)\n",
              "            (dropout): Dropout(p=0.1, inplace=False)\n",
              "          )\n",
              "        )\n",
              "        (12): BertLayer(\n",
              "          (attention): BertAttention(\n",
              "            (self): BertSelfAttention(\n",
              "              (query): Linear(in_features=1024, out_features=1024, bias=True)\n",
              "              (key): Linear(in_features=1024, out_features=1024, bias=True)\n",
              "              (value): Linear(in_features=1024, out_features=1024, bias=True)\n",
              "              (dropout): Dropout(p=0.1, inplace=False)\n",
              "            )\n",
              "            (output): BertSelfOutput(\n",
              "              (dense): Linear(in_features=1024, out_features=1024, bias=True)\n",
              "              (LayerNorm): LayerNorm((1024,), eps=1e-12, elementwise_affine=True)\n",
              "              (dropout): Dropout(p=0.1, inplace=False)\n",
              "            )\n",
              "          )\n",
              "          (intermediate): BertIntermediate(\n",
              "            (dense): Linear(in_features=1024, out_features=4096, bias=True)\n",
              "          )\n",
              "          (output): BertOutput(\n",
              "            (dense): Linear(in_features=4096, out_features=1024, bias=True)\n",
              "            (LayerNorm): LayerNorm((1024,), eps=1e-12, elementwise_affine=True)\n",
              "            (dropout): Dropout(p=0.1, inplace=False)\n",
              "          )\n",
              "        )\n",
              "        (13): BertLayer(\n",
              "          (attention): BertAttention(\n",
              "            (self): BertSelfAttention(\n",
              "              (query): Linear(in_features=1024, out_features=1024, bias=True)\n",
              "              (key): Linear(in_features=1024, out_features=1024, bias=True)\n",
              "              (value): Linear(in_features=1024, out_features=1024, bias=True)\n",
              "              (dropout): Dropout(p=0.1, inplace=False)\n",
              "            )\n",
              "            (output): BertSelfOutput(\n",
              "              (dense): Linear(in_features=1024, out_features=1024, bias=True)\n",
              "              (LayerNorm): LayerNorm((1024,), eps=1e-12, elementwise_affine=True)\n",
              "              (dropout): Dropout(p=0.1, inplace=False)\n",
              "            )\n",
              "          )\n",
              "          (intermediate): BertIntermediate(\n",
              "            (dense): Linear(in_features=1024, out_features=4096, bias=True)\n",
              "          )\n",
              "          (output): BertOutput(\n",
              "            (dense): Linear(in_features=4096, out_features=1024, bias=True)\n",
              "            (LayerNorm): LayerNorm((1024,), eps=1e-12, elementwise_affine=True)\n",
              "            (dropout): Dropout(p=0.1, inplace=False)\n",
              "          )\n",
              "        )\n",
              "        (14): BertLayer(\n",
              "          (attention): BertAttention(\n",
              "            (self): BertSelfAttention(\n",
              "              (query): Linear(in_features=1024, out_features=1024, bias=True)\n",
              "              (key): Linear(in_features=1024, out_features=1024, bias=True)\n",
              "              (value): Linear(in_features=1024, out_features=1024, bias=True)\n",
              "              (dropout): Dropout(p=0.1, inplace=False)\n",
              "            )\n",
              "            (output): BertSelfOutput(\n",
              "              (dense): Linear(in_features=1024, out_features=1024, bias=True)\n",
              "              (LayerNorm): LayerNorm((1024,), eps=1e-12, elementwise_affine=True)\n",
              "              (dropout): Dropout(p=0.1, inplace=False)\n",
              "            )\n",
              "          )\n",
              "          (intermediate): BertIntermediate(\n",
              "            (dense): Linear(in_features=1024, out_features=4096, bias=True)\n",
              "          )\n",
              "          (output): BertOutput(\n",
              "            (dense): Linear(in_features=4096, out_features=1024, bias=True)\n",
              "            (LayerNorm): LayerNorm((1024,), eps=1e-12, elementwise_affine=True)\n",
              "            (dropout): Dropout(p=0.1, inplace=False)\n",
              "          )\n",
              "        )\n",
              "        (15): BertLayer(\n",
              "          (attention): BertAttention(\n",
              "            (self): BertSelfAttention(\n",
              "              (query): Linear(in_features=1024, out_features=1024, bias=True)\n",
              "              (key): Linear(in_features=1024, out_features=1024, bias=True)\n",
              "              (value): Linear(in_features=1024, out_features=1024, bias=True)\n",
              "              (dropout): Dropout(p=0.1, inplace=False)\n",
              "            )\n",
              "            (output): BertSelfOutput(\n",
              "              (dense): Linear(in_features=1024, out_features=1024, bias=True)\n",
              "              (LayerNorm): LayerNorm((1024,), eps=1e-12, elementwise_affine=True)\n",
              "              (dropout): Dropout(p=0.1, inplace=False)\n",
              "            )\n",
              "          )\n",
              "          (intermediate): BertIntermediate(\n",
              "            (dense): Linear(in_features=1024, out_features=4096, bias=True)\n",
              "          )\n",
              "          (output): BertOutput(\n",
              "            (dense): Linear(in_features=4096, out_features=1024, bias=True)\n",
              "            (LayerNorm): LayerNorm((1024,), eps=1e-12, elementwise_affine=True)\n",
              "            (dropout): Dropout(p=0.1, inplace=False)\n",
              "          )\n",
              "        )\n",
              "        (16): BertLayer(\n",
              "          (attention): BertAttention(\n",
              "            (self): BertSelfAttention(\n",
              "              (query): Linear(in_features=1024, out_features=1024, bias=True)\n",
              "              (key): Linear(in_features=1024, out_features=1024, bias=True)\n",
              "              (value): Linear(in_features=1024, out_features=1024, bias=True)\n",
              "              (dropout): Dropout(p=0.1, inplace=False)\n",
              "            )\n",
              "            (output): BertSelfOutput(\n",
              "              (dense): Linear(in_features=1024, out_features=1024, bias=True)\n",
              "              (LayerNorm): LayerNorm((1024,), eps=1e-12, elementwise_affine=True)\n",
              "              (dropout): Dropout(p=0.1, inplace=False)\n",
              "            )\n",
              "          )\n",
              "          (intermediate): BertIntermediate(\n",
              "            (dense): Linear(in_features=1024, out_features=4096, bias=True)\n",
              "          )\n",
              "          (output): BertOutput(\n",
              "            (dense): Linear(in_features=4096, out_features=1024, bias=True)\n",
              "            (LayerNorm): LayerNorm((1024,), eps=1e-12, elementwise_affine=True)\n",
              "            (dropout): Dropout(p=0.1, inplace=False)\n",
              "          )\n",
              "        )\n",
              "        (17): BertLayer(\n",
              "          (attention): BertAttention(\n",
              "            (self): BertSelfAttention(\n",
              "              (query): Linear(in_features=1024, out_features=1024, bias=True)\n",
              "              (key): Linear(in_features=1024, out_features=1024, bias=True)\n",
              "              (value): Linear(in_features=1024, out_features=1024, bias=True)\n",
              "              (dropout): Dropout(p=0.1, inplace=False)\n",
              "            )\n",
              "            (output): BertSelfOutput(\n",
              "              (dense): Linear(in_features=1024, out_features=1024, bias=True)\n",
              "              (LayerNorm): LayerNorm((1024,), eps=1e-12, elementwise_affine=True)\n",
              "              (dropout): Dropout(p=0.1, inplace=False)\n",
              "            )\n",
              "          )\n",
              "          (intermediate): BertIntermediate(\n",
              "            (dense): Linear(in_features=1024, out_features=4096, bias=True)\n",
              "          )\n",
              "          (output): BertOutput(\n",
              "            (dense): Linear(in_features=4096, out_features=1024, bias=True)\n",
              "            (LayerNorm): LayerNorm((1024,), eps=1e-12, elementwise_affine=True)\n",
              "            (dropout): Dropout(p=0.1, inplace=False)\n",
              "          )\n",
              "        )\n",
              "        (18): BertLayer(\n",
              "          (attention): BertAttention(\n",
              "            (self): BertSelfAttention(\n",
              "              (query): Linear(in_features=1024, out_features=1024, bias=True)\n",
              "              (key): Linear(in_features=1024, out_features=1024, bias=True)\n",
              "              (value): Linear(in_features=1024, out_features=1024, bias=True)\n",
              "              (dropout): Dropout(p=0.1, inplace=False)\n",
              "            )\n",
              "            (output): BertSelfOutput(\n",
              "              (dense): Linear(in_features=1024, out_features=1024, bias=True)\n",
              "              (LayerNorm): LayerNorm((1024,), eps=1e-12, elementwise_affine=True)\n",
              "              (dropout): Dropout(p=0.1, inplace=False)\n",
              "            )\n",
              "          )\n",
              "          (intermediate): BertIntermediate(\n",
              "            (dense): Linear(in_features=1024, out_features=4096, bias=True)\n",
              "          )\n",
              "          (output): BertOutput(\n",
              "            (dense): Linear(in_features=4096, out_features=1024, bias=True)\n",
              "            (LayerNorm): LayerNorm((1024,), eps=1e-12, elementwise_affine=True)\n",
              "            (dropout): Dropout(p=0.1, inplace=False)\n",
              "          )\n",
              "        )\n",
              "        (19): BertLayer(\n",
              "          (attention): BertAttention(\n",
              "            (self): BertSelfAttention(\n",
              "              (query): Linear(in_features=1024, out_features=1024, bias=True)\n",
              "              (key): Linear(in_features=1024, out_features=1024, bias=True)\n",
              "              (value): Linear(in_features=1024, out_features=1024, bias=True)\n",
              "              (dropout): Dropout(p=0.1, inplace=False)\n",
              "            )\n",
              "            (output): BertSelfOutput(\n",
              "              (dense): Linear(in_features=1024, out_features=1024, bias=True)\n",
              "              (LayerNorm): LayerNorm((1024,), eps=1e-12, elementwise_affine=True)\n",
              "              (dropout): Dropout(p=0.1, inplace=False)\n",
              "            )\n",
              "          )\n",
              "          (intermediate): BertIntermediate(\n",
              "            (dense): Linear(in_features=1024, out_features=4096, bias=True)\n",
              "          )\n",
              "          (output): BertOutput(\n",
              "            (dense): Linear(in_features=4096, out_features=1024, bias=True)\n",
              "            (LayerNorm): LayerNorm((1024,), eps=1e-12, elementwise_affine=True)\n",
              "            (dropout): Dropout(p=0.1, inplace=False)\n",
              "          )\n",
              "        )\n",
              "        (20): BertLayer(\n",
              "          (attention): BertAttention(\n",
              "            (self): BertSelfAttention(\n",
              "              (query): Linear(in_features=1024, out_features=1024, bias=True)\n",
              "              (key): Linear(in_features=1024, out_features=1024, bias=True)\n",
              "              (value): Linear(in_features=1024, out_features=1024, bias=True)\n",
              "              (dropout): Dropout(p=0.1, inplace=False)\n",
              "            )\n",
              "            (output): BertSelfOutput(\n",
              "              (dense): Linear(in_features=1024, out_features=1024, bias=True)\n",
              "              (LayerNorm): LayerNorm((1024,), eps=1e-12, elementwise_affine=True)\n",
              "              (dropout): Dropout(p=0.1, inplace=False)\n",
              "            )\n",
              "          )\n",
              "          (intermediate): BertIntermediate(\n",
              "            (dense): Linear(in_features=1024, out_features=4096, bias=True)\n",
              "          )\n",
              "          (output): BertOutput(\n",
              "            (dense): Linear(in_features=4096, out_features=1024, bias=True)\n",
              "            (LayerNorm): LayerNorm((1024,), eps=1e-12, elementwise_affine=True)\n",
              "            (dropout): Dropout(p=0.1, inplace=False)\n",
              "          )\n",
              "        )\n",
              "        (21): BertLayer(\n",
              "          (attention): BertAttention(\n",
              "            (self): BertSelfAttention(\n",
              "              (query): Linear(in_features=1024, out_features=1024, bias=True)\n",
              "              (key): Linear(in_features=1024, out_features=1024, bias=True)\n",
              "              (value): Linear(in_features=1024, out_features=1024, bias=True)\n",
              "              (dropout): Dropout(p=0.1, inplace=False)\n",
              "            )\n",
              "            (output): BertSelfOutput(\n",
              "              (dense): Linear(in_features=1024, out_features=1024, bias=True)\n",
              "              (LayerNorm): LayerNorm((1024,), eps=1e-12, elementwise_affine=True)\n",
              "              (dropout): Dropout(p=0.1, inplace=False)\n",
              "            )\n",
              "          )\n",
              "          (intermediate): BertIntermediate(\n",
              "            (dense): Linear(in_features=1024, out_features=4096, bias=True)\n",
              "          )\n",
              "          (output): BertOutput(\n",
              "            (dense): Linear(in_features=4096, out_features=1024, bias=True)\n",
              "            (LayerNorm): LayerNorm((1024,), eps=1e-12, elementwise_affine=True)\n",
              "            (dropout): Dropout(p=0.1, inplace=False)\n",
              "          )\n",
              "        )\n",
              "        (22): BertLayer(\n",
              "          (attention): BertAttention(\n",
              "            (self): BertSelfAttention(\n",
              "              (query): Linear(in_features=1024, out_features=1024, bias=True)\n",
              "              (key): Linear(in_features=1024, out_features=1024, bias=True)\n",
              "              (value): Linear(in_features=1024, out_features=1024, bias=True)\n",
              "              (dropout): Dropout(p=0.1, inplace=False)\n",
              "            )\n",
              "            (output): BertSelfOutput(\n",
              "              (dense): Linear(in_features=1024, out_features=1024, bias=True)\n",
              "              (LayerNorm): LayerNorm((1024,), eps=1e-12, elementwise_affine=True)\n",
              "              (dropout): Dropout(p=0.1, inplace=False)\n",
              "            )\n",
              "          )\n",
              "          (intermediate): BertIntermediate(\n",
              "            (dense): Linear(in_features=1024, out_features=4096, bias=True)\n",
              "          )\n",
              "          (output): BertOutput(\n",
              "            (dense): Linear(in_features=4096, out_features=1024, bias=True)\n",
              "            (LayerNorm): LayerNorm((1024,), eps=1e-12, elementwise_affine=True)\n",
              "            (dropout): Dropout(p=0.1, inplace=False)\n",
              "          )\n",
              "        )\n",
              "        (23): BertLayer(\n",
              "          (attention): BertAttention(\n",
              "            (self): BertSelfAttention(\n",
              "              (query): Linear(in_features=1024, out_features=1024, bias=True)\n",
              "              (key): Linear(in_features=1024, out_features=1024, bias=True)\n",
              "              (value): Linear(in_features=1024, out_features=1024, bias=True)\n",
              "              (dropout): Dropout(p=0.1, inplace=False)\n",
              "            )\n",
              "            (output): BertSelfOutput(\n",
              "              (dense): Linear(in_features=1024, out_features=1024, bias=True)\n",
              "              (LayerNorm): LayerNorm((1024,), eps=1e-12, elementwise_affine=True)\n",
              "              (dropout): Dropout(p=0.1, inplace=False)\n",
              "            )\n",
              "          )\n",
              "          (intermediate): BertIntermediate(\n",
              "            (dense): Linear(in_features=1024, out_features=4096, bias=True)\n",
              "          )\n",
              "          (output): BertOutput(\n",
              "            (dense): Linear(in_features=4096, out_features=1024, bias=True)\n",
              "            (LayerNorm): LayerNorm((1024,), eps=1e-12, elementwise_affine=True)\n",
              "            (dropout): Dropout(p=0.1, inplace=False)\n",
              "          )\n",
              "        )\n",
              "      )\n",
              "    )\n",
              "    (pooler): BertPooler(\n",
              "      (dense): Linear(in_features=1024, out_features=1024, bias=True)\n",
              "      (activation): Tanh()\n",
              "    )\n",
              "  )\n",
              "  (dropout): Dropout(p=0.1, inplace=False)\n",
              "  (lin): Linear(in_features=1024, out_features=10, bias=True)\n",
              ")"
            ]
          },
          "metadata": {
            "tags": []
          },
          "execution_count": 25
        }
      ]
    },
    {
      "cell_type": "markdown",
      "metadata": {
        "id": "AnWxsxsWac6S"
      },
      "source": [
        "Perform training and validation. For better understanding of PyTorch I used [this](https://pytorch.org/tutorials/beginner/deep_learning_60min_blitz.html) simple tutorial.\n",
        "\n",
        "Loss - CrossEntropy, optimizer - AdamW"
      ]
    },
    {
      "cell_type": "code",
      "metadata": {
        "colab": {
          "base_uri": "https://localhost:8080/"
        },
        "id": "syqaDKOELyKa",
        "outputId": "3bb28726-f380-4ab7-fb35-ac0568ba3ef1"
      },
      "source": [
        "import random\n",
        "import numpy as np\n",
        "\n",
        "# This training code is based on the `run_glue.py` script here:\n",
        "# https://github.com/huggingface/transformers/blob/5bfcd0485ece086ebcbed2d008813037968a9e58/examples/run_glue.py#L128\n",
        "\n",
        "# Set the seed value all over the place to make this reproducible.\n",
        "seed_val = 42\n",
        "\n",
        "random.seed(seed_val)\n",
        "np.random.seed(seed_val)\n",
        "torch.manual_seed(seed_val)\n",
        "torch.cuda.manual_seed_all(seed_val)\n",
        "\n",
        "# define loss function\n",
        "criterion = nn.CrossEntropyLoss()\n",
        "\n",
        "# We'll store a number of quantities such as training and validation loss, \n",
        "# validation accuracy, and timings.\n",
        "training_stats = []\n",
        "\n",
        "# Measure the total training time for the whole run.\n",
        "total_t0 = time.time()\n",
        "\n",
        "# For each epoch...\n",
        "for epoch_i in range(0, epochs):\n",
        "    \n",
        "    # ========================================\n",
        "    #               Training\n",
        "    # ========================================\n",
        "    \n",
        "    # Perform one full pass over the training set.\n",
        "\n",
        "    print(\"\")\n",
        "    print('======== Epoch {:} / {:} ========'.format(epoch_i + 1, epochs))\n",
        "    print('Training...')\n",
        "\n",
        "    # Measure how long the training epoch takes.\n",
        "    t0 = time.time()\n",
        "\n",
        "    # Reset the total loss for this epoch.\n",
        "    total_train_loss = 0\n",
        "\n",
        "    # Put the model into training mode. Don't be mislead--the call to \n",
        "    # `train` just changes the *mode*, it doesn't *perform* the training.\n",
        "    # `dropout` and `batchnorm` layers behave differently during training\n",
        "    # vs. test (source: https://stackoverflow.com/questions/51433378/what-does-model-train-do-in-pytorch)\n",
        "    net.train()\n",
        "\n",
        "    # For each batch of training data...\n",
        "    for step, batch in enumerate(train_dataloader):\n",
        "\n",
        "        # Progress update every 40 batches.\n",
        "        if step % 40 == 0 and not step == 0:\n",
        "            # Calculate elapsed time in minutes.\n",
        "            elapsed = format_time(time.time() - t0)\n",
        "            \n",
        "            # Report progress.\n",
        "            print('  Batch {:>5,}  of  {:>5,}.    Elapsed: {:}.'.format(step, len(train_dataloader), elapsed))\n",
        "\n",
        "        # Unpack this training batch from our dataloader. \n",
        "        #\n",
        "        # As we unpack the batch, we'll also copy each tensor to the GPU using the \n",
        "        # `to` method.\n",
        "        #\n",
        "        # `batch` contains three pytorch tensors:\n",
        "        #   [0]: input ids \n",
        "        #   [1]: attention masks\n",
        "        #   [2]: labels \n",
        "        b_input_ids = batch[0].cuda()\n",
        "        b_input_mask = batch[1].cuda()\n",
        "        b_labels = batch[2].cuda()\n",
        "\n",
        "        # Always clear any previously calculated gradients before performing a\n",
        "        # backward pass. PyTorch doesn't do this automatically because \n",
        "        # accumulating the gradients is \"convenient while training RNNs\". \n",
        "        # (source: https://stackoverflow.com/questions/48001598/why-do-we-need-to-call-zero-grad-in-pytorch)\n",
        "        net.zero_grad()        \n",
        "\n",
        "        # Perform a forward pass (evaluate the model on this training batch).\n",
        "        # In PyTorch, calling `model` will in turn call the model's `forward` \n",
        "        # function and pass down the arguments.\n",
        "        result = net(b_input_ids, \n",
        "                       attention_mask=b_input_mask)\n",
        "\n",
        "        loss = criterion(result, b_labels)\n",
        "\n",
        "        # Accumulate the training loss over all of the batches so that we can\n",
        "        # calculate the average loss at the end. `loss` is a Tensor containing a\n",
        "        # single value; the `.item()` function just returns the Python value \n",
        "        # from the tensor.\n",
        "        total_train_loss += loss.item()\n",
        "\n",
        "        # Perform a backward pass to calculate the gradients.\n",
        "        loss.backward()\n",
        "\n",
        "        # Clip the norm of the gradients to 1.0.\n",
        "        # This is to help prevent the \"exploding gradients\" problem.\n",
        "        torch.nn.utils.clip_grad_norm_(net.parameters(), 1.0)\n",
        "\n",
        "        # Update parameters and take a step using the computed gradient.\n",
        "        # The optimizer dictates the \"update rule\"--how the parameters are\n",
        "        # modified based on their gradients, the learning rate, etc.\n",
        "        optimizer.step()\n",
        "\n",
        "        # Update the learning rate.\n",
        "        scheduler.step()\n",
        "\n",
        "        # empty cuda\n",
        "        del b_input_ids\n",
        "        del b_labels\n",
        "        del b_input_mask\n",
        "        torch.cuda.empty_cache()\n",
        "\n",
        "    # Calculate the average loss over all of the batches.\n",
        "    avg_train_loss = total_train_loss / len(train_dataloader)            \n",
        "    \n",
        "    # Measure how long this epoch took.\n",
        "    training_time = format_time(time.time() - t0)\n",
        "\n",
        "    print(\"\")\n",
        "    print(\"  Average training loss: {0:.2f}\".format(avg_train_loss))\n",
        "    print(\"  Training epcoh took: {:}\".format(training_time))\n",
        "        \n",
        "    # ========================================\n",
        "    #               Validation\n",
        "    # ========================================\n",
        "    # After the completion of each training epoch, measure our performance on\n",
        "    # our validation set.\n",
        "\n",
        "    print(\"\")\n",
        "    print(\"Running Validation...\")\n",
        "\n",
        "    t0 = time.time()\n",
        "\n",
        "    # Put the model in evaluation mode--the dropout layers behave differently\n",
        "    # during evaluation.\n",
        "    net.eval()\n",
        "\n",
        "    # Tracking variables \n",
        "    total = 0\n",
        "    correct = 0\n",
        "    total_eval_loss = 0\n",
        "    nb_eval_steps = 0\n",
        "\n",
        "    # Evaluate data for one epoch\n",
        "    for batch in validation_dataloader:\n",
        "        \n",
        "        # Unpack this training batch from our dataloader. \n",
        "        #\n",
        "        # As we unpack the batch, we'll also copy each tensor to the GPU using \n",
        "        # the `to` method.\n",
        "        #\n",
        "        # `batch` contains three pytorch tensors:\n",
        "        #   [0]: input ids \n",
        "        #   [1]: attention masks\n",
        "        #   [2]: labels \n",
        "        b_input_ids = batch[0].to(device)\n",
        "        b_input_mask = batch[1].to(device)\n",
        "        b_labels = batch[2].to(device)\n",
        "        \n",
        "        # Tell pytorch not to bother with constructing the compute graph during\n",
        "        # the forward pass, since this is only needed for backprop (training).\n",
        "        with torch.no_grad():        \n",
        "\n",
        "            # Forward pass, calculate predictions.\n",
        "            result = net(b_input_ids, \n",
        "                           attention_mask=b_input_mask)\n",
        "\n",
        "        # Get the loss output by the model\n",
        "        loss = criterion(result, b_labels)\n",
        "            \n",
        "        # Accumulate the validation loss.\n",
        "        total_eval_loss += loss.item()\n",
        "\n",
        "        # Move labels to CPU\n",
        "        label_ids = b_labels.to('cpu').numpy()\n",
        "\n",
        "        # Calculate number of correct predictions and total size of the batch\n",
        "        _, predicted = torch.max(result.data, 1)\n",
        "        total += b_labels.size(0)\n",
        "        correct += (predicted == b_labels).sum().item()\n",
        "\n",
        "        # Empty cuda\n",
        "        del b_input_ids\n",
        "        del b_labels\n",
        "        del b_input_mask\n",
        "        torch.cuda.empty_cache()\n",
        "        \n",
        "\n",
        "    # Report the final accuracy for this validation run.\n",
        "    avg_val_accuracy = correct / total\n",
        "    print(\"  Accuracy: {0:.2f}\".format(avg_val_accuracy))\n",
        "\n",
        "    # Calculate the average loss over all of the batches.\n",
        "    avg_val_loss = total_eval_loss / len(validation_dataloader)\n",
        "    \n",
        "    # Measure how long the validation run took.\n",
        "    validation_time = format_time(time.time() - t0)\n",
        "    \n",
        "    print(\"  Validation Loss: {0:.2f}\".format(avg_val_loss))\n",
        "    print(\"  Validation took: {:}\".format(validation_time))\n",
        "\n",
        "    # Record all statistics from this epoch.\n",
        "    training_stats.append(\n",
        "        {\n",
        "            'epoch': epoch_i + 1,\n",
        "            'Training Loss': avg_train_loss,\n",
        "            'Valid. Loss': avg_val_loss,\n",
        "            'Valid. Accur.': avg_val_accuracy,\n",
        "            'Training Time': training_time,\n",
        "            'Validation Time': validation_time\n",
        "        }\n",
        "    )\n",
        "\n",
        "print(\"\")\n",
        "print(\"Training complete!\")\n",
        "\n",
        "print(\"Total training took {:} (h:mm:ss)\".format(format_time(time.time()-total_t0)))"
      ],
      "execution_count": null,
      "outputs": [
        {
          "output_type": "stream",
          "text": [
            "\n",
            "======== Epoch 1 / 2 ========\n",
            "Training...\n",
            "  Batch    40  of  1,094.    Elapsed: 0:00:54.\n",
            "  Batch    80  of  1,094.    Elapsed: 0:01:48.\n",
            "  Batch   120  of  1,094.    Elapsed: 0:02:41.\n",
            "  Batch   160  of  1,094.    Elapsed: 0:03:35.\n",
            "  Batch   200  of  1,094.    Elapsed: 0:04:28.\n",
            "  Batch   240  of  1,094.    Elapsed: 0:05:22.\n",
            "  Batch   280  of  1,094.    Elapsed: 0:06:15.\n",
            "  Batch   320  of  1,094.    Elapsed: 0:07:09.\n",
            "  Batch   360  of  1,094.    Elapsed: 0:08:03.\n",
            "  Batch   400  of  1,094.    Elapsed: 0:08:56.\n",
            "  Batch   440  of  1,094.    Elapsed: 0:09:50.\n",
            "  Batch   480  of  1,094.    Elapsed: 0:10:43.\n",
            "  Batch   520  of  1,094.    Elapsed: 0:11:37.\n",
            "  Batch   560  of  1,094.    Elapsed: 0:12:30.\n",
            "  Batch   600  of  1,094.    Elapsed: 0:13:24.\n",
            "  Batch   640  of  1,094.    Elapsed: 0:14:17.\n",
            "  Batch   680  of  1,094.    Elapsed: 0:15:11.\n",
            "  Batch   720  of  1,094.    Elapsed: 0:16:04.\n",
            "  Batch   760  of  1,094.    Elapsed: 0:16:58.\n",
            "  Batch   800  of  1,094.    Elapsed: 0:17:52.\n",
            "  Batch   840  of  1,094.    Elapsed: 0:18:45.\n",
            "  Batch   880  of  1,094.    Elapsed: 0:19:39.\n",
            "  Batch   920  of  1,094.    Elapsed: 0:20:33.\n",
            "  Batch   960  of  1,094.    Elapsed: 0:21:26.\n",
            "  Batch 1,000  of  1,094.    Elapsed: 0:22:20.\n",
            "  Batch 1,040  of  1,094.    Elapsed: 0:23:13.\n",
            "  Batch 1,080  of  1,094.    Elapsed: 0:24:07.\n",
            "\n",
            "  Average training loss: 0.84\n",
            "  Training epcoh took: 0:24:25\n",
            "\n",
            "Running Validation...\n",
            "  Accuracy: 0.78\n",
            "  Validation Loss: 0.72\n",
            "  Validation took: 0:02:09\n",
            "\n",
            "======== Epoch 2 / 2 ========\n",
            "Training...\n",
            "  Batch    40  of  1,094.    Elapsed: 0:00:54.\n",
            "  Batch    80  of  1,094.    Elapsed: 0:01:47.\n",
            "  Batch   120  of  1,094.    Elapsed: 0:02:41.\n",
            "  Batch   160  of  1,094.    Elapsed: 0:03:34.\n",
            "  Batch   200  of  1,094.    Elapsed: 0:04:28.\n",
            "  Batch   240  of  1,094.    Elapsed: 0:05:21.\n",
            "  Batch   280  of  1,094.    Elapsed: 0:06:15.\n",
            "  Batch   320  of  1,094.    Elapsed: 0:07:08.\n"
          ],
          "name": "stdout"
        }
      ]
    },
    {
      "cell_type": "markdown",
      "metadata": {
        "id": "X2mr9A_Gb1qz"
      },
      "source": [
        "Display some pretty graphs"
      ]
    },
    {
      "cell_type": "code",
      "metadata": {
        "id": "m8qFEazDNFXv"
      },
      "source": [
        "import pandas as pd\n",
        "\n",
        "# Display floats with two decimal places.\n",
        "pd.set_option('precision', 2)\n",
        "\n",
        "# Create a DataFrame from our training statistics.\n",
        "df_stats = pd.DataFrame(data=training_stats)\n",
        "\n",
        "# Use the 'epoch' as the row index.\n",
        "df_stats = df_stats.set_index('epoch')\n",
        "\n",
        "# A hack to force the column headers to wrap.\n",
        "#df = df.style.set_table_styles([dict(selector=\"th\",props=[('max-width', '70px')])])\n",
        "\n",
        "# Display the table.\n",
        "df_stats"
      ],
      "execution_count": null,
      "outputs": []
    },
    {
      "cell_type": "code",
      "metadata": {
        "id": "CutE55T6L4gr"
      },
      "source": [
        "import matplotlib.pyplot as plt\n",
        "% matplotlib inline\n",
        "\n",
        "import seaborn as sns\n",
        "\n",
        "# Use plot styling from seaborn.\n",
        "sns.set(style='darkgrid')\n",
        "\n",
        "# Increase the plot size and font size.\n",
        "sns.set(font_scale=1.5)\n",
        "plt.rcParams[\"figure.figsize\"] = (12,6)\n",
        "\n",
        "# Plot the learning curve.\n",
        "plt.plot(df_stats['Training Loss'], 'b-o', label=\"Training\")\n",
        "plt.plot(df_stats['Valid. Loss'], 'g-o', label=\"Validation\")\n",
        "\n",
        "# Label the plot.\n",
        "plt.title(\"Training & Validation Loss\")\n",
        "plt.xlabel(\"Epoch\")\n",
        "plt.ylabel(\"Loss\")\n",
        "plt.legend()\n",
        "plt.xticks([1, 2, 3, 4])\n",
        "\n",
        "plt.show()"
      ],
      "execution_count": null,
      "outputs": []
    },
    {
      "cell_type": "markdown",
      "metadata": {
        "id": "sNZ1BkfrK7PZ"
      },
      "source": [
        "# Testing"
      ]
    },
    {
      "cell_type": "markdown",
      "metadata": {
        "id": "FpLvGkUyb8Vi"
      },
      "source": [
        "Evaluate data on testing dataset. The loop is the same as in validation mode, the dataset is different.\n",
        "\n",
        "Use precision, recall and f1-score with unweighted averaging as metrics"
      ]
    },
    {
      "cell_type": "code",
      "metadata": {
        "id": "oDZlNbOKNeFd"
      },
      "source": [
        "# Put model in evaluation mode\n",
        "net.eval()\n",
        "\n",
        "# Tracking variables \n",
        "predictions , true_labels = [], []\n",
        "\n",
        "# Predict \n",
        "for batch in testing_dataloader:\n",
        "    # Add batch to GPU\n",
        "    batch = tuple(t.to(device) for t in batch)\n",
        "\n",
        "    # Unpack the inputs from our dataloader\n",
        "    b_input_ids, b_input_mask, b_labels = batch\n",
        "\n",
        "    # Telling the model not to compute or store gradients, saving memory and \n",
        "    # speeding up prediction\n",
        "    with torch.no_grad():\n",
        "        # Forward pass, calculate predictions.\n",
        "        result = net(b_input_ids,\n",
        "                        attention_mask=b_input_mask)\n",
        "\n",
        "    # Move labels to CPU\n",
        "    label_ids = b_labels.to('cpu').numpy()\n",
        "\n",
        "    # Calculate predictions\n",
        "    _, predicted = torch.max(result.data, 1)\n",
        "\n",
        "    # Store predictions and true labels\n",
        "    predictions.append(predicted)\n",
        "    true_labels.append(label_ids)\n",
        "\n",
        "    # Empty cuda\n",
        "    del b_input_ids\n",
        "    del b_labels\n",
        "    del b_input_mask\n",
        "    torch.cuda.empty_cache()\n",
        "\n",
        "print('    DONE.')"
      ],
      "execution_count": null,
      "outputs": []
    },
    {
      "cell_type": "markdown",
      "metadata": {
        "id": "lEhROaOfUjos"
      },
      "source": [
        "Evaluate model"
      ]
    },
    {
      "cell_type": "code",
      "metadata": {
        "id": "tDb2mTW3Ufm3"
      },
      "source": [
        "from sklearn.metrics import precision_score, recall_score, f1_score\n",
        "\n",
        "# move predictions to cpu\n",
        "predicted_labels = np.concatenate([np.array(prediction.to('cpu'), dtype='long') for prediction in predictions])\n",
        "\n",
        "y_true = np.concatenate(true_labels).flatten()\n",
        "y_pred = predicted_labels.flatten()\n",
        "\n",
        "print(\"Precision: {0:.4f}\".format(precision_score(y_true, y_pred, average='macro'))) # unweighted average of precisions\n",
        "print(\"Recall: {0:.4f}\".format(recall_score(y_true, y_pred, average='macro'))) # unweighted average of recalls\n",
        "print(\"F1-score: {0:.4f}\".format(f1_score(y_true, y_pred, average='macro'))) # unweighted average of f1-scores"
      ],
      "execution_count": null,
      "outputs": []
    },
    {
      "cell_type": "markdown",
      "metadata": {
        "id": "ugSLY13qWJ55"
      },
      "source": [
        "# Save model"
      ]
    },
    {
      "cell_type": "code",
      "metadata": {
        "id": "5X4DxhvNRcfb"
      },
      "source": [
        "import os\n",
        "\n",
        "output_dir = './model_save/'\n",
        "\n",
        "# Create output directory if needed\n",
        "if not os.path.exists(output_dir):\n",
        "    os.makedirs(output_dir)\n",
        "\n",
        "print(\"Saving model to %s\" % output_dir)\n",
        "\n",
        "# Save model, tokenizer and training arguments\n",
        "torch.save(net.state_dict(), os.path.join(output_dir, 'sbert-fine-tune-model'))\n",
        "sbertTokenizer.save_pretrained(output_dir)\n",
        "args = {'batch_size': 32, 'epochs': 2, 'optim-lr': 2e-5, 'optim-eps': 1e-8}\n",
        "torch.save(args, os.path.join(output_dir, 'training_args.bin'))"
      ],
      "execution_count": null,
      "outputs": []
    },
    {
      "cell_type": "markdown",
      "metadata": {
        "id": "iqNekoZXbvQU"
      },
      "source": [
        "Look at the sizes, out of curiousity"
      ]
    },
    {
      "cell_type": "code",
      "metadata": {
        "id": "FY8TekbTWsbn"
      },
      "source": [
        "!ls -l --block-size=K ./model_save/"
      ],
      "execution_count": null,
      "outputs": []
    },
    {
      "cell_type": "markdown",
      "metadata": {
        "id": "EiCvO-UgWgO9"
      },
      "source": [
        "Save to Google Drive"
      ]
    },
    {
      "cell_type": "code",
      "metadata": {
        "id": "0YrXQIqpWfTG"
      },
      "source": [
        "# Copy the model files to a directory in your Google Drive.\n",
        "!cp -r ./model_save/ \"/content/drive/My Drive/Colab Notebooks/SBERT-fine-tune/\""
      ],
      "execution_count": null,
      "outputs": []
    },
    {
      "cell_type": "markdown",
      "metadata": {
        "id": "S-I1RKpGXGZT"
      },
      "source": [
        "To load model from drive:"
      ]
    },
    {
      "cell_type": "code",
      "metadata": {
        "id": "PiYeAnC5SbSE"
      },
      "source": [
        "from transformers import BertTokenizerFast\n",
        "\n",
        "# Net class must be the same as class of the saved model. Initialize it somewehere before\n",
        "model = Net()\n",
        "\n",
        "model.load_state_dict(torch.load(os.path.join(output_dir, 'sbert-fine-tune-model')))\n",
        "tokenizer = BertTokenizerFast.from_pretrained(output_dir)\n",
        "\n",
        "# Copy the model to the GPU.\n",
        "model.to(device)"
      ],
      "execution_count": null,
      "outputs": []
    },
    {
      "cell_type": "markdown",
      "metadata": {
        "id": "uySI4JHSewxO"
      },
      "source": [
        "Немного потестируем, что все загрузилось"
      ]
    },
    {
      "cell_type": "code",
      "metadata": {
        "id": "LvvwNmzVdX0q"
      },
      "source": [
        "model.eval()\n",
        "\n",
        "testSent = 'В стране инфляция'\n",
        "\n",
        "input = tokenizer(testSent, padding='max_length', truncation=True, max_length=64, return_attention_mask=True, return_tensors='pt')\n",
        "input_ind = input['input_ids']\n",
        "attention_mask = input['attention_mask']\n",
        "\n",
        "gpu_input_ind = input_ind.to(device)\n",
        "gpu_attention_mask = attention_mask.to(device)\n",
        "\n",
        "_ , predicted = torch.max(model(gpu_input_ind, attention_mask=gpu_attention_mask), 1)\n",
        "id_to_topic[predicted]"
      ],
      "execution_count": null,
      "outputs": []
    },
    {
      "cell_type": "markdown",
      "metadata": {
        "id": "z8c3T1gFcwSS"
      },
      "source": [
        "Done :)"
      ]
    },
    {
      "cell_type": "markdown",
      "metadata": {
        "id": "Nph6kKvUcdNP"
      },
      "source": [
        "![smiling-dog.jpg](data:image/jpeg;base64,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)"
      ]
    }
  ]
}