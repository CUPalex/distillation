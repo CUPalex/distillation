{
  "nbformat": 4,
  "nbformat_minor": 0,
  "metadata": {
    "colab": {
      "name": "New Torch.ipynb",
      "provenance": [],
      "collapsed_sections": []
    },
    "kernelspec": {
      "name": "python3",
      "display_name": "Python 3"
    },
    "language_info": {
      "name": "python"
    },
    "accelerator": "GPU",
    "widgets": {
      "application/vnd.jupyter.widget-state+json": {
        "fd4a8ed60e0f4160bf1fb1caaa093de5": {
          "model_module": "@jupyter-widgets/controls",
          "model_name": "HBoxModel",
          "state": {
            "_view_name": "HBoxView",
            "_dom_classes": [],
            "_model_name": "HBoxModel",
            "_view_module": "@jupyter-widgets/controls",
            "_model_module_version": "1.5.0",
            "_view_count": null,
            "_view_module_version": "1.5.0",
            "box_style": "",
            "layout": "IPY_MODEL_1767a85362784588a8d4f5e57dc15520",
            "_model_module": "@jupyter-widgets/controls",
            "children": [
              "IPY_MODEL_186f8d1a6899452b89a264cb6028a2b9",
              "IPY_MODEL_cef247c514814732b68a12b9a08076b5"
            ]
          }
        },
        "1767a85362784588a8d4f5e57dc15520": {
          "model_module": "@jupyter-widgets/base",
          "model_name": "LayoutModel",
          "state": {
            "_view_name": "LayoutView",
            "grid_template_rows": null,
            "right": null,
            "justify_content": null,
            "_view_module": "@jupyter-widgets/base",
            "overflow": null,
            "_model_module_version": "1.2.0",
            "_view_count": null,
            "flex_flow": null,
            "width": null,
            "min_width": null,
            "border": null,
            "align_items": null,
            "bottom": null,
            "_model_module": "@jupyter-widgets/base",
            "top": null,
            "grid_column": null,
            "overflow_y": null,
            "overflow_x": null,
            "grid_auto_flow": null,
            "grid_area": null,
            "grid_template_columns": null,
            "flex": null,
            "_model_name": "LayoutModel",
            "justify_items": null,
            "grid_row": null,
            "max_height": null,
            "align_content": null,
            "visibility": null,
            "align_self": null,
            "height": null,
            "min_height": null,
            "padding": null,
            "grid_auto_rows": null,
            "grid_gap": null,
            "max_width": null,
            "order": null,
            "_view_module_version": "1.2.0",
            "grid_template_areas": null,
            "object_position": null,
            "object_fit": null,
            "grid_auto_columns": null,
            "margin": null,
            "display": null,
            "left": null
          }
        },
        "186f8d1a6899452b89a264cb6028a2b9": {
          "model_module": "@jupyter-widgets/controls",
          "model_name": "FloatProgressModel",
          "state": {
            "_view_name": "ProgressView",
            "style": "IPY_MODEL_6c9ebb74301049d984bd05aeb29b91d4",
            "_dom_classes": [],
            "description": "Downloading: 100%",
            "_model_name": "FloatProgressModel",
            "bar_style": "success",
            "max": 655,
            "_view_module": "@jupyter-widgets/controls",
            "_model_module_version": "1.5.0",
            "value": 655,
            "_view_count": null,
            "_view_module_version": "1.5.0",
            "orientation": "horizontal",
            "min": 0,
            "description_tooltip": null,
            "_model_module": "@jupyter-widgets/controls",
            "layout": "IPY_MODEL_7264303c6a754be69d673c80e33b8555"
          }
        },
        "cef247c514814732b68a12b9a08076b5": {
          "model_module": "@jupyter-widgets/controls",
          "model_name": "HTMLModel",
          "state": {
            "_view_name": "HTMLView",
            "style": "IPY_MODEL_0510fb9e7ccd41f5b040ae3143034c1c",
            "_dom_classes": [],
            "description": "",
            "_model_name": "HTMLModel",
            "placeholder": "​",
            "_view_module": "@jupyter-widgets/controls",
            "_model_module_version": "1.5.0",
            "value": " 655/655 [00:00&lt;00:00, 1.31kB/s]",
            "_view_count": null,
            "_view_module_version": "1.5.0",
            "description_tooltip": null,
            "_model_module": "@jupyter-widgets/controls",
            "layout": "IPY_MODEL_7be5d20796b742c5b489cbf4571078fa"
          }
        },
        "6c9ebb74301049d984bd05aeb29b91d4": {
          "model_module": "@jupyter-widgets/controls",
          "model_name": "ProgressStyleModel",
          "state": {
            "_view_name": "StyleView",
            "_model_name": "ProgressStyleModel",
            "description_width": "initial",
            "_view_module": "@jupyter-widgets/base",
            "_model_module_version": "1.5.0",
            "_view_count": null,
            "_view_module_version": "1.2.0",
            "bar_color": null,
            "_model_module": "@jupyter-widgets/controls"
          }
        },
        "7264303c6a754be69d673c80e33b8555": {
          "model_module": "@jupyter-widgets/base",
          "model_name": "LayoutModel",
          "state": {
            "_view_name": "LayoutView",
            "grid_template_rows": null,
            "right": null,
            "justify_content": null,
            "_view_module": "@jupyter-widgets/base",
            "overflow": null,
            "_model_module_version": "1.2.0",
            "_view_count": null,
            "flex_flow": null,
            "width": null,
            "min_width": null,
            "border": null,
            "align_items": null,
            "bottom": null,
            "_model_module": "@jupyter-widgets/base",
            "top": null,
            "grid_column": null,
            "overflow_y": null,
            "overflow_x": null,
            "grid_auto_flow": null,
            "grid_area": null,
            "grid_template_columns": null,
            "flex": null,
            "_model_name": "LayoutModel",
            "justify_items": null,
            "grid_row": null,
            "max_height": null,
            "align_content": null,
            "visibility": null,
            "align_self": null,
            "height": null,
            "min_height": null,
            "padding": null,
            "grid_auto_rows": null,
            "grid_gap": null,
            "max_width": null,
            "order": null,
            "_view_module_version": "1.2.0",
            "grid_template_areas": null,
            "object_position": null,
            "object_fit": null,
            "grid_auto_columns": null,
            "margin": null,
            "display": null,
            "left": null
          }
        },
        "0510fb9e7ccd41f5b040ae3143034c1c": {
          "model_module": "@jupyter-widgets/controls",
          "model_name": "DescriptionStyleModel",
          "state": {
            "_view_name": "StyleView",
            "_model_name": "DescriptionStyleModel",
            "description_width": "",
            "_view_module": "@jupyter-widgets/base",
            "_model_module_version": "1.5.0",
            "_view_count": null,
            "_view_module_version": "1.2.0",
            "_model_module": "@jupyter-widgets/controls"
          }
        },
        "7be5d20796b742c5b489cbf4571078fa": {
          "model_module": "@jupyter-widgets/base",
          "model_name": "LayoutModel",
          "state": {
            "_view_name": "LayoutView",
            "grid_template_rows": null,
            "right": null,
            "justify_content": null,
            "_view_module": "@jupyter-widgets/base",
            "overflow": null,
            "_model_module_version": "1.2.0",
            "_view_count": null,
            "flex_flow": null,
            "width": null,
            "min_width": null,
            "border": null,
            "align_items": null,
            "bottom": null,
            "_model_module": "@jupyter-widgets/base",
            "top": null,
            "grid_column": null,
            "overflow_y": null,
            "overflow_x": null,
            "grid_auto_flow": null,
            "grid_area": null,
            "grid_template_columns": null,
            "flex": null,
            "_model_name": "LayoutModel",
            "justify_items": null,
            "grid_row": null,
            "max_height": null,
            "align_content": null,
            "visibility": null,
            "align_self": null,
            "height": null,
            "min_height": null,
            "padding": null,
            "grid_auto_rows": null,
            "grid_gap": null,
            "max_width": null,
            "order": null,
            "_view_module_version": "1.2.0",
            "grid_template_areas": null,
            "object_position": null,
            "object_fit": null,
            "grid_auto_columns": null,
            "margin": null,
            "display": null,
            "left": null
          }
        },
        "2a77054a45b646f1a9ca6ad2a9709501": {
          "model_module": "@jupyter-widgets/controls",
          "model_name": "HBoxModel",
          "state": {
            "_view_name": "HBoxView",
            "_dom_classes": [],
            "_model_name": "HBoxModel",
            "_view_module": "@jupyter-widgets/controls",
            "_model_module_version": "1.5.0",
            "_view_count": null,
            "_view_module_version": "1.5.0",
            "box_style": "",
            "layout": "IPY_MODEL_3e0f36039b6a47f8bb24ef7542cb5ea6",
            "_model_module": "@jupyter-widgets/controls",
            "children": [
              "IPY_MODEL_722e4b6f6f1445b7a3066f6e6868e18c",
              "IPY_MODEL_71b13a39397b444d9afc94b428bb6998"
            ]
          }
        },
        "3e0f36039b6a47f8bb24ef7542cb5ea6": {
          "model_module": "@jupyter-widgets/base",
          "model_name": "LayoutModel",
          "state": {
            "_view_name": "LayoutView",
            "grid_template_rows": null,
            "right": null,
            "justify_content": null,
            "_view_module": "@jupyter-widgets/base",
            "overflow": null,
            "_model_module_version": "1.2.0",
            "_view_count": null,
            "flex_flow": null,
            "width": null,
            "min_width": null,
            "border": null,
            "align_items": null,
            "bottom": null,
            "_model_module": "@jupyter-widgets/base",
            "top": null,
            "grid_column": null,
            "overflow_y": null,
            "overflow_x": null,
            "grid_auto_flow": null,
            "grid_area": null,
            "grid_template_columns": null,
            "flex": null,
            "_model_name": "LayoutModel",
            "justify_items": null,
            "grid_row": null,
            "max_height": null,
            "align_content": null,
            "visibility": null,
            "align_self": null,
            "height": null,
            "min_height": null,
            "padding": null,
            "grid_auto_rows": null,
            "grid_gap": null,
            "max_width": null,
            "order": null,
            "_view_module_version": "1.2.0",
            "grid_template_areas": null,
            "object_position": null,
            "object_fit": null,
            "grid_auto_columns": null,
            "margin": null,
            "display": null,
            "left": null
          }
        },
        "722e4b6f6f1445b7a3066f6e6868e18c": {
          "model_module": "@jupyter-widgets/controls",
          "model_name": "FloatProgressModel",
          "state": {
            "_view_name": "ProgressView",
            "style": "IPY_MODEL_c6022f93522b4ba3b1c7e2a024dcbdbc",
            "_dom_classes": [],
            "description": "Downloading: 100%",
            "_model_name": "FloatProgressModel",
            "bar_style": "success",
            "max": 1780720,
            "_view_module": "@jupyter-widgets/controls",
            "_model_module_version": "1.5.0",
            "value": 1780720,
            "_view_count": null,
            "_view_module_version": "1.5.0",
            "orientation": "horizontal",
            "min": 0,
            "description_tooltip": null,
            "_model_module": "@jupyter-widgets/controls",
            "layout": "IPY_MODEL_244d2d77f3fb4707aef196d057ffdada"
          }
        },
        "71b13a39397b444d9afc94b428bb6998": {
          "model_module": "@jupyter-widgets/controls",
          "model_name": "HTMLModel",
          "state": {
            "_view_name": "HTMLView",
            "style": "IPY_MODEL_cdceb28b457447ffb40d6e00f5587ab6",
            "_dom_classes": [],
            "description": "",
            "_model_name": "HTMLModel",
            "placeholder": "​",
            "_view_module": "@jupyter-widgets/controls",
            "_model_module_version": "1.5.0",
            "value": " 1.78M/1.78M [00:00&lt;00:00, 10.3MB/s]",
            "_view_count": null,
            "_view_module_version": "1.5.0",
            "description_tooltip": null,
            "_model_module": "@jupyter-widgets/controls",
            "layout": "IPY_MODEL_70504424e9a24af9aa3767829d524684"
          }
        },
        "c6022f93522b4ba3b1c7e2a024dcbdbc": {
          "model_module": "@jupyter-widgets/controls",
          "model_name": "ProgressStyleModel",
          "state": {
            "_view_name": "StyleView",
            "_model_name": "ProgressStyleModel",
            "description_width": "initial",
            "_view_module": "@jupyter-widgets/base",
            "_model_module_version": "1.5.0",
            "_view_count": null,
            "_view_module_version": "1.2.0",
            "bar_color": null,
            "_model_module": "@jupyter-widgets/controls"
          }
        },
        "244d2d77f3fb4707aef196d057ffdada": {
          "model_module": "@jupyter-widgets/base",
          "model_name": "LayoutModel",
          "state": {
            "_view_name": "LayoutView",
            "grid_template_rows": null,
            "right": null,
            "justify_content": null,
            "_view_module": "@jupyter-widgets/base",
            "overflow": null,
            "_model_module_version": "1.2.0",
            "_view_count": null,
            "flex_flow": null,
            "width": null,
            "min_width": null,
            "border": null,
            "align_items": null,
            "bottom": null,
            "_model_module": "@jupyter-widgets/base",
            "top": null,
            "grid_column": null,
            "overflow_y": null,
            "overflow_x": null,
            "grid_auto_flow": null,
            "grid_area": null,
            "grid_template_columns": null,
            "flex": null,
            "_model_name": "LayoutModel",
            "justify_items": null,
            "grid_row": null,
            "max_height": null,
            "align_content": null,
            "visibility": null,
            "align_self": null,
            "height": null,
            "min_height": null,
            "padding": null,
            "grid_auto_rows": null,
            "grid_gap": null,
            "max_width": null,
            "order": null,
            "_view_module_version": "1.2.0",
            "grid_template_areas": null,
            "object_position": null,
            "object_fit": null,
            "grid_auto_columns": null,
            "margin": null,
            "display": null,
            "left": null
          }
        },
        "cdceb28b457447ffb40d6e00f5587ab6": {
          "model_module": "@jupyter-widgets/controls",
          "model_name": "DescriptionStyleModel",
          "state": {
            "_view_name": "StyleView",
            "_model_name": "DescriptionStyleModel",
            "description_width": "",
            "_view_module": "@jupyter-widgets/base",
            "_model_module_version": "1.5.0",
            "_view_count": null,
            "_view_module_version": "1.2.0",
            "_model_module": "@jupyter-widgets/controls"
          }
        },
        "70504424e9a24af9aa3767829d524684": {
          "model_module": "@jupyter-widgets/base",
          "model_name": "LayoutModel",
          "state": {
            "_view_name": "LayoutView",
            "grid_template_rows": null,
            "right": null,
            "justify_content": null,
            "_view_module": "@jupyter-widgets/base",
            "overflow": null,
            "_model_module_version": "1.2.0",
            "_view_count": null,
            "flex_flow": null,
            "width": null,
            "min_width": null,
            "border": null,
            "align_items": null,
            "bottom": null,
            "_model_module": "@jupyter-widgets/base",
            "top": null,
            "grid_column": null,
            "overflow_y": null,
            "overflow_x": null,
            "grid_auto_flow": null,
            "grid_area": null,
            "grid_template_columns": null,
            "flex": null,
            "_model_name": "LayoutModel",
            "justify_items": null,
            "grid_row": null,
            "max_height": null,
            "align_content": null,
            "visibility": null,
            "align_self": null,
            "height": null,
            "min_height": null,
            "padding": null,
            "grid_auto_rows": null,
            "grid_gap": null,
            "max_width": null,
            "order": null,
            "_view_module_version": "1.2.0",
            "grid_template_areas": null,
            "object_position": null,
            "object_fit": null,
            "grid_auto_columns": null,
            "margin": null,
            "display": null,
            "left": null
          }
        },
        "18ed322ad2034c1d95ddc4f0d7d4b6b0": {
          "model_module": "@jupyter-widgets/controls",
          "model_name": "HBoxModel",
          "state": {
            "_view_name": "HBoxView",
            "_dom_classes": [],
            "_model_name": "HBoxModel",
            "_view_module": "@jupyter-widgets/controls",
            "_model_module_version": "1.5.0",
            "_view_count": null,
            "_view_module_version": "1.5.0",
            "box_style": "",
            "layout": "IPY_MODEL_0d9421b8d2b542c88ea66a29331c05fa",
            "_model_module": "@jupyter-widgets/controls",
            "children": [
              "IPY_MODEL_1c6611a1726147cfb997c24cccc5478a",
              "IPY_MODEL_d1535a0ad06140dbba13b60356c452dc"
            ]
          }
        },
        "0d9421b8d2b542c88ea66a29331c05fa": {
          "model_module": "@jupyter-widgets/base",
          "model_name": "LayoutModel",
          "state": {
            "_view_name": "LayoutView",
            "grid_template_rows": null,
            "right": null,
            "justify_content": null,
            "_view_module": "@jupyter-widgets/base",
            "overflow": null,
            "_model_module_version": "1.2.0",
            "_view_count": null,
            "flex_flow": null,
            "width": null,
            "min_width": null,
            "border": null,
            "align_items": null,
            "bottom": null,
            "_model_module": "@jupyter-widgets/base",
            "top": null,
            "grid_column": null,
            "overflow_y": null,
            "overflow_x": null,
            "grid_auto_flow": null,
            "grid_area": null,
            "grid_template_columns": null,
            "flex": null,
            "_model_name": "LayoutModel",
            "justify_items": null,
            "grid_row": null,
            "max_height": null,
            "align_content": null,
            "visibility": null,
            "align_self": null,
            "height": null,
            "min_height": null,
            "padding": null,
            "grid_auto_rows": null,
            "grid_gap": null,
            "max_width": null,
            "order": null,
            "_view_module_version": "1.2.0",
            "grid_template_areas": null,
            "object_position": null,
            "object_fit": null,
            "grid_auto_columns": null,
            "margin": null,
            "display": null,
            "left": null
          }
        },
        "1c6611a1726147cfb997c24cccc5478a": {
          "model_module": "@jupyter-widgets/controls",
          "model_name": "FloatProgressModel",
          "state": {
            "_view_name": "ProgressView",
            "style": "IPY_MODEL_548b0f8ac8a544718cf3096cdb298c2e",
            "_dom_classes": [],
            "description": "Downloading: 100%",
            "_model_name": "FloatProgressModel",
            "bar_style": "success",
            "max": 112,
            "_view_module": "@jupyter-widgets/controls",
            "_model_module_version": "1.5.0",
            "value": 112,
            "_view_count": null,
            "_view_module_version": "1.5.0",
            "orientation": "horizontal",
            "min": 0,
            "description_tooltip": null,
            "_model_module": "@jupyter-widgets/controls",
            "layout": "IPY_MODEL_16d171adbcf94726945cf5e3e8f39238"
          }
        },
        "d1535a0ad06140dbba13b60356c452dc": {
          "model_module": "@jupyter-widgets/controls",
          "model_name": "HTMLModel",
          "state": {
            "_view_name": "HTMLView",
            "style": "IPY_MODEL_ab46fe2a3c5d4088967abf25c74b753d",
            "_dom_classes": [],
            "description": "",
            "_model_name": "HTMLModel",
            "placeholder": "​",
            "_view_module": "@jupyter-widgets/controls",
            "_model_module_version": "1.5.0",
            "value": " 112/112 [00:00&lt;00:00, 485B/s]",
            "_view_count": null,
            "_view_module_version": "1.5.0",
            "description_tooltip": null,
            "_model_module": "@jupyter-widgets/controls",
            "layout": "IPY_MODEL_a1428d1388ad46f1852c3980c7f52346"
          }
        },
        "548b0f8ac8a544718cf3096cdb298c2e": {
          "model_module": "@jupyter-widgets/controls",
          "model_name": "ProgressStyleModel",
          "state": {
            "_view_name": "StyleView",
            "_model_name": "ProgressStyleModel",
            "description_width": "initial",
            "_view_module": "@jupyter-widgets/base",
            "_model_module_version": "1.5.0",
            "_view_count": null,
            "_view_module_version": "1.2.0",
            "bar_color": null,
            "_model_module": "@jupyter-widgets/controls"
          }
        },
        "16d171adbcf94726945cf5e3e8f39238": {
          "model_module": "@jupyter-widgets/base",
          "model_name": "LayoutModel",
          "state": {
            "_view_name": "LayoutView",
            "grid_template_rows": null,
            "right": null,
            "justify_content": null,
            "_view_module": "@jupyter-widgets/base",
            "overflow": null,
            "_model_module_version": "1.2.0",
            "_view_count": null,
            "flex_flow": null,
            "width": null,
            "min_width": null,
            "border": null,
            "align_items": null,
            "bottom": null,
            "_model_module": "@jupyter-widgets/base",
            "top": null,
            "grid_column": null,
            "overflow_y": null,
            "overflow_x": null,
            "grid_auto_flow": null,
            "grid_area": null,
            "grid_template_columns": null,
            "flex": null,
            "_model_name": "LayoutModel",
            "justify_items": null,
            "grid_row": null,
            "max_height": null,
            "align_content": null,
            "visibility": null,
            "align_self": null,
            "height": null,
            "min_height": null,
            "padding": null,
            "grid_auto_rows": null,
            "grid_gap": null,
            "max_width": null,
            "order": null,
            "_view_module_version": "1.2.0",
            "grid_template_areas": null,
            "object_position": null,
            "object_fit": null,
            "grid_auto_columns": null,
            "margin": null,
            "display": null,
            "left": null
          }
        },
        "ab46fe2a3c5d4088967abf25c74b753d": {
          "model_module": "@jupyter-widgets/controls",
          "model_name": "DescriptionStyleModel",
          "state": {
            "_view_name": "StyleView",
            "_model_name": "DescriptionStyleModel",
            "description_width": "",
            "_view_module": "@jupyter-widgets/base",
            "_model_module_version": "1.5.0",
            "_view_count": null,
            "_view_module_version": "1.2.0",
            "_model_module": "@jupyter-widgets/controls"
          }
        },
        "a1428d1388ad46f1852c3980c7f52346": {
          "model_module": "@jupyter-widgets/base",
          "model_name": "LayoutModel",
          "state": {
            "_view_name": "LayoutView",
            "grid_template_rows": null,
            "right": null,
            "justify_content": null,
            "_view_module": "@jupyter-widgets/base",
            "overflow": null,
            "_model_module_version": "1.2.0",
            "_view_count": null,
            "flex_flow": null,
            "width": null,
            "min_width": null,
            "border": null,
            "align_items": null,
            "bottom": null,
            "_model_module": "@jupyter-widgets/base",
            "top": null,
            "grid_column": null,
            "overflow_y": null,
            "overflow_x": null,
            "grid_auto_flow": null,
            "grid_area": null,
            "grid_template_columns": null,
            "flex": null,
            "_model_name": "LayoutModel",
            "justify_items": null,
            "grid_row": null,
            "max_height": null,
            "align_content": null,
            "visibility": null,
            "align_self": null,
            "height": null,
            "min_height": null,
            "padding": null,
            "grid_auto_rows": null,
            "grid_gap": null,
            "max_width": null,
            "order": null,
            "_view_module_version": "1.2.0",
            "grid_template_areas": null,
            "object_position": null,
            "object_fit": null,
            "grid_auto_columns": null,
            "margin": null,
            "display": null,
            "left": null
          }
        },
        "f9ac02961d5c4cdc9d5d4613c3eac3fa": {
          "model_module": "@jupyter-widgets/controls",
          "model_name": "HBoxModel",
          "state": {
            "_view_name": "HBoxView",
            "_dom_classes": [],
            "_model_name": "HBoxModel",
            "_view_module": "@jupyter-widgets/controls",
            "_model_module_version": "1.5.0",
            "_view_count": null,
            "_view_module_version": "1.5.0",
            "box_style": "",
            "layout": "IPY_MODEL_22b78c1d97d1449b9eb70a47b63ba5c9",
            "_model_module": "@jupyter-widgets/controls",
            "children": [
              "IPY_MODEL_c87dd327cc244455878444cf5f543a54",
              "IPY_MODEL_eb443340e1cb4d769da5915b8080dc8e"
            ]
          }
        },
        "22b78c1d97d1449b9eb70a47b63ba5c9": {
          "model_module": "@jupyter-widgets/base",
          "model_name": "LayoutModel",
          "state": {
            "_view_name": "LayoutView",
            "grid_template_rows": null,
            "right": null,
            "justify_content": null,
            "_view_module": "@jupyter-widgets/base",
            "overflow": null,
            "_model_module_version": "1.2.0",
            "_view_count": null,
            "flex_flow": null,
            "width": null,
            "min_width": null,
            "border": null,
            "align_items": null,
            "bottom": null,
            "_model_module": "@jupyter-widgets/base",
            "top": null,
            "grid_column": null,
            "overflow_y": null,
            "overflow_x": null,
            "grid_auto_flow": null,
            "grid_area": null,
            "grid_template_columns": null,
            "flex": null,
            "_model_name": "LayoutModel",
            "justify_items": null,
            "grid_row": null,
            "max_height": null,
            "align_content": null,
            "visibility": null,
            "align_self": null,
            "height": null,
            "min_height": null,
            "padding": null,
            "grid_auto_rows": null,
            "grid_gap": null,
            "max_width": null,
            "order": null,
            "_view_module_version": "1.2.0",
            "grid_template_areas": null,
            "object_position": null,
            "object_fit": null,
            "grid_auto_columns": null,
            "margin": null,
            "display": null,
            "left": null
          }
        },
        "c87dd327cc244455878444cf5f543a54": {
          "model_module": "@jupyter-widgets/controls",
          "model_name": "FloatProgressModel",
          "state": {
            "_view_name": "ProgressView",
            "style": "IPY_MODEL_852f7938e576446e8291f087e50f7d32",
            "_dom_classes": [],
            "description": "Downloading: 100%",
            "_model_name": "FloatProgressModel",
            "bar_style": "success",
            "max": 323,
            "_view_module": "@jupyter-widgets/controls",
            "_model_module_version": "1.5.0",
            "value": 323,
            "_view_count": null,
            "_view_module_version": "1.5.0",
            "orientation": "horizontal",
            "min": 0,
            "description_tooltip": null,
            "_model_module": "@jupyter-widgets/controls",
            "layout": "IPY_MODEL_a5cf88d33b104407a126eb1a1f8f93ed"
          }
        },
        "eb443340e1cb4d769da5915b8080dc8e": {
          "model_module": "@jupyter-widgets/controls",
          "model_name": "HTMLModel",
          "state": {
            "_view_name": "HTMLView",
            "style": "IPY_MODEL_05bd3a5696da44b595eedd274afd8df3",
            "_dom_classes": [],
            "description": "",
            "_model_name": "HTMLModel",
            "placeholder": "​",
            "_view_module": "@jupyter-widgets/controls",
            "_model_module_version": "1.5.0",
            "value": " 323/323 [00:00&lt;00:00, 2.31kB/s]",
            "_view_count": null,
            "_view_module_version": "1.5.0",
            "description_tooltip": null,
            "_model_module": "@jupyter-widgets/controls",
            "layout": "IPY_MODEL_03b178c3e0f348efabd102e0e80cdb21"
          }
        },
        "852f7938e576446e8291f087e50f7d32": {
          "model_module": "@jupyter-widgets/controls",
          "model_name": "ProgressStyleModel",
          "state": {
            "_view_name": "StyleView",
            "_model_name": "ProgressStyleModel",
            "description_width": "initial",
            "_view_module": "@jupyter-widgets/base",
            "_model_module_version": "1.5.0",
            "_view_count": null,
            "_view_module_version": "1.2.0",
            "bar_color": null,
            "_model_module": "@jupyter-widgets/controls"
          }
        },
        "a5cf88d33b104407a126eb1a1f8f93ed": {
          "model_module": "@jupyter-widgets/base",
          "model_name": "LayoutModel",
          "state": {
            "_view_name": "LayoutView",
            "grid_template_rows": null,
            "right": null,
            "justify_content": null,
            "_view_module": "@jupyter-widgets/base",
            "overflow": null,
            "_model_module_version": "1.2.0",
            "_view_count": null,
            "flex_flow": null,
            "width": null,
            "min_width": null,
            "border": null,
            "align_items": null,
            "bottom": null,
            "_model_module": "@jupyter-widgets/base",
            "top": null,
            "grid_column": null,
            "overflow_y": null,
            "overflow_x": null,
            "grid_auto_flow": null,
            "grid_area": null,
            "grid_template_columns": null,
            "flex": null,
            "_model_name": "LayoutModel",
            "justify_items": null,
            "grid_row": null,
            "max_height": null,
            "align_content": null,
            "visibility": null,
            "align_self": null,
            "height": null,
            "min_height": null,
            "padding": null,
            "grid_auto_rows": null,
            "grid_gap": null,
            "max_width": null,
            "order": null,
            "_view_module_version": "1.2.0",
            "grid_template_areas": null,
            "object_position": null,
            "object_fit": null,
            "grid_auto_columns": null,
            "margin": null,
            "display": null,
            "left": null
          }
        },
        "05bd3a5696da44b595eedd274afd8df3": {
          "model_module": "@jupyter-widgets/controls",
          "model_name": "DescriptionStyleModel",
          "state": {
            "_view_name": "StyleView",
            "_model_name": "DescriptionStyleModel",
            "description_width": "",
            "_view_module": "@jupyter-widgets/base",
            "_model_module_version": "1.5.0",
            "_view_count": null,
            "_view_module_version": "1.2.0",
            "_model_module": "@jupyter-widgets/controls"
          }
        },
        "03b178c3e0f348efabd102e0e80cdb21": {
          "model_module": "@jupyter-widgets/base",
          "model_name": "LayoutModel",
          "state": {
            "_view_name": "LayoutView",
            "grid_template_rows": null,
            "right": null,
            "justify_content": null,
            "_view_module": "@jupyter-widgets/base",
            "overflow": null,
            "_model_module_version": "1.2.0",
            "_view_count": null,
            "flex_flow": null,
            "width": null,
            "min_width": null,
            "border": null,
            "align_items": null,
            "bottom": null,
            "_model_module": "@jupyter-widgets/base",
            "top": null,
            "grid_column": null,
            "overflow_y": null,
            "overflow_x": null,
            "grid_auto_flow": null,
            "grid_area": null,
            "grid_template_columns": null,
            "flex": null,
            "_model_name": "LayoutModel",
            "justify_items": null,
            "grid_row": null,
            "max_height": null,
            "align_content": null,
            "visibility": null,
            "align_self": null,
            "height": null,
            "min_height": null,
            "padding": null,
            "grid_auto_rows": null,
            "grid_gap": null,
            "max_width": null,
            "order": null,
            "_view_module_version": "1.2.0",
            "grid_template_areas": null,
            "object_position": null,
            "object_fit": null,
            "grid_auto_columns": null,
            "margin": null,
            "display": null,
            "left": null
          }
        },
        "6b29651287fc4b6c9b701b362bad8106": {
          "model_module": "@jupyter-widgets/controls",
          "model_name": "HBoxModel",
          "state": {
            "_view_name": "HBoxView",
            "_dom_classes": [],
            "_model_name": "HBoxModel",
            "_view_module": "@jupyter-widgets/controls",
            "_model_module_version": "1.5.0",
            "_view_count": null,
            "_view_module_version": "1.5.0",
            "box_style": "",
            "layout": "IPY_MODEL_234a31e4e85046c2a47c854fd02fd06a",
            "_model_module": "@jupyter-widgets/controls",
            "children": [
              "IPY_MODEL_359302281a784a6fa80e823fa8d11af2",
              "IPY_MODEL_6128f14ac3534bd69cdd4b62184cccb4"
            ]
          }
        },
        "234a31e4e85046c2a47c854fd02fd06a": {
          "model_module": "@jupyter-widgets/base",
          "model_name": "LayoutModel",
          "state": {
            "_view_name": "LayoutView",
            "grid_template_rows": null,
            "right": null,
            "justify_content": null,
            "_view_module": "@jupyter-widgets/base",
            "overflow": null,
            "_model_module_version": "1.2.0",
            "_view_count": null,
            "flex_flow": null,
            "width": null,
            "min_width": null,
            "border": null,
            "align_items": null,
            "bottom": null,
            "_model_module": "@jupyter-widgets/base",
            "top": null,
            "grid_column": null,
            "overflow_y": null,
            "overflow_x": null,
            "grid_auto_flow": null,
            "grid_area": null,
            "grid_template_columns": null,
            "flex": null,
            "_model_name": "LayoutModel",
            "justify_items": null,
            "grid_row": null,
            "max_height": null,
            "align_content": null,
            "visibility": null,
            "align_self": null,
            "height": null,
            "min_height": null,
            "padding": null,
            "grid_auto_rows": null,
            "grid_gap": null,
            "max_width": null,
            "order": null,
            "_view_module_version": "1.2.0",
            "grid_template_areas": null,
            "object_position": null,
            "object_fit": null,
            "grid_auto_columns": null,
            "margin": null,
            "display": null,
            "left": null
          }
        },
        "359302281a784a6fa80e823fa8d11af2": {
          "model_module": "@jupyter-widgets/controls",
          "model_name": "FloatProgressModel",
          "state": {
            "_view_name": "ProgressView",
            "style": "IPY_MODEL_b3b36418cc75496383a4c201a4c7a617",
            "_dom_classes": [],
            "description": "Downloading: 100%",
            "_model_name": "FloatProgressModel",
            "bar_style": "success",
            "max": 1707791567,
            "_view_module": "@jupyter-widgets/controls",
            "_model_module_version": "1.5.0",
            "value": 1707791567,
            "_view_count": null,
            "_view_module_version": "1.5.0",
            "orientation": "horizontal",
            "min": 0,
            "description_tooltip": null,
            "_model_module": "@jupyter-widgets/controls",
            "layout": "IPY_MODEL_6e10e1b06a9e46d79ce232afaa0c8c9c"
          }
        },
        "6128f14ac3534bd69cdd4b62184cccb4": {
          "model_module": "@jupyter-widgets/controls",
          "model_name": "HTMLModel",
          "state": {
            "_view_name": "HTMLView",
            "style": "IPY_MODEL_5b39533f2bf1413a97bce0c34af968cb",
            "_dom_classes": [],
            "description": "",
            "_model_name": "HTMLModel",
            "placeholder": "​",
            "_view_module": "@jupyter-widgets/controls",
            "_model_module_version": "1.5.0",
            "value": " 1.71G/1.71G [00:31&lt;00:00, 54.9MB/s]",
            "_view_count": null,
            "_view_module_version": "1.5.0",
            "description_tooltip": null,
            "_model_module": "@jupyter-widgets/controls",
            "layout": "IPY_MODEL_fe81e3e70c64483ab43dc5eb0e47112f"
          }
        },
        "b3b36418cc75496383a4c201a4c7a617": {
          "model_module": "@jupyter-widgets/controls",
          "model_name": "ProgressStyleModel",
          "state": {
            "_view_name": "StyleView",
            "_model_name": "ProgressStyleModel",
            "description_width": "initial",
            "_view_module": "@jupyter-widgets/base",
            "_model_module_version": "1.5.0",
            "_view_count": null,
            "_view_module_version": "1.2.0",
            "bar_color": null,
            "_model_module": "@jupyter-widgets/controls"
          }
        },
        "6e10e1b06a9e46d79ce232afaa0c8c9c": {
          "model_module": "@jupyter-widgets/base",
          "model_name": "LayoutModel",
          "state": {
            "_view_name": "LayoutView",
            "grid_template_rows": null,
            "right": null,
            "justify_content": null,
            "_view_module": "@jupyter-widgets/base",
            "overflow": null,
            "_model_module_version": "1.2.0",
            "_view_count": null,
            "flex_flow": null,
            "width": null,
            "min_width": null,
            "border": null,
            "align_items": null,
            "bottom": null,
            "_model_module": "@jupyter-widgets/base",
            "top": null,
            "grid_column": null,
            "overflow_y": null,
            "overflow_x": null,
            "grid_auto_flow": null,
            "grid_area": null,
            "grid_template_columns": null,
            "flex": null,
            "_model_name": "LayoutModel",
            "justify_items": null,
            "grid_row": null,
            "max_height": null,
            "align_content": null,
            "visibility": null,
            "align_self": null,
            "height": null,
            "min_height": null,
            "padding": null,
            "grid_auto_rows": null,
            "grid_gap": null,
            "max_width": null,
            "order": null,
            "_view_module_version": "1.2.0",
            "grid_template_areas": null,
            "object_position": null,
            "object_fit": null,
            "grid_auto_columns": null,
            "margin": null,
            "display": null,
            "left": null
          }
        },
        "5b39533f2bf1413a97bce0c34af968cb": {
          "model_module": "@jupyter-widgets/controls",
          "model_name": "DescriptionStyleModel",
          "state": {
            "_view_name": "StyleView",
            "_model_name": "DescriptionStyleModel",
            "description_width": "",
            "_view_module": "@jupyter-widgets/base",
            "_model_module_version": "1.5.0",
            "_view_count": null,
            "_view_module_version": "1.2.0",
            "_model_module": "@jupyter-widgets/controls"
          }
        },
        "fe81e3e70c64483ab43dc5eb0e47112f": {
          "model_module": "@jupyter-widgets/base",
          "model_name": "LayoutModel",
          "state": {
            "_view_name": "LayoutView",
            "grid_template_rows": null,
            "right": null,
            "justify_content": null,
            "_view_module": "@jupyter-widgets/base",
            "overflow": null,
            "_model_module_version": "1.2.0",
            "_view_count": null,
            "flex_flow": null,
            "width": null,
            "min_width": null,
            "border": null,
            "align_items": null,
            "bottom": null,
            "_model_module": "@jupyter-widgets/base",
            "top": null,
            "grid_column": null,
            "overflow_y": null,
            "overflow_x": null,
            "grid_auto_flow": null,
            "grid_area": null,
            "grid_template_columns": null,
            "flex": null,
            "_model_name": "LayoutModel",
            "justify_items": null,
            "grid_row": null,
            "max_height": null,
            "align_content": null,
            "visibility": null,
            "align_self": null,
            "height": null,
            "min_height": null,
            "padding": null,
            "grid_auto_rows": null,
            "grid_gap": null,
            "max_width": null,
            "order": null,
            "_view_module_version": "1.2.0",
            "grid_template_areas": null,
            "object_position": null,
            "object_fit": null,
            "grid_auto_columns": null,
            "margin": null,
            "display": null,
            "left": null
          }
        }
      }
    }
  },
  "cells": [
    {
      "cell_type": "markdown",
      "metadata": {
        "id": "QyG5En8bxuwY"
      },
      "source": [
        "Установка библиотек\n",
        "\n",
        "В колабе возможно все уже есть, но лучше все равно установить"
      ]
    },
    {
      "cell_type": "code",
      "metadata": {
        "id": "PnJ3dsRu_dN4",
        "colab": {
          "base_uri": "https://localhost:8080/"
        },
        "outputId": "c5a03f3d-aeed-44f4-b65b-1308959fee9f"
      },
      "source": [
        "!apt-get install unzip wget -y"
      ],
      "execution_count": null,
      "outputs": [
        {
          "output_type": "stream",
          "text": [
            "Reading package lists... Done\n",
            "Building dependency tree       \n",
            "Reading state information... Done\n",
            "unzip is already the newest version (6.0-21ubuntu1.1).\n",
            "wget is already the newest version (1.19.4-1ubuntu2.2).\n",
            "The following package was automatically installed and is no longer required:\n",
            "  libnvidia-common-460\n",
            "Use 'apt autoremove' to remove it.\n",
            "0 upgraded, 0 newly installed, 0 to remove and 34 not upgraded.\n"
          ],
          "name": "stdout"
        }
      ]
    },
    {
      "cell_type": "code",
      "metadata": {
        "id": "d8DBN8f5_lQK",
        "colab": {
          "base_uri": "https://localhost:8080/"
        },
        "outputId": "82fcd9b3-5cd1-4736-e206-43eaa47bff27"
      },
      "source": [
        "!pip install transformers\n",
        "!pip install -U sentence-transformers\n",
        "!pip3 install torch torchvision\n",
        "!pip install pymorphy2"
      ],
      "execution_count": null,
      "outputs": [
        {
          "output_type": "stream",
          "text": [
            "Collecting transformers\n",
            "\u001b[?25l  Downloading https://files.pythonhosted.org/packages/d8/b2/57495b5309f09fa501866e225c84532d1fd89536ea62406b2181933fb418/transformers-4.5.1-py3-none-any.whl (2.1MB)\n",
            "\r\u001b[K     |▏                               | 10kB 24.6MB/s eta 0:00:01\r\u001b[K     |▎                               | 20kB 30.5MB/s eta 0:00:01\r\u001b[K     |▌                               | 30kB 22.6MB/s eta 0:00:01\r\u001b[K     |▋                               | 40kB 25.7MB/s eta 0:00:01\r\u001b[K     |▉                               | 51kB 24.6MB/s eta 0:00:01\r\u001b[K     |█                               | 61kB 27.2MB/s eta 0:00:01\r\u001b[K     |█▏                              | 71kB 19.1MB/s eta 0:00:01\r\u001b[K     |█▎                              | 81kB 20.0MB/s eta 0:00:01\r\u001b[K     |█▍                              | 92kB 18.9MB/s eta 0:00:01\r\u001b[K     |█▋                              | 102kB 20.3MB/s eta 0:00:01\r\u001b[K     |█▊                              | 112kB 20.3MB/s eta 0:00:01\r\u001b[K     |██                              | 122kB 20.3MB/s eta 0:00:01\r\u001b[K     |██                              | 133kB 20.3MB/s eta 0:00:01\r\u001b[K     |██▎                             | 143kB 20.3MB/s eta 0:00:01\r\u001b[K     |██▍                             | 153kB 20.3MB/s eta 0:00:01\r\u001b[K     |██▌                             | 163kB 20.3MB/s eta 0:00:01\r\u001b[K     |██▊                             | 174kB 20.3MB/s eta 0:00:01\r\u001b[K     |██▉                             | 184kB 20.3MB/s eta 0:00:01\r\u001b[K     |███                             | 194kB 20.3MB/s eta 0:00:01\r\u001b[K     |███▏                            | 204kB 20.3MB/s eta 0:00:01\r\u001b[K     |███▍                            | 215kB 20.3MB/s eta 0:00:01\r\u001b[K     |███▌                            | 225kB 20.3MB/s eta 0:00:01\r\u001b[K     |███▋                            | 235kB 20.3MB/s eta 0:00:01\r\u001b[K     |███▉                            | 245kB 20.3MB/s eta 0:00:01\r\u001b[K     |████                            | 256kB 20.3MB/s eta 0:00:01\r\u001b[K     |████▏                           | 266kB 20.3MB/s eta 0:00:01\r\u001b[K     |████▎                           | 276kB 20.3MB/s eta 0:00:01\r\u001b[K     |████▌                           | 286kB 20.3MB/s eta 0:00:01\r\u001b[K     |████▋                           | 296kB 20.3MB/s eta 0:00:01\r\u001b[K     |████▊                           | 307kB 20.3MB/s eta 0:00:01\r\u001b[K     |█████                           | 317kB 20.3MB/s eta 0:00:01\r\u001b[K     |█████                           | 327kB 20.3MB/s eta 0:00:01\r\u001b[K     |█████▎                          | 337kB 20.3MB/s eta 0:00:01\r\u001b[K     |█████▍                          | 348kB 20.3MB/s eta 0:00:01\r\u001b[K     |█████▋                          | 358kB 20.3MB/s eta 0:00:01\r\u001b[K     |█████▊                          | 368kB 20.3MB/s eta 0:00:01\r\u001b[K     |█████▉                          | 378kB 20.3MB/s eta 0:00:01\r\u001b[K     |██████                          | 389kB 20.3MB/s eta 0:00:01\r\u001b[K     |██████▏                         | 399kB 20.3MB/s eta 0:00:01\r\u001b[K     |██████▍                         | 409kB 20.3MB/s eta 0:00:01\r\u001b[K     |██████▌                         | 419kB 20.3MB/s eta 0:00:01\r\u001b[K     |██████▊                         | 430kB 20.3MB/s eta 0:00:01\r\u001b[K     |██████▉                         | 440kB 20.3MB/s eta 0:00:01\r\u001b[K     |███████                         | 450kB 20.3MB/s eta 0:00:01\r\u001b[K     |███████▏                        | 460kB 20.3MB/s eta 0:00:01\r\u001b[K     |███████▎                        | 471kB 20.3MB/s eta 0:00:01\r\u001b[K     |███████▌                        | 481kB 20.3MB/s eta 0:00:01\r\u001b[K     |███████▋                        | 491kB 20.3MB/s eta 0:00:01\r\u001b[K     |███████▉                        | 501kB 20.3MB/s eta 0:00:01\r\u001b[K     |████████                        | 512kB 20.3MB/s eta 0:00:01\r\u001b[K     |████████                        | 522kB 20.3MB/s eta 0:00:01\r\u001b[K     |████████▎                       | 532kB 20.3MB/s eta 0:00:01\r\u001b[K     |████████▍                       | 542kB 20.3MB/s eta 0:00:01\r\u001b[K     |████████▋                       | 552kB 20.3MB/s eta 0:00:01\r\u001b[K     |████████▊                       | 563kB 20.3MB/s eta 0:00:01\r\u001b[K     |█████████                       | 573kB 20.3MB/s eta 0:00:01\r\u001b[K     |█████████                       | 583kB 20.3MB/s eta 0:00:01\r\u001b[K     |█████████▎                      | 593kB 20.3MB/s eta 0:00:01\r\u001b[K     |█████████▍                      | 604kB 20.3MB/s eta 0:00:01\r\u001b[K     |█████████▌                      | 614kB 20.3MB/s eta 0:00:01\r\u001b[K     |█████████▊                      | 624kB 20.3MB/s eta 0:00:01\r\u001b[K     |█████████▉                      | 634kB 20.3MB/s eta 0:00:01\r\u001b[K     |██████████                      | 645kB 20.3MB/s eta 0:00:01\r\u001b[K     |██████████▏                     | 655kB 20.3MB/s eta 0:00:01\r\u001b[K     |██████████▍                     | 665kB 20.3MB/s eta 0:00:01\r\u001b[K     |██████████▌                     | 675kB 20.3MB/s eta 0:00:01\r\u001b[K     |██████████▋                     | 686kB 20.3MB/s eta 0:00:01\r\u001b[K     |██████████▉                     | 696kB 20.3MB/s eta 0:00:01\r\u001b[K     |███████████                     | 706kB 20.3MB/s eta 0:00:01\r\u001b[K     |███████████▏                    | 716kB 20.3MB/s eta 0:00:01\r\u001b[K     |███████████▎                    | 727kB 20.3MB/s eta 0:00:01\r\u001b[K     |███████████▌                    | 737kB 20.3MB/s eta 0:00:01\r\u001b[K     |███████████▋                    | 747kB 20.3MB/s eta 0:00:01\r\u001b[K     |███████████▊                    | 757kB 20.3MB/s eta 0:00:01\r\u001b[K     |████████████                    | 768kB 20.3MB/s eta 0:00:01\r\u001b[K     |████████████                    | 778kB 20.3MB/s eta 0:00:01\r\u001b[K     |████████████▎                   | 788kB 20.3MB/s eta 0:00:01\r\u001b[K     |████████████▍                   | 798kB 20.3MB/s eta 0:00:01\r\u001b[K     |████████████▋                   | 808kB 20.3MB/s eta 0:00:01\r\u001b[K     |████████████▊                   | 819kB 20.3MB/s eta 0:00:01\r\u001b[K     |████████████▉                   | 829kB 20.3MB/s eta 0:00:01\r\u001b[K     |█████████████                   | 839kB 20.3MB/s eta 0:00:01\r\u001b[K     |█████████████▏                  | 849kB 20.3MB/s eta 0:00:01\r\u001b[K     |█████████████▍                  | 860kB 20.3MB/s eta 0:00:01\r\u001b[K     |█████████████▌                  | 870kB 20.3MB/s eta 0:00:01\r\u001b[K     |█████████████▊                  | 880kB 20.3MB/s eta 0:00:01\r\u001b[K     |█████████████▉                  | 890kB 20.3MB/s eta 0:00:01\r\u001b[K     |██████████████                  | 901kB 20.3MB/s eta 0:00:01\r\u001b[K     |██████████████▏                 | 911kB 20.3MB/s eta 0:00:01\r\u001b[K     |██████████████▎                 | 921kB 20.3MB/s eta 0:00:01\r\u001b[K     |██████████████▌                 | 931kB 20.3MB/s eta 0:00:01\r\u001b[K     |██████████████▋                 | 942kB 20.3MB/s eta 0:00:01\r\u001b[K     |██████████████▉                 | 952kB 20.3MB/s eta 0:00:01\r\u001b[K     |███████████████                 | 962kB 20.3MB/s eta 0:00:01\r\u001b[K     |███████████████                 | 972kB 20.3MB/s eta 0:00:01\r\u001b[K     |███████████████▎                | 983kB 20.3MB/s eta 0:00:01\r\u001b[K     |███████████████▍                | 993kB 20.3MB/s eta 0:00:01\r\u001b[K     |███████████████▋                | 1.0MB 20.3MB/s eta 0:00:01\r\u001b[K     |███████████████▊                | 1.0MB 20.3MB/s eta 0:00:01\r\u001b[K     |████████████████                | 1.0MB 20.3MB/s eta 0:00:01\r\u001b[K     |████████████████                | 1.0MB 20.3MB/s eta 0:00:01\r\u001b[K     |████████████████▏               | 1.0MB 20.3MB/s eta 0:00:01\r\u001b[K     |████████████████▍               | 1.1MB 20.3MB/s eta 0:00:01\r\u001b[K     |████████████████▌               | 1.1MB 20.3MB/s eta 0:00:01\r\u001b[K     |████████████████▊               | 1.1MB 20.3MB/s eta 0:00:01\r\u001b[K     |████████████████▉               | 1.1MB 20.3MB/s eta 0:00:01\r\u001b[K     |█████████████████               | 1.1MB 20.3MB/s eta 0:00:01\r\u001b[K     |█████████████████▏              | 1.1MB 20.3MB/s eta 0:00:01\r\u001b[K     |█████████████████▍              | 1.1MB 20.3MB/s eta 0:00:01\r\u001b[K     |█████████████████▌              | 1.1MB 20.3MB/s eta 0:00:01\r\u001b[K     |█████████████████▋              | 1.1MB 20.3MB/s eta 0:00:01\r\u001b[K     |█████████████████▉              | 1.1MB 20.3MB/s eta 0:00:01\r\u001b[K     |██████████████████              | 1.2MB 20.3MB/s eta 0:00:01\r\u001b[K     |██████████████████▏             | 1.2MB 20.3MB/s eta 0:00:01\r\u001b[K     |██████████████████▎             | 1.2MB 20.3MB/s eta 0:00:01\r\u001b[K     |██████████████████▌             | 1.2MB 20.3MB/s eta 0:00:01\r\u001b[K     |██████████████████▋             | 1.2MB 20.3MB/s eta 0:00:01\r\u001b[K     |██████████████████▊             | 1.2MB 20.3MB/s eta 0:00:01\r\u001b[K     |███████████████████             | 1.2MB 20.3MB/s eta 0:00:01\r\u001b[K     |███████████████████             | 1.2MB 20.3MB/s eta 0:00:01\r\u001b[K     |███████████████████▎            | 1.2MB 20.3MB/s eta 0:00:01\r\u001b[K     |███████████████████▍            | 1.2MB 20.3MB/s eta 0:00:01\r\u001b[K     |███████████████████▋            | 1.3MB 20.3MB/s eta 0:00:01\r\u001b[K     |███████████████████▊            | 1.3MB 20.3MB/s eta 0:00:01\r\u001b[K     |███████████████████▉            | 1.3MB 20.3MB/s eta 0:00:01\r\u001b[K     |████████████████████            | 1.3MB 20.3MB/s eta 0:00:01\r\u001b[K     |████████████████████▏           | 1.3MB 20.3MB/s eta 0:00:01\r\u001b[K     |████████████████████▍           | 1.3MB 20.3MB/s eta 0:00:01\r\u001b[K     |████████████████████▌           | 1.3MB 20.3MB/s eta 0:00:01\r\u001b[K     |████████████████████▊           | 1.3MB 20.3MB/s eta 0:00:01\r\u001b[K     |████████████████████▉           | 1.3MB 20.3MB/s eta 0:00:01\r\u001b[K     |█████████████████████           | 1.4MB 20.3MB/s eta 0:00:01\r\u001b[K     |█████████████████████▏          | 1.4MB 20.3MB/s eta 0:00:01\r\u001b[K     |█████████████████████▎          | 1.4MB 20.3MB/s eta 0:00:01\r\u001b[K     |█████████████████████▌          | 1.4MB 20.3MB/s eta 0:00:01\r\u001b[K     |█████████████████████▋          | 1.4MB 20.3MB/s eta 0:00:01\r\u001b[K     |█████████████████████▉          | 1.4MB 20.3MB/s eta 0:00:01\r\u001b[K     |██████████████████████          | 1.4MB 20.3MB/s eta 0:00:01\r\u001b[K     |██████████████████████          | 1.4MB 20.3MB/s eta 0:00:01\r\u001b[K     |██████████████████████▎         | 1.4MB 20.3MB/s eta 0:00:01\r\u001b[K     |██████████████████████▍         | 1.4MB 20.3MB/s eta 0:00:01\r\u001b[K     |██████████████████████▋         | 1.5MB 20.3MB/s eta 0:00:01\r\u001b[K     |██████████████████████▊         | 1.5MB 20.3MB/s eta 0:00:01\r\u001b[K     |███████████████████████         | 1.5MB 20.3MB/s eta 0:00:01\r\u001b[K     |███████████████████████         | 1.5MB 20.3MB/s eta 0:00:01\r\u001b[K     |███████████████████████▏        | 1.5MB 20.3MB/s eta 0:00:01\r\u001b[K     |███████████████████████▍        | 1.5MB 20.3MB/s eta 0:00:01\r\u001b[K     |███████████████████████▌        | 1.5MB 20.3MB/s eta 0:00:01\r\u001b[K     |███████████████████████▊        | 1.5MB 20.3MB/s eta 0:00:01\r\u001b[K     |███████████████████████▉        | 1.5MB 20.3MB/s eta 0:00:01\r\u001b[K     |████████████████████████        | 1.5MB 20.3MB/s eta 0:00:01\r\u001b[K     |████████████████████████▏       | 1.6MB 20.3MB/s eta 0:00:01\r\u001b[K     |████████████████████████▎       | 1.6MB 20.3MB/s eta 0:00:01\r\u001b[K     |████████████████████████▌       | 1.6MB 20.3MB/s eta 0:00:01\r\u001b[K     |████████████████████████▋       | 1.6MB 20.3MB/s eta 0:00:01\r\u001b[K     |████████████████████████▉       | 1.6MB 20.3MB/s eta 0:00:01\r\u001b[K     |█████████████████████████       | 1.6MB 20.3MB/s eta 0:00:01\r\u001b[K     |█████████████████████████▏      | 1.6MB 20.3MB/s eta 0:00:01\r\u001b[K     |█████████████████████████▎      | 1.6MB 20.3MB/s eta 0:00:01\r\u001b[K     |█████████████████████████▍      | 1.6MB 20.3MB/s eta 0:00:01\r\u001b[K     |█████████████████████████▋      | 1.6MB 20.3MB/s eta 0:00:01\r\u001b[K     |█████████████████████████▊      | 1.7MB 20.3MB/s eta 0:00:01\r\u001b[K     |██████████████████████████      | 1.7MB 20.3MB/s eta 0:00:01\r\u001b[K     |██████████████████████████      | 1.7MB 20.3MB/s eta 0:00:01\r\u001b[K     |██████████████████████████▎     | 1.7MB 20.3MB/s eta 0:00:01\r\u001b[K     |██████████████████████████▍     | 1.7MB 20.3MB/s eta 0:00:01\r\u001b[K     |██████████████████████████▋     | 1.7MB 20.3MB/s eta 0:00:01\r\u001b[K     |██████████████████████████▊     | 1.7MB 20.3MB/s eta 0:00:01\r\u001b[K     |██████████████████████████▉     | 1.7MB 20.3MB/s eta 0:00:01\r\u001b[K     |███████████████████████████     | 1.7MB 20.3MB/s eta 0:00:01\r\u001b[K     |███████████████████████████▏    | 1.8MB 20.3MB/s eta 0:00:01\r\u001b[K     |███████████████████████████▍    | 1.8MB 20.3MB/s eta 0:00:01\r\u001b[K     |███████████████████████████▌    | 1.8MB 20.3MB/s eta 0:00:01\r\u001b[K     |███████████████████████████▊    | 1.8MB 20.3MB/s eta 0:00:01\r\u001b[K     |███████████████████████████▉    | 1.8MB 20.3MB/s eta 0:00:01\r\u001b[K     |████████████████████████████    | 1.8MB 20.3MB/s eta 0:00:01\r\u001b[K     |████████████████████████████▏   | 1.8MB 20.3MB/s eta 0:00:01\r\u001b[K     |████████████████████████████▎   | 1.8MB 20.3MB/s eta 0:00:01\r\u001b[K     |████████████████████████████▌   | 1.8MB 20.3MB/s eta 0:00:01\r\u001b[K     |████████████████████████████▋   | 1.8MB 20.3MB/s eta 0:00:01\r\u001b[K     |████████████████████████████▉   | 1.9MB 20.3MB/s eta 0:00:01\r\u001b[K     |█████████████████████████████   | 1.9MB 20.3MB/s eta 0:00:01\r\u001b[K     |█████████████████████████████   | 1.9MB 20.3MB/s eta 0:00:01\r\u001b[K     |█████████████████████████████▎  | 1.9MB 20.3MB/s eta 0:00:01\r\u001b[K     |█████████████████████████████▍  | 1.9MB 20.3MB/s eta 0:00:01\r\u001b[K     |█████████████████████████████▋  | 1.9MB 20.3MB/s eta 0:00:01\r\u001b[K     |█████████████████████████████▊  | 1.9MB 20.3MB/s eta 0:00:01\r\u001b[K     |██████████████████████████████  | 1.9MB 20.3MB/s eta 0:00:01\r\u001b[K     |██████████████████████████████  | 1.9MB 20.3MB/s eta 0:00:01\r\u001b[K     |██████████████████████████████▏ | 1.9MB 20.3MB/s eta 0:00:01\r\u001b[K     |██████████████████████████████▍ | 2.0MB 20.3MB/s eta 0:00:01\r\u001b[K     |██████████████████████████████▌ | 2.0MB 20.3MB/s eta 0:00:01\r\u001b[K     |██████████████████████████████▊ | 2.0MB 20.3MB/s eta 0:00:01\r\u001b[K     |██████████████████████████████▉ | 2.0MB 20.3MB/s eta 0:00:01\r\u001b[K     |███████████████████████████████ | 2.0MB 20.3MB/s eta 0:00:01\r\u001b[K     |███████████████████████████████▏| 2.0MB 20.3MB/s eta 0:00:01\r\u001b[K     |███████████████████████████████▎| 2.0MB 20.3MB/s eta 0:00:01\r\u001b[K     |███████████████████████████████▌| 2.0MB 20.3MB/s eta 0:00:01\r\u001b[K     |███████████████████████████████▋| 2.0MB 20.3MB/s eta 0:00:01\r\u001b[K     |███████████████████████████████▉| 2.0MB 20.3MB/s eta 0:00:01\r\u001b[K     |████████████████████████████████| 2.1MB 20.3MB/s eta 0:00:01\r\u001b[K     |████████████████████████████████| 2.1MB 20.3MB/s \n",
            "\u001b[?25hRequirement already satisfied: requests in /usr/local/lib/python3.7/dist-packages (from transformers) (2.23.0)\n",
            "Requirement already satisfied: importlib-metadata; python_version < \"3.8\" in /usr/local/lib/python3.7/dist-packages (from transformers) (3.10.1)\n",
            "Requirement already satisfied: numpy>=1.17 in /usr/local/lib/python3.7/dist-packages (from transformers) (1.19.5)\n",
            "Requirement already satisfied: tqdm>=4.27 in /usr/local/lib/python3.7/dist-packages (from transformers) (4.41.1)\n",
            "Collecting tokenizers<0.11,>=0.10.1\n",
            "\u001b[?25l  Downloading https://files.pythonhosted.org/packages/ae/04/5b870f26a858552025a62f1649c20d29d2672c02ff3c3fb4c688ca46467a/tokenizers-0.10.2-cp37-cp37m-manylinux2010_x86_64.whl (3.3MB)\n",
            "\u001b[K     |████████████████████████████████| 3.3MB 53.1MB/s \n",
            "\u001b[?25hRequirement already satisfied: regex!=2019.12.17 in /usr/local/lib/python3.7/dist-packages (from transformers) (2019.12.20)\n",
            "Requirement already satisfied: filelock in /usr/local/lib/python3.7/dist-packages (from transformers) (3.0.12)\n",
            "Requirement already satisfied: packaging in /usr/local/lib/python3.7/dist-packages (from transformers) (20.9)\n",
            "Collecting sacremoses\n",
            "\u001b[?25l  Downloading https://files.pythonhosted.org/packages/75/ee/67241dc87f266093c533a2d4d3d69438e57d7a90abb216fa076e7d475d4a/sacremoses-0.0.45-py3-none-any.whl (895kB)\n",
            "\u001b[K     |████████████████████████████████| 901kB 49.9MB/s \n",
            "\u001b[?25hRequirement already satisfied: chardet<4,>=3.0.2 in /usr/local/lib/python3.7/dist-packages (from requests->transformers) (3.0.4)\n",
            "Requirement already satisfied: certifi>=2017.4.17 in /usr/local/lib/python3.7/dist-packages (from requests->transformers) (2020.12.5)\n",
            "Requirement already satisfied: urllib3!=1.25.0,!=1.25.1,<1.26,>=1.21.1 in /usr/local/lib/python3.7/dist-packages (from requests->transformers) (1.24.3)\n",
            "Requirement already satisfied: idna<3,>=2.5 in /usr/local/lib/python3.7/dist-packages (from requests->transformers) (2.10)\n",
            "Requirement already satisfied: typing-extensions>=3.6.4; python_version < \"3.8\" in /usr/local/lib/python3.7/dist-packages (from importlib-metadata; python_version < \"3.8\"->transformers) (3.7.4.3)\n",
            "Requirement already satisfied: zipp>=0.5 in /usr/local/lib/python3.7/dist-packages (from importlib-metadata; python_version < \"3.8\"->transformers) (3.4.1)\n",
            "Requirement already satisfied: pyparsing>=2.0.2 in /usr/local/lib/python3.7/dist-packages (from packaging->transformers) (2.4.7)\n",
            "Requirement already satisfied: six in /usr/local/lib/python3.7/dist-packages (from sacremoses->transformers) (1.15.0)\n",
            "Requirement already satisfied: joblib in /usr/local/lib/python3.7/dist-packages (from sacremoses->transformers) (1.0.1)\n",
            "Requirement already satisfied: click in /usr/local/lib/python3.7/dist-packages (from sacremoses->transformers) (7.1.2)\n",
            "Installing collected packages: tokenizers, sacremoses, transformers\n",
            "Successfully installed sacremoses-0.0.45 tokenizers-0.10.2 transformers-4.5.1\n",
            "Collecting sentence-transformers\n",
            "\u001b[?25l  Downloading https://files.pythonhosted.org/packages/c4/87/49dc49e13ac107ce912c2f3f3fd92252c6d4221e88d1e6c16747044a11d8/sentence-transformers-1.1.0.tar.gz (78kB)\n",
            "\u001b[K     |████████████████████████████████| 81kB 8.0MB/s \n",
            "\u001b[?25hRequirement already satisfied, skipping upgrade: transformers<5.0.0,>=3.1.0 in /usr/local/lib/python3.7/dist-packages (from sentence-transformers) (4.5.1)\n",
            "Requirement already satisfied, skipping upgrade: tqdm in /usr/local/lib/python3.7/dist-packages (from sentence-transformers) (4.41.1)\n",
            "Requirement already satisfied, skipping upgrade: torch>=1.6.0 in /usr/local/lib/python3.7/dist-packages (from sentence-transformers) (1.8.1+cu101)\n",
            "Requirement already satisfied, skipping upgrade: numpy in /usr/local/lib/python3.7/dist-packages (from sentence-transformers) (1.19.5)\n",
            "Requirement already satisfied, skipping upgrade: scikit-learn in /usr/local/lib/python3.7/dist-packages (from sentence-transformers) (0.22.2.post1)\n",
            "Requirement already satisfied, skipping upgrade: scipy in /usr/local/lib/python3.7/dist-packages (from sentence-transformers) (1.4.1)\n",
            "Requirement already satisfied, skipping upgrade: nltk in /usr/local/lib/python3.7/dist-packages (from sentence-transformers) (3.2.5)\n",
            "Collecting sentencepiece\n",
            "\u001b[?25l  Downloading https://files.pythonhosted.org/packages/f5/99/e0808cb947ba10f575839c43e8fafc9cc44e4a7a2c8f79c60db48220a577/sentencepiece-0.1.95-cp37-cp37m-manylinux2014_x86_64.whl (1.2MB)\n",
            "\u001b[K     |████████████████████████████████| 1.2MB 13.3MB/s \n",
            "\u001b[?25hRequirement already satisfied, skipping upgrade: filelock in /usr/local/lib/python3.7/dist-packages (from transformers<5.0.0,>=3.1.0->sentence-transformers) (3.0.12)\n",
            "Requirement already satisfied, skipping upgrade: packaging in /usr/local/lib/python3.7/dist-packages (from transformers<5.0.0,>=3.1.0->sentence-transformers) (20.9)\n",
            "Requirement already satisfied, skipping upgrade: requests in /usr/local/lib/python3.7/dist-packages (from transformers<5.0.0,>=3.1.0->sentence-transformers) (2.23.0)\n",
            "Requirement already satisfied, skipping upgrade: importlib-metadata; python_version < \"3.8\" in /usr/local/lib/python3.7/dist-packages (from transformers<5.0.0,>=3.1.0->sentence-transformers) (3.10.1)\n",
            "Requirement already satisfied, skipping upgrade: regex!=2019.12.17 in /usr/local/lib/python3.7/dist-packages (from transformers<5.0.0,>=3.1.0->sentence-transformers) (2019.12.20)\n",
            "Requirement already satisfied, skipping upgrade: sacremoses in /usr/local/lib/python3.7/dist-packages (from transformers<5.0.0,>=3.1.0->sentence-transformers) (0.0.45)\n",
            "Requirement already satisfied, skipping upgrade: tokenizers<0.11,>=0.10.1 in /usr/local/lib/python3.7/dist-packages (from transformers<5.0.0,>=3.1.0->sentence-transformers) (0.10.2)\n",
            "Requirement already satisfied, skipping upgrade: typing-extensions in /usr/local/lib/python3.7/dist-packages (from torch>=1.6.0->sentence-transformers) (3.7.4.3)\n",
            "Requirement already satisfied, skipping upgrade: joblib>=0.11 in /usr/local/lib/python3.7/dist-packages (from scikit-learn->sentence-transformers) (1.0.1)\n",
            "Requirement already satisfied, skipping upgrade: six in /usr/local/lib/python3.7/dist-packages (from nltk->sentence-transformers) (1.15.0)\n",
            "Requirement already satisfied, skipping upgrade: pyparsing>=2.0.2 in /usr/local/lib/python3.7/dist-packages (from packaging->transformers<5.0.0,>=3.1.0->sentence-transformers) (2.4.7)\n",
            "Requirement already satisfied, skipping upgrade: idna<3,>=2.5 in /usr/local/lib/python3.7/dist-packages (from requests->transformers<5.0.0,>=3.1.0->sentence-transformers) (2.10)\n",
            "Requirement already satisfied, skipping upgrade: certifi>=2017.4.17 in /usr/local/lib/python3.7/dist-packages (from requests->transformers<5.0.0,>=3.1.0->sentence-transformers) (2020.12.5)\n",
            "Requirement already satisfied, skipping upgrade: chardet<4,>=3.0.2 in /usr/local/lib/python3.7/dist-packages (from requests->transformers<5.0.0,>=3.1.0->sentence-transformers) (3.0.4)\n",
            "Requirement already satisfied, skipping upgrade: urllib3!=1.25.0,!=1.25.1,<1.26,>=1.21.1 in /usr/local/lib/python3.7/dist-packages (from requests->transformers<5.0.0,>=3.1.0->sentence-transformers) (1.24.3)\n",
            "Requirement already satisfied, skipping upgrade: zipp>=0.5 in /usr/local/lib/python3.7/dist-packages (from importlib-metadata; python_version < \"3.8\"->transformers<5.0.0,>=3.1.0->sentence-transformers) (3.4.1)\n",
            "Requirement already satisfied, skipping upgrade: click in /usr/local/lib/python3.7/dist-packages (from sacremoses->transformers<5.0.0,>=3.1.0->sentence-transformers) (7.1.2)\n",
            "Building wheels for collected packages: sentence-transformers\n",
            "  Building wheel for sentence-transformers (setup.py) ... \u001b[?25l\u001b[?25hdone\n",
            "  Created wheel for sentence-transformers: filename=sentence_transformers-1.1.0-cp37-none-any.whl size=119615 sha256=29e99aa3f26f1dfd5342a022ba31fcd7239dedd7a79dd6bc8bc60229d26e165c\n",
            "  Stored in directory: /root/.cache/pip/wheels/84/cb/21/1066bff3027215c760ca14a198f698bca8fccb92e33e2327eb\n",
            "Successfully built sentence-transformers\n",
            "Installing collected packages: sentencepiece, sentence-transformers\n",
            "Successfully installed sentence-transformers-1.1.0 sentencepiece-0.1.95\n",
            "Requirement already satisfied: torch in /usr/local/lib/python3.7/dist-packages (1.8.1+cu101)\n",
            "Requirement already satisfied: torchvision in /usr/local/lib/python3.7/dist-packages (0.9.1+cu101)\n",
            "Requirement already satisfied: numpy in /usr/local/lib/python3.7/dist-packages (from torch) (1.19.5)\n",
            "Requirement already satisfied: typing-extensions in /usr/local/lib/python3.7/dist-packages (from torch) (3.7.4.3)\n",
            "Requirement already satisfied: pillow>=4.1.1 in /usr/local/lib/python3.7/dist-packages (from torchvision) (7.1.2)\n",
            "Collecting pymorphy2\n",
            "\u001b[?25l  Downloading https://files.pythonhosted.org/packages/07/57/b2ff2fae3376d4f3c697b9886b64a54b476e1a332c67eee9f88e7f1ae8c9/pymorphy2-0.9.1-py3-none-any.whl (55kB)\n",
            "\u001b[K     |████████████████████████████████| 61kB 7.3MB/s \n",
            "\u001b[?25hRequirement already satisfied: docopt>=0.6 in /usr/local/lib/python3.7/dist-packages (from pymorphy2) (0.6.2)\n",
            "Collecting pymorphy2-dicts-ru<3.0,>=2.4\n",
            "\u001b[?25l  Downloading https://files.pythonhosted.org/packages/3a/79/bea0021eeb7eeefde22ef9e96badf174068a2dd20264b9a378f2be1cdd9e/pymorphy2_dicts_ru-2.4.417127.4579844-py2.py3-none-any.whl (8.2MB)\n",
            "\u001b[K     |████████████████████████████████| 8.2MB 21.1MB/s \n",
            "\u001b[?25hCollecting dawg-python>=0.7.1\n",
            "  Downloading https://files.pythonhosted.org/packages/6a/84/ff1ce2071d4c650ec85745766c0047ccc3b5036f1d03559fd46bb38b5eeb/DAWG_Python-0.7.2-py2.py3-none-any.whl\n",
            "Installing collected packages: pymorphy2-dicts-ru, dawg-python, pymorphy2\n",
            "Successfully installed dawg-python-0.7.2 pymorphy2-0.9.1 pymorphy2-dicts-ru-2.4.417127.4579844\n"
          ],
          "name": "stdout"
        }
      ]
    },
    {
      "cell_type": "code",
      "metadata": {
        "id": "3MNAwpMY_lw1",
        "colab": {
          "base_uri": "https://localhost:8080/"
        },
        "outputId": "8b9d0386-8213-495f-867a-38d4db855f14"
      },
      "source": [
        "!pip3 install nltk"
      ],
      "execution_count": null,
      "outputs": [
        {
          "output_type": "stream",
          "text": [
            "Requirement already satisfied: nltk in /usr/local/lib/python3.7/dist-packages (3.2.5)\n",
            "Requirement already satisfied: six in /usr/local/lib/python3.7/dist-packages (from nltk) (1.15.0)\n"
          ],
          "name": "stdout"
        }
      ]
    },
    {
      "cell_type": "code",
      "metadata": {
        "id": "tpbujas__q5n"
      },
      "source": [
        "import torch\n",
        "from torch.utils.data import TensorDataset, random_split\n",
        "from torchtext import data\n",
        "from transformers import AutoTokenizer, AutoModel"
      ],
      "execution_count": null,
      "outputs": []
    },
    {
      "cell_type": "code",
      "metadata": {
        "id": "PO43vDVP_tsz",
        "colab": {
          "base_uri": "https://localhost:8080/"
        },
        "outputId": "4f122f98-3041-42cf-c434-2047f079dffa"
      },
      "source": [
        "!unzip -o '/content/drive/MyDrive/Colab Notebooks/Distillation/test-lenta.zip'"
      ],
      "execution_count": null,
      "outputs": [
        {
          "output_type": "stream",
          "text": [
            "Archive:  /content/drive/MyDrive/Colab Notebooks/Distillation/test-lenta.zip\n",
            "  inflating: test-lenta.csv          \n"
          ],
          "name": "stdout"
        }
      ]
    },
    {
      "cell_type": "markdown",
      "metadata": {
        "id": "3vvL4fZjxoik"
      },
      "source": [
        ""
      ]
    },
    {
      "cell_type": "markdown",
      "metadata": {
        "id": "E_FIZeTMx0Me"
      },
      "source": [
        "# Данные\n",
        "\n",
        "\n",
        "Подгружаем фильтрованный датасет test-lenta.csv"
      ]
    },
    {
      "cell_type": "code",
      "metadata": {
        "colab": {
          "base_uri": "https://localhost:8080/",
          "height": 204
        },
        "id": "8N29MQqL_y2x",
        "outputId": "90cfbe6b-d398-4b37-a8ca-991ce2acc7df"
      },
      "source": [
        "import pandas as pd\n",
        "\n",
        "dataset = pd.read_csv('test-lenta.csv')\n",
        "dataset.head()"
      ],
      "execution_count": null,
      "outputs": [
        {
          "output_type": "execute_result",
          "data": {
            "text/html": [
              "<div>\n",
              "<style scoped>\n",
              "    .dataframe tbody tr th:only-of-type {\n",
              "        vertical-align: middle;\n",
              "    }\n",
              "\n",
              "    .dataframe tbody tr th {\n",
              "        vertical-align: top;\n",
              "    }\n",
              "\n",
              "    .dataframe thead th {\n",
              "        text-align: right;\n",
              "    }\n",
              "</style>\n",
              "<table border=\"1\" class=\"dataframe\">\n",
              "  <thead>\n",
              "    <tr style=\"text-align: right;\">\n",
              "      <th></th>\n",
              "      <th>Unnamed: 0</th>\n",
              "      <th>topic</th>\n",
              "      <th>title</th>\n",
              "    </tr>\n",
              "  </thead>\n",
              "  <tbody>\n",
              "    <tr>\n",
              "      <th>0</th>\n",
              "      <td>0</td>\n",
              "      <td>Из жизни</td>\n",
              "      <td>Изнывающего от жары олененка застали за «намат...</td>\n",
              "    </tr>\n",
              "    <tr>\n",
              "      <th>1</th>\n",
              "      <td>1</td>\n",
              "      <td>Россия</td>\n",
              "      <td>РБК: Абхазия официально просит у России защиты...</td>\n",
              "    </tr>\n",
              "    <tr>\n",
              "      <th>2</th>\n",
              "      <td>2</td>\n",
              "      <td>Наука и техника</td>\n",
              "      <td>Россия построит подводный флот Вьетнама</td>\n",
              "    </tr>\n",
              "    <tr>\n",
              "      <th>3</th>\n",
              "      <td>3</td>\n",
              "      <td>Россия</td>\n",
              "      <td>Большинство россиян считает операцию в Беслане...</td>\n",
              "    </tr>\n",
              "    <tr>\n",
              "      <th>4</th>\n",
              "      <td>4</td>\n",
              "      <td>Культура</td>\n",
              "      <td>\"Одержимость\" возглавила рейтинг самых кассовы...</td>\n",
              "    </tr>\n",
              "  </tbody>\n",
              "</table>\n",
              "</div>"
            ],
            "text/plain": [
              "   Unnamed: 0  ...                                              title\n",
              "0           0  ...  Изнывающего от жары олененка застали за «намат...\n",
              "1           1  ...  РБК: Абхазия официально просит у России защиты...\n",
              "2           2  ...            Россия построит подводный флот Вьетнама\n",
              "3           3  ...  Большинство россиян считает операцию в Беслане...\n",
              "4           4  ...  \"Одержимость\" возглавила рейтинг самых кассовы...\n",
              "\n",
              "[5 rows x 3 columns]"
            ]
          },
          "metadata": {
            "tags": []
          },
          "execution_count": 6
        }
      ]
    },
    {
      "cell_type": "code",
      "metadata": {
        "id": "YAyDewy2Q3yG",
        "colab": {
          "base_uri": "https://localhost:8080/",
          "height": 262,
          "referenced_widgets": [
            "fd4a8ed60e0f4160bf1fb1caaa093de5",
            "1767a85362784588a8d4f5e57dc15520",
            "186f8d1a6899452b89a264cb6028a2b9",
            "cef247c514814732b68a12b9a08076b5",
            "6c9ebb74301049d984bd05aeb29b91d4",
            "7264303c6a754be69d673c80e33b8555",
            "0510fb9e7ccd41f5b040ae3143034c1c",
            "7be5d20796b742c5b489cbf4571078fa",
            "2a77054a45b646f1a9ca6ad2a9709501",
            "3e0f36039b6a47f8bb24ef7542cb5ea6",
            "722e4b6f6f1445b7a3066f6e6868e18c",
            "71b13a39397b444d9afc94b428bb6998",
            "c6022f93522b4ba3b1c7e2a024dcbdbc",
            "244d2d77f3fb4707aef196d057ffdada",
            "cdceb28b457447ffb40d6e00f5587ab6",
            "70504424e9a24af9aa3767829d524684",
            "18ed322ad2034c1d95ddc4f0d7d4b6b0",
            "0d9421b8d2b542c88ea66a29331c05fa",
            "1c6611a1726147cfb997c24cccc5478a",
            "d1535a0ad06140dbba13b60356c452dc",
            "548b0f8ac8a544718cf3096cdb298c2e",
            "16d171adbcf94726945cf5e3e8f39238",
            "ab46fe2a3c5d4088967abf25c74b753d",
            "a1428d1388ad46f1852c3980c7f52346",
            "f9ac02961d5c4cdc9d5d4613c3eac3fa",
            "22b78c1d97d1449b9eb70a47b63ba5c9",
            "c87dd327cc244455878444cf5f543a54",
            "eb443340e1cb4d769da5915b8080dc8e",
            "852f7938e576446e8291f087e50f7d32",
            "a5cf88d33b104407a126eb1a1f8f93ed",
            "05bd3a5696da44b595eedd274afd8df3",
            "03b178c3e0f348efabd102e0e80cdb21",
            "6b29651287fc4b6c9b701b362bad8106",
            "234a31e4e85046c2a47c854fd02fd06a",
            "359302281a784a6fa80e823fa8d11af2",
            "6128f14ac3534bd69cdd4b62184cccb4",
            "b3b36418cc75496383a4c201a4c7a617",
            "6e10e1b06a9e46d79ce232afaa0c8c9c",
            "5b39533f2bf1413a97bce0c34af968cb",
            "fe81e3e70c64483ab43dc5eb0e47112f"
          ]
        },
        "outputId": "796bb8d4-bca9-4c8e-8a98-35e0ada9fd8f"
      },
      "source": [
        "# Подгружаем SBERT-модель и SBERT-токенайзер \n",
        "tokenizer = AutoTokenizer.from_pretrained(\"sberbank-ai/sbert_large_nlu_ru\")\n",
        "model = AutoModel.from_pretrained(\"sberbank-ai/sbert_large_nlu_ru\")"
      ],
      "execution_count": null,
      "outputs": [
        {
          "output_type": "display_data",
          "data": {
            "application/vnd.jupyter.widget-view+json": {
              "model_id": "fd4a8ed60e0f4160bf1fb1caaa093de5",
              "version_minor": 0,
              "version_major": 2
            },
            "text/plain": [
              "HBox(children=(FloatProgress(value=0.0, description='Downloading', max=655.0, style=ProgressStyle(description_…"
            ]
          },
          "metadata": {
            "tags": []
          }
        },
        {
          "output_type": "stream",
          "text": [
            "\n"
          ],
          "name": "stdout"
        },
        {
          "output_type": "display_data",
          "data": {
            "application/vnd.jupyter.widget-view+json": {
              "model_id": "2a77054a45b646f1a9ca6ad2a9709501",
              "version_minor": 0,
              "version_major": 2
            },
            "text/plain": [
              "HBox(children=(FloatProgress(value=0.0, description='Downloading', max=1780720.0, style=ProgressStyle(descript…"
            ]
          },
          "metadata": {
            "tags": []
          }
        },
        {
          "output_type": "stream",
          "text": [
            "\n"
          ],
          "name": "stdout"
        },
        {
          "output_type": "display_data",
          "data": {
            "application/vnd.jupyter.widget-view+json": {
              "model_id": "18ed322ad2034c1d95ddc4f0d7d4b6b0",
              "version_minor": 0,
              "version_major": 2
            },
            "text/plain": [
              "HBox(children=(FloatProgress(value=0.0, description='Downloading', max=112.0, style=ProgressStyle(description_…"
            ]
          },
          "metadata": {
            "tags": []
          }
        },
        {
          "output_type": "stream",
          "text": [
            "\n"
          ],
          "name": "stdout"
        },
        {
          "output_type": "display_data",
          "data": {
            "application/vnd.jupyter.widget-view+json": {
              "model_id": "f9ac02961d5c4cdc9d5d4613c3eac3fa",
              "version_minor": 0,
              "version_major": 2
            },
            "text/plain": [
              "HBox(children=(FloatProgress(value=0.0, description='Downloading', max=323.0, style=ProgressStyle(description_…"
            ]
          },
          "metadata": {
            "tags": []
          }
        },
        {
          "output_type": "stream",
          "text": [
            "\n"
          ],
          "name": "stdout"
        },
        {
          "output_type": "display_data",
          "data": {
            "application/vnd.jupyter.widget-view+json": {
              "model_id": "6b29651287fc4b6c9b701b362bad8106",
              "version_minor": 0,
              "version_major": 2
            },
            "text/plain": [
              "HBox(children=(FloatProgress(value=0.0, description='Downloading', max=1707791567.0, style=ProgressStyle(descr…"
            ]
          },
          "metadata": {
            "tags": []
          }
        },
        {
          "output_type": "stream",
          "text": [
            "\n"
          ],
          "name": "stdout"
        }
      ]
    },
    {
      "cell_type": "code",
      "metadata": {
        "colab": {
          "base_uri": "https://localhost:8080/"
        },
        "id": "J_Dc2rWWMw3e",
        "outputId": "a406d428-e9c4-4a01-e003-2ee5e4b55be9"
      },
      "source": [
        "import pymorphy2\n",
        "import nltk\n",
        "from tokenizers import Tokenizer, models, pre_tokenizers, decoders, processors\n",
        "from nltk.corpus import stopwords\n",
        "from nltk.tokenize import sent_tokenize, word_tokenize,RegexpTokenizer\n",
        "nltk.download('stopwords')\n",
        "stop_words = stopwords.words(\"russian\")\n",
        "morph = pymorphy2.MorphAnalyzer()\n",
        "\n",
        "delimer = RegexpTokenizer(r'\\w+')\n",
        "\n",
        "# лемматизация входного слова\n",
        "def lemmatize(word):\n",
        "  p = morph.parse(word)[0]\n",
        "  p = p.normal_form\n",
        "  return p\n",
        "\n",
        "# удаление стоп-слов\n",
        "def get_without_stopwords(s):\n",
        "\n",
        "  words = delimer.tokenize(s)\n",
        "  without_stop_words = [lemmatize(word) for word in words if not word in stop_words]\n",
        "  return ' '.join(without_stop_words)\n",
        "\n",
        "# приведение к нижнему регистру\n",
        "def to_lower(sen):\n",
        "  return sen.lower()"
      ],
      "execution_count": null,
      "outputs": [
        {
          "output_type": "stream",
          "text": [
            "[nltk_data] Downloading package stopwords to /root/nltk_data...\n",
            "[nltk_data]   Unzipping corpora/stopwords.zip.\n"
          ],
          "name": "stdout"
        }
      ]
    },
    {
      "cell_type": "code",
      "metadata": {
        "id": "CVCajR_Jo-UZ"
      },
      "source": [
        "# конвертация к формату torch.tensor\n",
        "def to_dataset(x, y):\n",
        "    torch_x = torch.tensor(x, dtype=torch.long)\n",
        "    torch_y = torch.tensor(y, dtype=torch.float)\n",
        "    return TensorDataset(torch_x, torch_y)"
      ],
      "execution_count": null,
      "outputs": []
    },
    {
      "cell_type": "code",
      "metadata": {
        "id": "BYIz6bYhsoTa"
      },
      "source": [
        "# изменение устройства\n",
        "def device():\n",
        "    return torch.device(\"cuda\" if torch.cuda.is_available() else \"cpu\")\n",
        "\n",
        "\n",
        "def to_device(text, real_label):\n",
        "    text = text.to(device())\n",
        "    real_label = real_label.to(device())\n",
        "    return text, real_label\n"
      ],
      "execution_count": null,
      "outputs": []
    },
    {
      "cell_type": "code",
      "metadata": {
        "id": "87RTk4tf3_F7"
      },
      "source": [
        "# функция подсчета количества весов у модели\n",
        "def get_weights(model):\n",
        "  number = 0\n",
        "  for key in model.state_dict():\n",
        "    number += model.state_dict()[key].shape[0]\n",
        "  return number"
      ],
      "execution_count": null,
      "outputs": []
    },
    {
      "cell_type": "code",
      "metadata": {
        "id": "V50V3gi1_2AB"
      },
      "source": [
        "from torch import nn\n",
        "from torch.autograd import Variable\n",
        "\n",
        "\n",
        "# Модель-ученик\n",
        "class SimpleLSTM(nn.Module):\n",
        "\n",
        "    def __init__(self, input_dim, embedding_dim, hidden_dim, output_dim, n_layers,\n",
        "                 bidirectional, dropout, batch_size, device=None):\n",
        "        super(SimpleLSTM, self).__init__()\n",
        "        self.batch_size = batch_size\n",
        "        self.hidden_dim = hidden_dim\n",
        "        self.n_layers = n_layers\n",
        "        self.embedding = nn.Embedding(input_dim, embedding_dim)\n",
        "\n",
        "        self.rnn = nn.LSTM(embedding_dim,\n",
        "                           hidden_dim,\n",
        "                           num_layers=n_layers,\n",
        "                           bidirectional=bidirectional,\n",
        "                           dropout=dropout)\n",
        "\n",
        "        self.fc = nn.Linear(hidden_dim * 2, output_dim)\n",
        "        self.dropout = nn.Dropout(dropout)\n",
        "        self.device = self.init_device(device)\n",
        "        self.hidden = self.init_hidden()\n",
        "\n",
        "    @staticmethod\n",
        "    def init_device(device):\n",
        "        if device is None:\n",
        "            return torch.device('cuda')\n",
        "        return device\n",
        "\n",
        "    def init_hidden(self):\n",
        "        return (Variable(torch.zeros(2 * self.n_layers, self.batch_size, self.hidden_dim).to(self.device)),\n",
        "                Variable(torch.zeros(2 * self.n_layers, self.batch_size, self.hidden_dim).to(self.device)))\n",
        "\n",
        "    def forward(self, text, text_lengths=None):\n",
        "        self.hidden = self.init_hidden()\n",
        "        x = self.embedding(text)\n",
        "        x, self.hidden = self.rnn(x, self.hidden)\n",
        "        hidden, cell = self.hidden\n",
        "        hidden = self.dropout(torch.cat((hidden[-2, :, :], hidden[-1, :, :]), dim=1))\n",
        "        x = self.fc(hidden)\n",
        "\n",
        "        return x"
      ],
      "execution_count": null,
      "outputs": []
    },
    {
      "cell_type": "code",
      "metadata": {
        "id": "0_itiVkEC7pJ"
      },
      "source": [
        "def get_optimizer(model):\n",
        "    optimizer = torch.optim.Adam(model.parameters())\n",
        "    scheduler = torch.optim.lr_scheduler.StepLR(optimizer, 2, gamma=0.9)\n",
        "    return optimizer, scheduler\n",
        "\n",
        "\n",
        "def epoch_train_func(model, dataset, loss_func, batch_size):\n",
        "    train_loss = 0\n",
        "    train_sampler = RandomSampler(dataset)\n",
        "    data_loader = DataLoader(dataset, sampler=train_sampler,\n",
        "                             batch_size=batch_size,\n",
        "                             drop_last=True)\n",
        "    model.train()\n",
        "    optimizer, scheduler = get_optimizer(model)\n",
        "    for i, (tokens, embedding) in enumerate(tqdm(data_loader, desc='Train')):\n",
        "        tokens, embedding = to_device(tokens, embedding)\n",
        "        model.zero_grad()\n",
        "        output = model(tokens.t(), None).squeeze(1)\n",
        "        loss = loss_func(output, embedding)\n",
        "        loss.backward()\n",
        "        optimizer.step()\n",
        "        train_loss += loss.item()\n",
        "    scheduler.step()\n",
        "    return train_loss / len(data_loader)\n",
        "\n",
        "def epoch_evaluate_func(model, eval_dataset, loss_func, batch_size):\n",
        "    eval_sampler = SequentialSampler(eval_dataset)\n",
        "    data_loader = DataLoader(eval_dataset, sampler=eval_sampler,\n",
        "                             batch_size=batch_size,\n",
        "                             drop_last=True)\n",
        "\n",
        "    eval_loss = 0.0\n",
        "    model.eval()\n",
        "    for i, (tokens, embedding) in enumerate(tqdm(data_loader, desc='Val')):\n",
        "        tokens, embedding = to_device(tokens, embedding)\n",
        "        output = model(tokens.t(), None).squeeze(1)\n",
        "        loss = loss_func(output, embedding)\n",
        "        eval_loss += loss.item()\n",
        "\n",
        "    return eval_loss / len(data_loader)"
      ],
      "execution_count": null,
      "outputs": []
    },
    {
      "cell_type": "code",
      "metadata": {
        "id": "Vye8noFAArwA"
      },
      "source": [
        "from tqdm import tqdm\n",
        "import matplotlib.pyplot as plt\n",
        "import os\n",
        "\n",
        "\n",
        "class LSTMBaseline(object):\n",
        "    vocab_name = 'distillation_model.pt'\n",
        "    weights_name = 'simple_lstm.pt'\n",
        "\n",
        "    def __init__(self, settings):\n",
        "        self.settings = settings\n",
        "        self.criterion = torch.nn.MSELoss().to(device())\n",
        "\n",
        "    def loss(self, student_embedding, teacher_embedding):\n",
        "        return self.criterion(student_embedding, teacher_embedding)\n",
        "\n",
        "    def model(self, text_field):\n",
        "        model = SimpleLSTM(\n",
        "            input_dim=len(text_field.vocab),\n",
        "            embedding_dim=50,\n",
        "            hidden_dim=256,\n",
        "            output_dim=1024,\n",
        "            n_layers=2,\n",
        "            bidirectional=True,\n",
        "            dropout=0.2,\n",
        "            batch_size=self.settings['train_batch_size'])\n",
        "        return model\n",
        "\n",
        "    def train(self, X, y, output_dir, tokenizer):        \n",
        "        dataset = to_dataset(X, y)\n",
        "        val_len = int(len(dataset) * 0.1)\n",
        "        train_dataset, val_dataset = random_split(dataset, (len(dataset) - val_len, val_len))\n",
        "\n",
        "        model = self.model(tokenizer)\n",
        "        model.to(device())\n",
        "\n",
        "        self.full_train(model, train_dataset, val_dataset, output_dir)\n",
        "\n",
        "    def show_training(self, loss_values, val_loss_values):\n",
        "\n",
        "        epochs = range(1, settings['num_train_epochs'] + 1)\n",
        "\n",
        "        plt.plot(epochs, loss_values, 'bo', label='Training loss')\n",
        "        plt.plot(epochs, val_loss_values, 'b', label='Validation loss')\n",
        "\n",
        "        plt.title('Training and validation loss')\n",
        "        plt.xlabel('Epochs')\n",
        "        plt.ylabel('Loss')\n",
        "        plt.legend()\n",
        "\n",
        "        plt.show()\n",
        "\n",
        "    def full_train(self, model, train_dataset, val_dataset, output_dir):\n",
        "\n",
        "        train_loss_list = []\n",
        "        eval_loss_list = []\n",
        "\n",
        "        train_settings = self.settings\n",
        "        num_train_epochs = train_settings['num_train_epochs']\n",
        "        best_eval_loss = None\n",
        "        for epoch in range(num_train_epochs):\n",
        "            train_loss = epoch_train_func(model, train_dataset, self.loss, self.settings['train_batch_size'])\n",
        "            eval_loss = epoch_evaluate_func(model, val_dataset, self.loss, self.settings['eval_batch_size'])\n",
        "\n",
        "            train_loss_list.append(train_loss)\n",
        "            eval_loss_list.append(eval_loss)\n",
        "\n",
        "            if best_eval_loss == None or eval_loss < best_eval_loss:\n",
        "                best_eval_loss = eval_loss\n",
        "                torch.save(model.state_dict(), os.path.join(output_dir, self.weights_name))\n",
        "\n",
        "        self.show_training(train_loss_list, eval_loss_list)\n",
        "        "
      ],
      "execution_count": null,
      "outputs": []
    },
    {
      "cell_type": "code",
      "metadata": {
        "id": "v6lIvh_Gl9Jz"
      },
      "source": [
        "# количество предложений в выборке\n",
        "DATASET_SIZE = 1000"
      ],
      "execution_count": null,
      "outputs": []
    },
    {
      "cell_type": "code",
      "metadata": {
        "id": "wc1pnhONG5e9"
      },
      "source": [
        "from tqdm import tqdm\n",
        "max_len = 20\n",
        "X = list(dataset['title'][:DATASET_SIZE].apply(to_lower).apply(get_without_stopwords))\n",
        "\n",
        "X_encoded = tokenizer(X, padding=True, truncation=True, max_length=max_len, return_tensors='pt')"
      ],
      "execution_count": null,
      "outputs": []
    },
    {
      "cell_type": "code",
      "metadata": {
        "id": "vM-4ZLu8kK0w"
      },
      "source": [
        "with torch.no_grad():\n",
        "    model_output = model(**X_encoded)\n",
        "    sentence_embeddings = model_output[0][:,0] #Take the first token ([CLS]) from each sentence "
      ],
      "execution_count": null,
      "outputs": []
    },
    {
      "cell_type": "code",
      "metadata": {
        "id": "jfkjHKuMsM9M"
      },
      "source": [
        "settings = {\n",
        "    'train_batch_size' : 32,\n",
        "    'num_train_epochs' : 6,\n",
        "    'eval_batch_size': 32,\n",
        "\n",
        "}"
      ],
      "execution_count": null,
      "outputs": []
    },
    {
      "cell_type": "code",
      "metadata": {
        "id": "usJH4GC5pUAw"
      },
      "source": [
        "baseline = LSTMBaseline(settings)"
      ],
      "execution_count": null,
      "outputs": []
    },
    {
      "cell_type": "code",
      "metadata": {
        "colab": {
          "base_uri": "https://localhost:8080/",
          "height": 395
        },
        "id": "DE0E6EBdtFP9",
        "outputId": "785381d3-e9cf-4b59-baf0-ca834af226c5"
      },
      "source": [
        "baseline.train(X_encoded['input_ids'], sentence_embeddings, '/content/drive/MyDrive/Colab Notebooks/Distillation', tokenizer)"
      ],
      "execution_count": null,
      "outputs": [
        {
          "output_type": "stream",
          "text": [
            "/usr/local/lib/python3.7/dist-packages/ipykernel_launcher.py:3: UserWarning: To copy construct from a tensor, it is recommended to use sourceTensor.clone().detach() or sourceTensor.clone().detach().requires_grad_(True), rather than torch.tensor(sourceTensor).\n",
            "  This is separate from the ipykernel package so we can avoid doing imports until\n",
            "/usr/local/lib/python3.7/dist-packages/ipykernel_launcher.py:4: UserWarning: To copy construct from a tensor, it is recommended to use sourceTensor.clone().detach() or sourceTensor.clone().detach().requires_grad_(True), rather than torch.tensor(sourceTensor).\n",
            "  after removing the cwd from sys.path.\n"
          ],
          "name": "stderr"
        },
        {
          "output_type": "error",
          "ename": "NameError",
          "evalue": "ignored",
          "traceback": [
            "\u001b[0;31m---------------------------------------------------------------------------\u001b[0m",
            "\u001b[0;31mNameError\u001b[0m                                 Traceback (most recent call last)",
            "\u001b[0;32m<ipython-input-20-f8b2f411c74c>\u001b[0m in \u001b[0;36m<module>\u001b[0;34m()\u001b[0m\n\u001b[0;32m----> 1\u001b[0;31m \u001b[0mbaseline\u001b[0m\u001b[0;34m.\u001b[0m\u001b[0mtrain\u001b[0m\u001b[0;34m(\u001b[0m\u001b[0mX_encoded\u001b[0m\u001b[0;34m[\u001b[0m\u001b[0;34m'input_ids'\u001b[0m\u001b[0;34m]\u001b[0m\u001b[0;34m,\u001b[0m \u001b[0msentence_embeddings\u001b[0m\u001b[0;34m,\u001b[0m \u001b[0;34m'/content/drive/MyDrive/Colab Notebooks/Distillation'\u001b[0m\u001b[0;34m,\u001b[0m \u001b[0mtokenizer\u001b[0m\u001b[0;34m)\u001b[0m\u001b[0;34m\u001b[0m\u001b[0;34m\u001b[0m\u001b[0m\n\u001b[0m",
            "\u001b[0;32m<ipython-input-14-9d1a77df20c6>\u001b[0m in \u001b[0;36mtrain\u001b[0;34m(self, X, y, output_dir, tokenizer)\u001b[0m\n\u001b[1;32m     35\u001b[0m         \u001b[0mmodel\u001b[0m\u001b[0;34m.\u001b[0m\u001b[0mto\u001b[0m\u001b[0;34m(\u001b[0m\u001b[0mdevice\u001b[0m\u001b[0;34m(\u001b[0m\u001b[0;34m)\u001b[0m\u001b[0;34m)\u001b[0m\u001b[0;34m\u001b[0m\u001b[0;34m\u001b[0m\u001b[0m\n\u001b[1;32m     36\u001b[0m \u001b[0;34m\u001b[0m\u001b[0m\n\u001b[0;32m---> 37\u001b[0;31m         \u001b[0mself\u001b[0m\u001b[0;34m.\u001b[0m\u001b[0mfull_train\u001b[0m\u001b[0;34m(\u001b[0m\u001b[0mmodel\u001b[0m\u001b[0;34m,\u001b[0m \u001b[0mtrain_dataset\u001b[0m\u001b[0;34m,\u001b[0m \u001b[0mval_dataset\u001b[0m\u001b[0;34m,\u001b[0m \u001b[0moutput_dir\u001b[0m\u001b[0;34m)\u001b[0m\u001b[0;34m\u001b[0m\u001b[0;34m\u001b[0m\u001b[0m\n\u001b[0m\u001b[1;32m     38\u001b[0m \u001b[0;34m\u001b[0m\u001b[0m\n\u001b[1;32m     39\u001b[0m     \u001b[0;32mdef\u001b[0m \u001b[0mshow_training\u001b[0m\u001b[0;34m(\u001b[0m\u001b[0mself\u001b[0m\u001b[0;34m,\u001b[0m \u001b[0mloss_values\u001b[0m\u001b[0;34m,\u001b[0m \u001b[0mval_loss_values\u001b[0m\u001b[0;34m)\u001b[0m\u001b[0;34m:\u001b[0m\u001b[0;34m\u001b[0m\u001b[0;34m\u001b[0m\u001b[0m\n",
            "\u001b[0;32m<ipython-input-14-9d1a77df20c6>\u001b[0m in \u001b[0;36mfull_train\u001b[0;34m(self, model, train_dataset, val_dataset, output_dir)\u001b[0m\n\u001b[1;32m     60\u001b[0m         \u001b[0mbest_eval_loss\u001b[0m \u001b[0;34m=\u001b[0m \u001b[0;32mNone\u001b[0m\u001b[0;34m\u001b[0m\u001b[0;34m\u001b[0m\u001b[0m\n\u001b[1;32m     61\u001b[0m         \u001b[0;32mfor\u001b[0m \u001b[0mepoch\u001b[0m \u001b[0;32min\u001b[0m \u001b[0mrange\u001b[0m\u001b[0;34m(\u001b[0m\u001b[0mnum_train_epochs\u001b[0m\u001b[0;34m)\u001b[0m\u001b[0;34m:\u001b[0m\u001b[0;34m\u001b[0m\u001b[0;34m\u001b[0m\u001b[0m\n\u001b[0;32m---> 62\u001b[0;31m             \u001b[0mtrain_loss\u001b[0m \u001b[0;34m=\u001b[0m \u001b[0mepoch_train_func\u001b[0m\u001b[0;34m(\u001b[0m\u001b[0mmodel\u001b[0m\u001b[0;34m,\u001b[0m \u001b[0mtrain_dataset\u001b[0m\u001b[0;34m,\u001b[0m \u001b[0mself\u001b[0m\u001b[0;34m.\u001b[0m\u001b[0mloss\u001b[0m\u001b[0;34m,\u001b[0m \u001b[0mself\u001b[0m\u001b[0;34m.\u001b[0m\u001b[0msettings\u001b[0m\u001b[0;34m[\u001b[0m\u001b[0;34m'train_batch_size'\u001b[0m\u001b[0;34m]\u001b[0m\u001b[0;34m)\u001b[0m\u001b[0;34m\u001b[0m\u001b[0;34m\u001b[0m\u001b[0m\n\u001b[0m\u001b[1;32m     63\u001b[0m             \u001b[0meval_loss\u001b[0m \u001b[0;34m=\u001b[0m \u001b[0mepoch_evaluate_func\u001b[0m\u001b[0;34m(\u001b[0m\u001b[0mmodel\u001b[0m\u001b[0;34m,\u001b[0m \u001b[0mval_dataset\u001b[0m\u001b[0;34m,\u001b[0m \u001b[0mself\u001b[0m\u001b[0;34m.\u001b[0m\u001b[0mloss\u001b[0m\u001b[0;34m,\u001b[0m \u001b[0mself\u001b[0m\u001b[0;34m.\u001b[0m\u001b[0msettings\u001b[0m\u001b[0;34m[\u001b[0m\u001b[0;34m'eval_batch_size'\u001b[0m\u001b[0;34m]\u001b[0m\u001b[0;34m)\u001b[0m\u001b[0;34m\u001b[0m\u001b[0;34m\u001b[0m\u001b[0m\n\u001b[1;32m     64\u001b[0m \u001b[0;34m\u001b[0m\u001b[0m\n",
            "\u001b[0;32m<ipython-input-13-911520618900>\u001b[0m in \u001b[0;36mepoch_train_func\u001b[0;34m(model, dataset, loss_func, batch_size)\u001b[0m\n\u001b[1;32m      7\u001b[0m \u001b[0;32mdef\u001b[0m \u001b[0mepoch_train_func\u001b[0m\u001b[0;34m(\u001b[0m\u001b[0mmodel\u001b[0m\u001b[0;34m,\u001b[0m \u001b[0mdataset\u001b[0m\u001b[0;34m,\u001b[0m \u001b[0mloss_func\u001b[0m\u001b[0;34m,\u001b[0m \u001b[0mbatch_size\u001b[0m\u001b[0;34m)\u001b[0m\u001b[0;34m:\u001b[0m\u001b[0;34m\u001b[0m\u001b[0;34m\u001b[0m\u001b[0m\n\u001b[1;32m      8\u001b[0m     \u001b[0mtrain_loss\u001b[0m \u001b[0;34m=\u001b[0m \u001b[0;36m0\u001b[0m\u001b[0;34m\u001b[0m\u001b[0;34m\u001b[0m\u001b[0m\n\u001b[0;32m----> 9\u001b[0;31m     \u001b[0mtrain_sampler\u001b[0m \u001b[0;34m=\u001b[0m \u001b[0mRandomSampler\u001b[0m\u001b[0;34m(\u001b[0m\u001b[0mdataset\u001b[0m\u001b[0;34m)\u001b[0m\u001b[0;34m\u001b[0m\u001b[0;34m\u001b[0m\u001b[0m\n\u001b[0m\u001b[1;32m     10\u001b[0m     data_loader = DataLoader(dataset, sampler=train_sampler,\n\u001b[1;32m     11\u001b[0m                              \u001b[0mbatch_size\u001b[0m\u001b[0;34m=\u001b[0m\u001b[0mbatch_size\u001b[0m\u001b[0;34m,\u001b[0m\u001b[0;34m\u001b[0m\u001b[0;34m\u001b[0m\u001b[0m\n",
            "\u001b[0;31mNameError\u001b[0m: name 'RandomSampler' is not defined"
          ]
        }
      ]
    }
  ]
}